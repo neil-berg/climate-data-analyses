{
 "cells": [
  {
   "cell_type": "markdown",
   "metadata": {},
   "source": [
    "# <span style=\"text-decoration: underline\">AOS 51 Lab: Data Analysis for Climate Science, Session #2</span>\n",
    "# <span>🌎🔥 👩🏿‍💻👩🏾‍💻 👨🏽‍💻👩🏼‍💻 👨🏼‍💻👨🏾‍💻👩🏽‍💻 👨🏿‍💻</span>\n",
    "\n",
    "#### In the first lab session, we learned about time series of climate data. These took the form of lists, Numpy arrays, or Pandas Series.\n",
    "\n",
    "#### Today, we'll extend our data analysis skills to examine tables of time series using Pandas and then take a deep dive into Matplotlib for fancy plots. \n",
    "---"
   ]
  },
  {
   "cell_type": "code",
   "execution_count": 53,
   "metadata": {},
   "outputs": [],
   "source": [
    "# importing Pandas, Numpy, and Matplotlib for today's lab\n",
    "import pandas as pd\n",
    "import numpy as np\n",
    "import matplotlib.pyplot as plt"
   ]
  },
  {
   "cell_type": "markdown",
   "metadata": {},
   "source": [
    "# Creating DataFrames\n",
    "\n",
    "Recall that a Pandas Series is simply a time series of data points with a labelled index. \n",
    "\n",
    "Oftentimes, we'll be working with time series of multiple variables (for instance, precipitation and temperature), and for that, we'll want to use a \"DataFrame\".\n",
    "\n",
    "Let's create a [Pandas DataFrame](https://pandas.pydata.org/pandas-docs/stable/generated/pandas.DataFrame.html) using three Series of monthly mean, max, and min temperatures over LA spanning during 2017:"
   ]
  },
  {
   "cell_type": "code",
   "execution_count": 54,
   "metadata": {},
   "outputs": [],
   "source": [
    "tavg = pd.Series([55.8, 57.2, 61.0, 63.6, 63.3, 66.7, 71.7, 72.0, 71.5, 71.5, 65.6, 61.4])\n",
    "tmax = pd.Series([62.7, 62.6, 69.3, 71.9, 69.4, 72.6, 77.5, 77.3, 78.5, 80.4, 73.7, 72.4])\n",
    "tmin = pd.Series([48.8, 51.8, 52.8, 55.4, 57.1, 60.9, 65.8, 66.8, 64.6, 62.5, 57.3, 50.3])"
   ]
  },
  {
   "cell_type": "markdown",
   "metadata": {},
   "source": [
    "DataFrames are usually abbreviated as \"df\".\n",
    "\n",
    "An empty DataFrame is initialized with:"
   ]
  },
  {
   "cell_type": "code",
   "execution_count": 55,
   "metadata": {},
   "outputs": [],
   "source": [
    "df = pd.DataFrame()"
   ]
  },
  {
   "cell_type": "markdown",
   "metadata": {},
   "source": [
    "We can populate data into the DataFrame using the syntax:\n",
    "\n",
    "`df[Column Name] = Column Data`\n",
    "\n",
    "where:\n",
    "   * `Column Name` is the user-specified name of the column\n",
    "   * `Column Data` is the Series (OR list OR 1D numpy array) of data for that column"
   ]
  },
  {
   "cell_type": "markdown",
   "metadata": {},
   "source": [
    "Let's assign the `tavg` Series a column name of \"TAVG\" and input that data into the DataFrame."
   ]
  },
  {
   "cell_type": "code",
   "execution_count": 56,
   "metadata": {},
   "outputs": [
    {
     "data": {
      "text/html": [
       "<div>\n",
       "<style scoped>\n",
       "    .dataframe tbody tr th:only-of-type {\n",
       "        vertical-align: middle;\n",
       "    }\n",
       "\n",
       "    .dataframe tbody tr th {\n",
       "        vertical-align: top;\n",
       "    }\n",
       "\n",
       "    .dataframe thead th {\n",
       "        text-align: right;\n",
       "    }\n",
       "</style>\n",
       "<table border=\"1\" class=\"dataframe\">\n",
       "  <thead>\n",
       "    <tr style=\"text-align: right;\">\n",
       "      <th></th>\n",
       "      <th>TAVG</th>\n",
       "    </tr>\n",
       "  </thead>\n",
       "  <tbody>\n",
       "    <tr>\n",
       "      <th>0</th>\n",
       "      <td>55.8</td>\n",
       "    </tr>\n",
       "    <tr>\n",
       "      <th>1</th>\n",
       "      <td>57.2</td>\n",
       "    </tr>\n",
       "    <tr>\n",
       "      <th>2</th>\n",
       "      <td>61.0</td>\n",
       "    </tr>\n",
       "    <tr>\n",
       "      <th>3</th>\n",
       "      <td>63.6</td>\n",
       "    </tr>\n",
       "    <tr>\n",
       "      <th>4</th>\n",
       "      <td>63.3</td>\n",
       "    </tr>\n",
       "    <tr>\n",
       "      <th>5</th>\n",
       "      <td>66.7</td>\n",
       "    </tr>\n",
       "    <tr>\n",
       "      <th>6</th>\n",
       "      <td>71.7</td>\n",
       "    </tr>\n",
       "    <tr>\n",
       "      <th>7</th>\n",
       "      <td>72.0</td>\n",
       "    </tr>\n",
       "    <tr>\n",
       "      <th>8</th>\n",
       "      <td>71.5</td>\n",
       "    </tr>\n",
       "    <tr>\n",
       "      <th>9</th>\n",
       "      <td>71.5</td>\n",
       "    </tr>\n",
       "    <tr>\n",
       "      <th>10</th>\n",
       "      <td>65.6</td>\n",
       "    </tr>\n",
       "    <tr>\n",
       "      <th>11</th>\n",
       "      <td>61.4</td>\n",
       "    </tr>\n",
       "  </tbody>\n",
       "</table>\n",
       "</div>"
      ],
      "text/plain": [
       "    TAVG\n",
       "0   55.8\n",
       "1   57.2\n",
       "2   61.0\n",
       "3   63.6\n",
       "4   63.3\n",
       "5   66.7\n",
       "6   71.7\n",
       "7   72.0\n",
       "8   71.5\n",
       "9   71.5\n",
       "10  65.6\n",
       "11  61.4"
      ]
     },
     "execution_count": 56,
     "metadata": {},
     "output_type": "execute_result"
    }
   ],
   "source": [
    "df['TAVG'] = tavg\n",
    "df # print(df) also works, but loses the fancy row coloring"
   ]
  },
  {
   "cell_type": "markdown",
   "metadata": {},
   "source": [
    "---\n",
    "<span style=\"color:red; font-size:20px; font-weight:bold\">In-class exercise </span>\n",
    "\n",
    "Add two new columns of data to `df` above:\n",
    "   * `TMIN` - 2017 monthly min temperatures over LA\n",
    "   * `TMAX` - 2017 monthly max temperatures over LA\n",
    "\n",
    "Then print the `df` to confirm that it has three columns of data.\n",
    "\n",
    "---"
   ]
  },
  {
   "cell_type": "code",
   "execution_count": 57,
   "metadata": {},
   "outputs": [
    {
     "data": {
      "text/html": [
       "<div>\n",
       "<style scoped>\n",
       "    .dataframe tbody tr th:only-of-type {\n",
       "        vertical-align: middle;\n",
       "    }\n",
       "\n",
       "    .dataframe tbody tr th {\n",
       "        vertical-align: top;\n",
       "    }\n",
       "\n",
       "    .dataframe thead th {\n",
       "        text-align: right;\n",
       "    }\n",
       "</style>\n",
       "<table border=\"1\" class=\"dataframe\">\n",
       "  <thead>\n",
       "    <tr style=\"text-align: right;\">\n",
       "      <th></th>\n",
       "      <th>TAVG</th>\n",
       "      <th>TMIN</th>\n",
       "      <th>TMAX</th>\n",
       "    </tr>\n",
       "  </thead>\n",
       "  <tbody>\n",
       "    <tr>\n",
       "      <th>0</th>\n",
       "      <td>55.8</td>\n",
       "      <td>48.8</td>\n",
       "      <td>62.7</td>\n",
       "    </tr>\n",
       "    <tr>\n",
       "      <th>1</th>\n",
       "      <td>57.2</td>\n",
       "      <td>51.8</td>\n",
       "      <td>62.6</td>\n",
       "    </tr>\n",
       "    <tr>\n",
       "      <th>2</th>\n",
       "      <td>61.0</td>\n",
       "      <td>52.8</td>\n",
       "      <td>69.3</td>\n",
       "    </tr>\n",
       "    <tr>\n",
       "      <th>3</th>\n",
       "      <td>63.6</td>\n",
       "      <td>55.4</td>\n",
       "      <td>71.9</td>\n",
       "    </tr>\n",
       "    <tr>\n",
       "      <th>4</th>\n",
       "      <td>63.3</td>\n",
       "      <td>57.1</td>\n",
       "      <td>69.4</td>\n",
       "    </tr>\n",
       "    <tr>\n",
       "      <th>5</th>\n",
       "      <td>66.7</td>\n",
       "      <td>60.9</td>\n",
       "      <td>72.6</td>\n",
       "    </tr>\n",
       "    <tr>\n",
       "      <th>6</th>\n",
       "      <td>71.7</td>\n",
       "      <td>65.8</td>\n",
       "      <td>77.5</td>\n",
       "    </tr>\n",
       "    <tr>\n",
       "      <th>7</th>\n",
       "      <td>72.0</td>\n",
       "      <td>66.8</td>\n",
       "      <td>77.3</td>\n",
       "    </tr>\n",
       "    <tr>\n",
       "      <th>8</th>\n",
       "      <td>71.5</td>\n",
       "      <td>64.6</td>\n",
       "      <td>78.5</td>\n",
       "    </tr>\n",
       "    <tr>\n",
       "      <th>9</th>\n",
       "      <td>71.5</td>\n",
       "      <td>62.5</td>\n",
       "      <td>80.4</td>\n",
       "    </tr>\n",
       "    <tr>\n",
       "      <th>10</th>\n",
       "      <td>65.6</td>\n",
       "      <td>57.3</td>\n",
       "      <td>73.7</td>\n",
       "    </tr>\n",
       "    <tr>\n",
       "      <th>11</th>\n",
       "      <td>61.4</td>\n",
       "      <td>50.3</td>\n",
       "      <td>72.4</td>\n",
       "    </tr>\n",
       "  </tbody>\n",
       "</table>\n",
       "</div>"
      ],
      "text/plain": [
       "    TAVG  TMIN  TMAX\n",
       "0   55.8  48.8  62.7\n",
       "1   57.2  51.8  62.6\n",
       "2   61.0  52.8  69.3\n",
       "3   63.6  55.4  71.9\n",
       "4   63.3  57.1  69.4\n",
       "5   66.7  60.9  72.6\n",
       "6   71.7  65.8  77.5\n",
       "7   72.0  66.8  77.3\n",
       "8   71.5  64.6  78.5\n",
       "9   71.5  62.5  80.4\n",
       "10  65.6  57.3  73.7\n",
       "11  61.4  50.3  72.4"
      ]
     },
     "execution_count": 57,
     "metadata": {},
     "output_type": "execute_result"
    }
   ],
   "source": [
    "df['TMIN'] = tmin\n",
    "df['TMAX'] = tmax\n",
    "df"
   ]
  },
  {
   "cell_type": "markdown",
   "metadata": {},
   "source": [
    "# DatetimeIndex for DataFrames 🕰"
   ]
  },
  {
   "cell_type": "markdown",
   "metadata": {},
   "source": [
    "Just as we did for Series, we can modify the index to be a range of dates using the [pd.date_range](https://pandas.pydata.org/pandas-docs/stable/generated/pandas.date_range.html) function and then assign the DataFrame Index to those dates.\n",
    "\n",
    "Let's create a date range of months in 2017:"
   ]
  },
  {
   "cell_type": "code",
   "execution_count": 58,
   "metadata": {},
   "outputs": [
    {
     "name": "stdout",
     "output_type": "stream",
     "text": [
      "DatetimeIndex(['2017-01-01', '2017-02-01', '2017-03-01', '2017-04-01',\n",
      "               '2017-05-01', '2017-06-01', '2017-07-01', '2017-08-01',\n",
      "               '2017-09-01', '2017-10-01', '2017-11-01', '2017-12-01'],\n",
      "              dtype='datetime64[ns]', freq='MS')\n"
     ]
    }
   ],
   "source": [
    "dates = pd.date_range(start='2017-01-01', end='2017-12-01', freq='MS')\n",
    "print(dates)"
   ]
  },
  {
   "cell_type": "markdown",
   "metadata": {},
   "source": [
    "Now we can reset the Index of `df` to `dates` with:"
   ]
  },
  {
   "cell_type": "code",
   "execution_count": 59,
   "metadata": {},
   "outputs": [
    {
     "data": {
      "text/html": [
       "<div>\n",
       "<style scoped>\n",
       "    .dataframe tbody tr th:only-of-type {\n",
       "        vertical-align: middle;\n",
       "    }\n",
       "\n",
       "    .dataframe tbody tr th {\n",
       "        vertical-align: top;\n",
       "    }\n",
       "\n",
       "    .dataframe thead th {\n",
       "        text-align: right;\n",
       "    }\n",
       "</style>\n",
       "<table border=\"1\" class=\"dataframe\">\n",
       "  <thead>\n",
       "    <tr style=\"text-align: right;\">\n",
       "      <th></th>\n",
       "      <th>TAVG</th>\n",
       "      <th>TMIN</th>\n",
       "      <th>TMAX</th>\n",
       "    </tr>\n",
       "  </thead>\n",
       "  <tbody>\n",
       "    <tr>\n",
       "      <th>2017-01-01</th>\n",
       "      <td>55.8</td>\n",
       "      <td>48.8</td>\n",
       "      <td>62.7</td>\n",
       "    </tr>\n",
       "    <tr>\n",
       "      <th>2017-02-01</th>\n",
       "      <td>57.2</td>\n",
       "      <td>51.8</td>\n",
       "      <td>62.6</td>\n",
       "    </tr>\n",
       "    <tr>\n",
       "      <th>2017-03-01</th>\n",
       "      <td>61.0</td>\n",
       "      <td>52.8</td>\n",
       "      <td>69.3</td>\n",
       "    </tr>\n",
       "    <tr>\n",
       "      <th>2017-04-01</th>\n",
       "      <td>63.6</td>\n",
       "      <td>55.4</td>\n",
       "      <td>71.9</td>\n",
       "    </tr>\n",
       "    <tr>\n",
       "      <th>2017-05-01</th>\n",
       "      <td>63.3</td>\n",
       "      <td>57.1</td>\n",
       "      <td>69.4</td>\n",
       "    </tr>\n",
       "    <tr>\n",
       "      <th>2017-06-01</th>\n",
       "      <td>66.7</td>\n",
       "      <td>60.9</td>\n",
       "      <td>72.6</td>\n",
       "    </tr>\n",
       "    <tr>\n",
       "      <th>2017-07-01</th>\n",
       "      <td>71.7</td>\n",
       "      <td>65.8</td>\n",
       "      <td>77.5</td>\n",
       "    </tr>\n",
       "    <tr>\n",
       "      <th>2017-08-01</th>\n",
       "      <td>72.0</td>\n",
       "      <td>66.8</td>\n",
       "      <td>77.3</td>\n",
       "    </tr>\n",
       "    <tr>\n",
       "      <th>2017-09-01</th>\n",
       "      <td>71.5</td>\n",
       "      <td>64.6</td>\n",
       "      <td>78.5</td>\n",
       "    </tr>\n",
       "    <tr>\n",
       "      <th>2017-10-01</th>\n",
       "      <td>71.5</td>\n",
       "      <td>62.5</td>\n",
       "      <td>80.4</td>\n",
       "    </tr>\n",
       "    <tr>\n",
       "      <th>2017-11-01</th>\n",
       "      <td>65.6</td>\n",
       "      <td>57.3</td>\n",
       "      <td>73.7</td>\n",
       "    </tr>\n",
       "    <tr>\n",
       "      <th>2017-12-01</th>\n",
       "      <td>61.4</td>\n",
       "      <td>50.3</td>\n",
       "      <td>72.4</td>\n",
       "    </tr>\n",
       "  </tbody>\n",
       "</table>\n",
       "</div>"
      ],
      "text/plain": [
       "            TAVG  TMIN  TMAX\n",
       "2017-01-01  55.8  48.8  62.7\n",
       "2017-02-01  57.2  51.8  62.6\n",
       "2017-03-01  61.0  52.8  69.3\n",
       "2017-04-01  63.6  55.4  71.9\n",
       "2017-05-01  63.3  57.1  69.4\n",
       "2017-06-01  66.7  60.9  72.6\n",
       "2017-07-01  71.7  65.8  77.5\n",
       "2017-08-01  72.0  66.8  77.3\n",
       "2017-09-01  71.5  64.6  78.5\n",
       "2017-10-01  71.5  62.5  80.4\n",
       "2017-11-01  65.6  57.3  73.7\n",
       "2017-12-01  61.4  50.3  72.4"
      ]
     },
     "execution_count": 59,
     "metadata": {},
     "output_type": "execute_result"
    }
   ],
   "source": [
    "df.index = dates\n",
    "df"
   ]
  },
  {
   "cell_type": "markdown",
   "metadata": {},
   "source": [
    "# Viewing and Summarizing DataFrames 🕵\n",
    "\n",
    "With `head` and `tail`, we can quick view N number of rows from the start (head) or end (tail) of a DataFrame:"
   ]
  },
  {
   "cell_type": "code",
   "execution_count": 60,
   "metadata": {},
   "outputs": [
    {
     "data": {
      "text/html": [
       "<div>\n",
       "<style scoped>\n",
       "    .dataframe tbody tr th:only-of-type {\n",
       "        vertical-align: middle;\n",
       "    }\n",
       "\n",
       "    .dataframe tbody tr th {\n",
       "        vertical-align: top;\n",
       "    }\n",
       "\n",
       "    .dataframe thead th {\n",
       "        text-align: right;\n",
       "    }\n",
       "</style>\n",
       "<table border=\"1\" class=\"dataframe\">\n",
       "  <thead>\n",
       "    <tr style=\"text-align: right;\">\n",
       "      <th></th>\n",
       "      <th>TAVG</th>\n",
       "      <th>TMIN</th>\n",
       "      <th>TMAX</th>\n",
       "    </tr>\n",
       "  </thead>\n",
       "  <tbody>\n",
       "    <tr>\n",
       "      <th>2017-01-01</th>\n",
       "      <td>55.8</td>\n",
       "      <td>48.8</td>\n",
       "      <td>62.7</td>\n",
       "    </tr>\n",
       "  </tbody>\n",
       "</table>\n",
       "</div>"
      ],
      "text/plain": [
       "            TAVG  TMIN  TMAX\n",
       "2017-01-01  55.8  48.8  62.7"
      ]
     },
     "execution_count": 60,
     "metadata": {},
     "output_type": "execute_result"
    }
   ],
   "source": [
    "df.head(1) # first row"
   ]
  },
  {
   "cell_type": "code",
   "execution_count": 61,
   "metadata": {},
   "outputs": [
    {
     "data": {
      "text/html": [
       "<div>\n",
       "<style scoped>\n",
       "    .dataframe tbody tr th:only-of-type {\n",
       "        vertical-align: middle;\n",
       "    }\n",
       "\n",
       "    .dataframe tbody tr th {\n",
       "        vertical-align: top;\n",
       "    }\n",
       "\n",
       "    .dataframe thead th {\n",
       "        text-align: right;\n",
       "    }\n",
       "</style>\n",
       "<table border=\"1\" class=\"dataframe\">\n",
       "  <thead>\n",
       "    <tr style=\"text-align: right;\">\n",
       "      <th></th>\n",
       "      <th>TAVG</th>\n",
       "      <th>TMIN</th>\n",
       "      <th>TMAX</th>\n",
       "    </tr>\n",
       "  </thead>\n",
       "  <tbody>\n",
       "    <tr>\n",
       "      <th>2017-01-01</th>\n",
       "      <td>55.8</td>\n",
       "      <td>48.8</td>\n",
       "      <td>62.7</td>\n",
       "    </tr>\n",
       "    <tr>\n",
       "      <th>2017-02-01</th>\n",
       "      <td>57.2</td>\n",
       "      <td>51.8</td>\n",
       "      <td>62.6</td>\n",
       "    </tr>\n",
       "    <tr>\n",
       "      <th>2017-03-01</th>\n",
       "      <td>61.0</td>\n",
       "      <td>52.8</td>\n",
       "      <td>69.3</td>\n",
       "    </tr>\n",
       "    <tr>\n",
       "      <th>2017-04-01</th>\n",
       "      <td>63.6</td>\n",
       "      <td>55.4</td>\n",
       "      <td>71.9</td>\n",
       "    </tr>\n",
       "  </tbody>\n",
       "</table>\n",
       "</div>"
      ],
      "text/plain": [
       "            TAVG  TMIN  TMAX\n",
       "2017-01-01  55.8  48.8  62.7\n",
       "2017-02-01  57.2  51.8  62.6\n",
       "2017-03-01  61.0  52.8  69.3\n",
       "2017-04-01  63.6  55.4  71.9"
      ]
     },
     "execution_count": 61,
     "metadata": {},
     "output_type": "execute_result"
    }
   ],
   "source": [
    "df.head(4) # first 4 rows"
   ]
  },
  {
   "cell_type": "code",
   "execution_count": 62,
   "metadata": {},
   "outputs": [
    {
     "data": {
      "text/html": [
       "<div>\n",
       "<style scoped>\n",
       "    .dataframe tbody tr th:only-of-type {\n",
       "        vertical-align: middle;\n",
       "    }\n",
       "\n",
       "    .dataframe tbody tr th {\n",
       "        vertical-align: top;\n",
       "    }\n",
       "\n",
       "    .dataframe thead th {\n",
       "        text-align: right;\n",
       "    }\n",
       "</style>\n",
       "<table border=\"1\" class=\"dataframe\">\n",
       "  <thead>\n",
       "    <tr style=\"text-align: right;\">\n",
       "      <th></th>\n",
       "      <th>TAVG</th>\n",
       "      <th>TMIN</th>\n",
       "      <th>TMAX</th>\n",
       "    </tr>\n",
       "  </thead>\n",
       "  <tbody>\n",
       "    <tr>\n",
       "      <th>2017-12-01</th>\n",
       "      <td>61.4</td>\n",
       "      <td>50.3</td>\n",
       "      <td>72.4</td>\n",
       "    </tr>\n",
       "  </tbody>\n",
       "</table>\n",
       "</div>"
      ],
      "text/plain": [
       "            TAVG  TMIN  TMAX\n",
       "2017-12-01  61.4  50.3  72.4"
      ]
     },
     "execution_count": 62,
     "metadata": {},
     "output_type": "execute_result"
    }
   ],
   "source": [
    "df.tail(1) # the last row"
   ]
  },
  {
   "cell_type": "code",
   "execution_count": 63,
   "metadata": {},
   "outputs": [
    {
     "data": {
      "text/html": [
       "<div>\n",
       "<style scoped>\n",
       "    .dataframe tbody tr th:only-of-type {\n",
       "        vertical-align: middle;\n",
       "    }\n",
       "\n",
       "    .dataframe tbody tr th {\n",
       "        vertical-align: top;\n",
       "    }\n",
       "\n",
       "    .dataframe thead th {\n",
       "        text-align: right;\n",
       "    }\n",
       "</style>\n",
       "<table border=\"1\" class=\"dataframe\">\n",
       "  <thead>\n",
       "    <tr style=\"text-align: right;\">\n",
       "      <th></th>\n",
       "      <th>TAVG</th>\n",
       "      <th>TMIN</th>\n",
       "      <th>TMAX</th>\n",
       "    </tr>\n",
       "  </thead>\n",
       "  <tbody>\n",
       "    <tr>\n",
       "      <th>2017-10-01</th>\n",
       "      <td>71.5</td>\n",
       "      <td>62.5</td>\n",
       "      <td>80.4</td>\n",
       "    </tr>\n",
       "    <tr>\n",
       "      <th>2017-11-01</th>\n",
       "      <td>65.6</td>\n",
       "      <td>57.3</td>\n",
       "      <td>73.7</td>\n",
       "    </tr>\n",
       "    <tr>\n",
       "      <th>2017-12-01</th>\n",
       "      <td>61.4</td>\n",
       "      <td>50.3</td>\n",
       "      <td>72.4</td>\n",
       "    </tr>\n",
       "  </tbody>\n",
       "</table>\n",
       "</div>"
      ],
      "text/plain": [
       "            TAVG  TMIN  TMAX\n",
       "2017-10-01  71.5  62.5  80.4\n",
       "2017-11-01  65.6  57.3  73.7\n",
       "2017-12-01  61.4  50.3  72.4"
      ]
     },
     "execution_count": 63,
     "metadata": {},
     "output_type": "execute_result"
    }
   ],
   "source": [
    "df.tail(3) # the last 3 rows"
   ]
  },
  {
   "cell_type": "markdown",
   "metadata": {},
   "source": [
    "**We can also get a statistical summary of the DataFrame using `describe`**"
   ]
  },
  {
   "cell_type": "code",
   "execution_count": 12,
   "metadata": {},
   "outputs": [
    {
     "data": {
      "text/html": [
       "<div>\n",
       "<style scoped>\n",
       "    .dataframe tbody tr th:only-of-type {\n",
       "        vertical-align: middle;\n",
       "    }\n",
       "\n",
       "    .dataframe tbody tr th {\n",
       "        vertical-align: top;\n",
       "    }\n",
       "\n",
       "    .dataframe thead th {\n",
       "        text-align: right;\n",
       "    }\n",
       "</style>\n",
       "<table border=\"1\" class=\"dataframe\">\n",
       "  <thead>\n",
       "    <tr style=\"text-align: right;\">\n",
       "      <th></th>\n",
       "      <th>TAVG</th>\n",
       "      <th>TMIN</th>\n",
       "      <th>TMAX</th>\n",
       "    </tr>\n",
       "  </thead>\n",
       "  <tbody>\n",
       "    <tr>\n",
       "      <th>count</th>\n",
       "      <td>12.000000</td>\n",
       "      <td>12.000000</td>\n",
       "      <td>12.000000</td>\n",
       "    </tr>\n",
       "    <tr>\n",
       "      <th>mean</th>\n",
       "      <td>65.108333</td>\n",
       "      <td>57.841667</td>\n",
       "      <td>72.358333</td>\n",
       "    </tr>\n",
       "    <tr>\n",
       "      <th>std</th>\n",
       "      <td>5.727042</td>\n",
       "      <td>6.235304</td>\n",
       "      <td>5.736083</td>\n",
       "    </tr>\n",
       "    <tr>\n",
       "      <th>min</th>\n",
       "      <td>55.800000</td>\n",
       "      <td>48.800000</td>\n",
       "      <td>62.600000</td>\n",
       "    </tr>\n",
       "    <tr>\n",
       "      <th>25%</th>\n",
       "      <td>61.300000</td>\n",
       "      <td>52.550000</td>\n",
       "      <td>69.375000</td>\n",
       "    </tr>\n",
       "    <tr>\n",
       "      <th>50%</th>\n",
       "      <td>64.600000</td>\n",
       "      <td>57.200000</td>\n",
       "      <td>72.500000</td>\n",
       "    </tr>\n",
       "    <tr>\n",
       "      <th>75%</th>\n",
       "      <td>71.500000</td>\n",
       "      <td>63.025000</td>\n",
       "      <td>77.350000</td>\n",
       "    </tr>\n",
       "    <tr>\n",
       "      <th>max</th>\n",
       "      <td>72.000000</td>\n",
       "      <td>66.800000</td>\n",
       "      <td>80.400000</td>\n",
       "    </tr>\n",
       "  </tbody>\n",
       "</table>\n",
       "</div>"
      ],
      "text/plain": [
       "            TAVG       TMIN       TMAX\n",
       "count  12.000000  12.000000  12.000000\n",
       "mean   65.108333  57.841667  72.358333\n",
       "std     5.727042   6.235304   5.736083\n",
       "min    55.800000  48.800000  62.600000\n",
       "25%    61.300000  52.550000  69.375000\n",
       "50%    64.600000  57.200000  72.500000\n",
       "75%    71.500000  63.025000  77.350000\n",
       "max    72.000000  66.800000  80.400000"
      ]
     },
     "execution_count": 12,
     "metadata": {},
     "output_type": "execute_result"
    }
   ],
   "source": [
    "df.describe() # the count, mean, standard dev., min, max, and quartiles of each column"
   ]
  },
  {
   "cell_type": "markdown",
   "metadata": {},
   "source": [
    "---\n",
    "<span style=\"color:red; font-size:20px; font-weight:bold\">In-class exercise </span>\n",
    "\n",
    "Below are two lists of 2006 - 2015 annual average temperature and rainfall.\n",
    "\n",
    "Instructions:\n",
    "\n",
    "1. Create a new DataFrame called `sample_df` containing the temperature and rainfall data as columns and a DatetimeIndex of years spanning 2006 through 2015. \n",
    "2. Print a statistical summary of the `sample_df`."
   ]
  },
  {
   "cell_type": "code",
   "execution_count": 13,
   "metadata": {},
   "outputs": [],
   "source": [
    "# 2006 - 2015 sample temperature (degrees F) and rainfall (inches) data\n",
    "sample_t = [45.5, 48.9, 51.2, 47,2, 44.4, 44.1, 40.0, 52.3, 50.6]\n",
    "sample_p = [9.2, 10.3, 12.2, 7.2, 13.1, 9.0, 4.8, 5.2, 8.7, 8.1]"
   ]
  },
  {
   "cell_type": "code",
   "execution_count": 14,
   "metadata": {},
   "outputs": [
    {
     "name": "stdout",
     "output_type": "stream",
     "text": [
      "               T     P\n",
      "2006-01-01  45.5   9.2\n",
      "2007-01-01  48.9  10.3\n",
      "2008-01-01  51.2  12.2\n",
      "2009-01-01  47.0   7.2\n",
      "2010-01-01   2.0  13.1\n",
      "2011-01-01  44.4   9.0\n",
      "2012-01-01  44.1   4.8\n",
      "2013-01-01  40.0   5.2\n",
      "2014-01-01  52.3   8.7\n",
      "2015-01-01  50.6   8.1\n",
      "               T          P\n",
      "count  10.000000  10.000000\n",
      "mean   42.600000   8.780000\n",
      "std    14.757747   2.677395\n",
      "min     2.000000   4.800000\n",
      "25%    44.175000   7.425000\n",
      "50%    46.250000   8.850000\n",
      "75%    50.175000  10.025000\n",
      "max    52.300000  13.100000\n"
     ]
    }
   ],
   "source": [
    "sample_df = pd.DataFrame()\n",
    "sample_df['T'] = sample_t\n",
    "sample_df['P'] = sample_p\n",
    "sample_df.index = pd.date_range(start='2006', end='2015', freq='AS')\n",
    "print(sample_df)\n",
    "print(sample_df.describe())"
   ]
  },
  {
   "cell_type": "markdown",
   "metadata": {},
   "source": [
    "# Slicing DataFrames 🔪\n",
    "\n",
    "We will frequently want to only work with a subset of an entire DataFrame. \n",
    "\n",
    "Let's learn how to:\n",
    "\n",
    "  1. Extract entire columns of data from a DataFrame\n",
    "  2. Slice various rows and columns of data inside a DataFrame"
   ]
  },
  {
   "cell_type": "markdown",
   "metadata": {},
   "source": [
    "**1. Extracting individual columns of data**\n",
    "\n",
    "Recall that the code for inserting a column of data in a DataFrame is:\n",
    "\n",
    "`df[Column Name] = Column of Data`\n",
    "\n",
    "The reverse of that command will extract a column of data from the DataFrame:\n",
    "\n",
    "`Column of Data = df[Column Name]`"
   ]
  },
  {
   "cell_type": "code",
   "execution_count": 15,
   "metadata": {},
   "outputs": [
    {
     "name": "stdout",
     "output_type": "stream",
     "text": [
      "2017-01-01    48.8\n",
      "2017-02-01    51.8\n",
      "2017-03-01    52.8\n",
      "2017-04-01    55.4\n",
      "2017-05-01    57.1\n",
      "2017-06-01    60.9\n",
      "2017-07-01    65.8\n",
      "2017-08-01    66.8\n",
      "2017-09-01    64.6\n",
      "2017-10-01    62.5\n",
      "2017-11-01    57.3\n",
      "2017-12-01    50.3\n",
      "Freq: MS, Name: TMIN, dtype: float64\n"
     ]
    }
   ],
   "source": [
    "# Extracting TMIN from the df\n",
    "tmin = df['TMIN']\n",
    "print(tmin)"
   ]
  },
  {
   "cell_type": "markdown",
   "metadata": {},
   "source": [
    "**2. Slicing rows/columns inside a DataFrame**\n",
    "\n",
    "The general syntax to slice by row/column location (\"loc\") is:\n",
    "\n",
    "`df.loc[row_selection, column_selection]`\n",
    "\n",
    "Row and column selections can be:\n",
    "\n",
    "   * a single value, e.g. '2017-01-01' or 'TMAX' \n",
    "   * a list of values, e.g. ['2017-01-01', '2017-01-02'] or ['TMAX', 'TMIN']\n",
    "   * a range of values, e.g. ['2017-01-01':'2017-01-10']\n",
    "   \n",
    "Let's demonstate with examples on `df`:"
   ]
  },
  {
   "cell_type": "code",
   "execution_count": 16,
   "metadata": {},
   "outputs": [
    {
     "data": {
      "text/html": [
       "<div>\n",
       "<style scoped>\n",
       "    .dataframe tbody tr th:only-of-type {\n",
       "        vertical-align: middle;\n",
       "    }\n",
       "\n",
       "    .dataframe tbody tr th {\n",
       "        vertical-align: top;\n",
       "    }\n",
       "\n",
       "    .dataframe thead th {\n",
       "        text-align: right;\n",
       "    }\n",
       "</style>\n",
       "<table border=\"1\" class=\"dataframe\">\n",
       "  <thead>\n",
       "    <tr style=\"text-align: right;\">\n",
       "      <th></th>\n",
       "      <th>TAVG</th>\n",
       "      <th>TMIN</th>\n",
       "      <th>TMAX</th>\n",
       "    </tr>\n",
       "  </thead>\n",
       "  <tbody>\n",
       "    <tr>\n",
       "      <th>2017-05-01</th>\n",
       "      <td>63.3</td>\n",
       "      <td>57.1</td>\n",
       "      <td>69.4</td>\n",
       "    </tr>\n",
       "  </tbody>\n",
       "</table>\n",
       "</div>"
      ],
      "text/plain": [
       "            TAVG  TMIN  TMAX\n",
       "2017-05-01  63.3  57.1  69.4"
      ]
     },
     "execution_count": 16,
     "metadata": {},
     "output_type": "execute_result"
    }
   ],
   "source": [
    "# Slice a single row of 2017-05\n",
    "df.loc['2017-05']"
   ]
  },
  {
   "cell_type": "code",
   "execution_count": 17,
   "metadata": {},
   "outputs": [
    {
     "data": {
      "text/plain": [
       "TAVG    55.8\n",
       "Name: 2017-01-01 00:00:00, dtype: float64"
      ]
     },
     "execution_count": 17,
     "metadata": {},
     "output_type": "execute_result"
    }
   ],
   "source": [
    "# Slice a single row of 2017-01-01 and TAVG (brackets around TAVG are optional, try without!)\n",
    "df.loc['2017-01-01', ['TAVG']]"
   ]
  },
  {
   "cell_type": "code",
   "execution_count": 18,
   "metadata": {},
   "outputs": [
    {
     "ename": "KeyError",
     "evalue": "\"None of [['2017-01-01', '2017-05-01']] are in the [index]\"",
     "output_type": "error",
     "traceback": [
      "\u001b[0;31m---------------------------------------------------------------------------\u001b[0m",
      "\u001b[0;31mKeyError\u001b[0m                                  Traceback (most recent call last)",
      "\u001b[0;32m<ipython-input-18-4b93ca5c1954>\u001b[0m in \u001b[0;36m<module>\u001b[0;34m()\u001b[0m\n\u001b[1;32m      1\u001b[0m \u001b[0;31m# slice two non-consecutive rows of 2017-01 and 2017-05\u001b[0m\u001b[0;34m\u001b[0m\u001b[0;34m\u001b[0m\u001b[0m\n\u001b[0;32m----> 2\u001b[0;31m \u001b[0mdf\u001b[0m\u001b[0;34m.\u001b[0m\u001b[0mloc\u001b[0m\u001b[0;34m[\u001b[0m\u001b[0;34m[\u001b[0m\u001b[0;34m'2017-01-01'\u001b[0m\u001b[0;34m,\u001b[0m \u001b[0;34m'2017-05-01'\u001b[0m\u001b[0;34m]\u001b[0m\u001b[0;34m]\u001b[0m\u001b[0;34m\u001b[0m\u001b[0m\n\u001b[0m",
      "\u001b[0;32m/anaconda3/lib/python3.5/site-packages/pandas/core/indexing.py\u001b[0m in \u001b[0;36m__getitem__\u001b[0;34m(self, key)\u001b[0m\n\u001b[1;32m   1371\u001b[0m \u001b[0;34m\u001b[0m\u001b[0m\n\u001b[1;32m   1372\u001b[0m             \u001b[0mmaybe_callable\u001b[0m \u001b[0;34m=\u001b[0m \u001b[0mcom\u001b[0m\u001b[0;34m.\u001b[0m\u001b[0m_apply_if_callable\u001b[0m\u001b[0;34m(\u001b[0m\u001b[0mkey\u001b[0m\u001b[0;34m,\u001b[0m \u001b[0mself\u001b[0m\u001b[0;34m.\u001b[0m\u001b[0mobj\u001b[0m\u001b[0;34m)\u001b[0m\u001b[0;34m\u001b[0m\u001b[0m\n\u001b[0;32m-> 1373\u001b[0;31m             \u001b[0;32mreturn\u001b[0m \u001b[0mself\u001b[0m\u001b[0;34m.\u001b[0m\u001b[0m_getitem_axis\u001b[0m\u001b[0;34m(\u001b[0m\u001b[0mmaybe_callable\u001b[0m\u001b[0;34m,\u001b[0m \u001b[0maxis\u001b[0m\u001b[0;34m=\u001b[0m\u001b[0maxis\u001b[0m\u001b[0;34m)\u001b[0m\u001b[0;34m\u001b[0m\u001b[0m\n\u001b[0m\u001b[1;32m   1374\u001b[0m \u001b[0;34m\u001b[0m\u001b[0m\n\u001b[1;32m   1375\u001b[0m     \u001b[0;32mdef\u001b[0m \u001b[0m_is_scalar_access\u001b[0m\u001b[0;34m(\u001b[0m\u001b[0mself\u001b[0m\u001b[0;34m,\u001b[0m \u001b[0mkey\u001b[0m\u001b[0;34m)\u001b[0m\u001b[0;34m:\u001b[0m\u001b[0;34m\u001b[0m\u001b[0m\n",
      "\u001b[0;32m/anaconda3/lib/python3.5/site-packages/pandas/core/indexing.py\u001b[0m in \u001b[0;36m_getitem_axis\u001b[0;34m(self, key, axis)\u001b[0m\n\u001b[1;32m   1614\u001b[0m                     \u001b[0;32mraise\u001b[0m \u001b[0mValueError\u001b[0m\u001b[0;34m(\u001b[0m\u001b[0;34m'Cannot index with multidimensional key'\u001b[0m\u001b[0;34m)\u001b[0m\u001b[0;34m\u001b[0m\u001b[0m\n\u001b[1;32m   1615\u001b[0m \u001b[0;34m\u001b[0m\u001b[0m\n\u001b[0;32m-> 1616\u001b[0;31m                 \u001b[0;32mreturn\u001b[0m \u001b[0mself\u001b[0m\u001b[0;34m.\u001b[0m\u001b[0m_getitem_iterable\u001b[0m\u001b[0;34m(\u001b[0m\u001b[0mkey\u001b[0m\u001b[0;34m,\u001b[0m \u001b[0maxis\u001b[0m\u001b[0;34m=\u001b[0m\u001b[0maxis\u001b[0m\u001b[0;34m)\u001b[0m\u001b[0;34m\u001b[0m\u001b[0m\n\u001b[0m\u001b[1;32m   1617\u001b[0m \u001b[0;34m\u001b[0m\u001b[0m\n\u001b[1;32m   1618\u001b[0m             \u001b[0;31m# nested tuple slicing\u001b[0m\u001b[0;34m\u001b[0m\u001b[0;34m\u001b[0m\u001b[0m\n",
      "\u001b[0;32m/anaconda3/lib/python3.5/site-packages/pandas/core/indexing.py\u001b[0m in \u001b[0;36m_getitem_iterable\u001b[0;34m(self, key, axis)\u001b[0m\n\u001b[1;32m   1113\u001b[0m \u001b[0;34m\u001b[0m\u001b[0m\n\u001b[1;32m   1114\u001b[0m         \u001b[0;32mif\u001b[0m \u001b[0mself\u001b[0m\u001b[0;34m.\u001b[0m\u001b[0m_should_validate_iterable\u001b[0m\u001b[0;34m(\u001b[0m\u001b[0maxis\u001b[0m\u001b[0;34m)\u001b[0m\u001b[0;34m:\u001b[0m\u001b[0;34m\u001b[0m\u001b[0m\n\u001b[0;32m-> 1115\u001b[0;31m             \u001b[0mself\u001b[0m\u001b[0;34m.\u001b[0m\u001b[0m_has_valid_type\u001b[0m\u001b[0;34m(\u001b[0m\u001b[0mkey\u001b[0m\u001b[0;34m,\u001b[0m \u001b[0maxis\u001b[0m\u001b[0;34m)\u001b[0m\u001b[0;34m\u001b[0m\u001b[0m\n\u001b[0m\u001b[1;32m   1116\u001b[0m \u001b[0;34m\u001b[0m\u001b[0m\n\u001b[1;32m   1117\u001b[0m         \u001b[0mlabels\u001b[0m \u001b[0;34m=\u001b[0m \u001b[0mself\u001b[0m\u001b[0;34m.\u001b[0m\u001b[0mobj\u001b[0m\u001b[0;34m.\u001b[0m\u001b[0m_get_axis\u001b[0m\u001b[0;34m(\u001b[0m\u001b[0maxis\u001b[0m\u001b[0;34m)\u001b[0m\u001b[0;34m\u001b[0m\u001b[0m\n",
      "\u001b[0;32m/anaconda3/lib/python3.5/site-packages/pandas/core/indexing.py\u001b[0m in \u001b[0;36m_has_valid_type\u001b[0;34m(self, key, axis)\u001b[0m\n\u001b[1;32m   1470\u001b[0m                         raise KeyError(\n\u001b[1;32m   1471\u001b[0m                             u\"None of [{key}] are in the [{axis}]\".format(\n\u001b[0;32m-> 1472\u001b[0;31m                                 key=key, axis=self.obj._get_axis_name(axis)))\n\u001b[0m\u001b[1;32m   1473\u001b[0m                     \u001b[0;32melse\u001b[0m\u001b[0;34m:\u001b[0m\u001b[0;34m\u001b[0m\u001b[0m\n\u001b[1;32m   1474\u001b[0m \u001b[0;34m\u001b[0m\u001b[0m\n",
      "\u001b[0;31mKeyError\u001b[0m: \"None of [['2017-01-01', '2017-05-01']] are in the [index]\""
     ]
    }
   ],
   "source": [
    "# slice two non-consecutive rows of 2017-01 and 2017-05\n",
    "df.loc[['2017-01-01', '2017-05-01']]"
   ]
  },
  {
   "cell_type": "markdown",
   "metadata": {},
   "source": [
    "Uh oh...what happened?! \n",
    "\n",
    "Sometimes, when you tell Pandas to search for a list of items that are strings (like '2017-05-01'), it does not know to convert them to Pandas Timestamps and search for those Timestamps in the Index. \n",
    "\n",
    "So, we need to convert these dates from a string to a Pandas [Timestamp](https://pandas.pydata.org/pandas-docs/stable/generated/pandas.Timestamp.html). "
   ]
  },
  {
   "cell_type": "code",
   "execution_count": null,
   "metadata": {},
   "outputs": [],
   "source": [
    "# slice two non-consecutive rows of 2017-01 and 2017-05\n",
    "df.loc[[pd.Timestamp('2017-01-01'), pd.Timestamp('2017-05-01')]]"
   ]
  },
  {
   "cell_type": "markdown",
   "metadata": {},
   "source": [
    "**Voila!**"
   ]
  },
  {
   "cell_type": "code",
   "execution_count": 19,
   "metadata": {},
   "outputs": [
    {
     "data": {
      "text/html": [
       "<div>\n",
       "<style scoped>\n",
       "    .dataframe tbody tr th:only-of-type {\n",
       "        vertical-align: middle;\n",
       "    }\n",
       "\n",
       "    .dataframe tbody tr th {\n",
       "        vertical-align: top;\n",
       "    }\n",
       "\n",
       "    .dataframe thead th {\n",
       "        text-align: right;\n",
       "    }\n",
       "</style>\n",
       "<table border=\"1\" class=\"dataframe\">\n",
       "  <thead>\n",
       "    <tr style=\"text-align: right;\">\n",
       "      <th></th>\n",
       "      <th>TMIN</th>\n",
       "      <th>TMAX</th>\n",
       "    </tr>\n",
       "  </thead>\n",
       "  <tbody>\n",
       "    <tr>\n",
       "      <th>2017-01-01</th>\n",
       "      <td>48.8</td>\n",
       "      <td>62.7</td>\n",
       "    </tr>\n",
       "    <tr>\n",
       "      <th>2017-02-01</th>\n",
       "      <td>51.8</td>\n",
       "      <td>62.6</td>\n",
       "    </tr>\n",
       "    <tr>\n",
       "      <th>2017-03-01</th>\n",
       "      <td>52.8</td>\n",
       "      <td>69.3</td>\n",
       "    </tr>\n",
       "    <tr>\n",
       "      <th>2017-04-01</th>\n",
       "      <td>55.4</td>\n",
       "      <td>71.9</td>\n",
       "    </tr>\n",
       "    <tr>\n",
       "      <th>2017-05-01</th>\n",
       "      <td>57.1</td>\n",
       "      <td>69.4</td>\n",
       "    </tr>\n",
       "  </tbody>\n",
       "</table>\n",
       "</div>"
      ],
      "text/plain": [
       "            TMIN  TMAX\n",
       "2017-01-01  48.8  62.7\n",
       "2017-02-01  51.8  62.6\n",
       "2017-03-01  52.8  69.3\n",
       "2017-04-01  55.4  71.9\n",
       "2017-05-01  57.1  69.4"
      ]
     },
     "execution_count": 19,
     "metadata": {},
     "output_type": "execute_result"
    }
   ],
   "source": [
    "# Slice a range of months from 2017-01-01 to 2017-05-01 for TMIN and TMAX\n",
    "df.loc['2017-01-01':'2017-05-01', ['TMIN', 'TMAX']]"
   ]
  },
  {
   "cell_type": "markdown",
   "metadata": {},
   "source": [
    "---\n",
    "<span style=\"color:red; font-size:20px; font-weight:bold\">In-class exercise </span>\n",
    "\n",
    "1. Slice row 2017-08-01 and column TMAX\n",
    "2. Slice the range of rows 2017-05-01 through 2017-10-01 and columns TAVG and TMIN\n",
    "3. Slice rows 2017-03-01 and 2017-08-01 and column TMIN\n",
    "---"
   ]
  },
  {
   "cell_type": "code",
   "execution_count": 20,
   "metadata": {},
   "outputs": [],
   "source": [
    "#df.loc['2017-08-01', ['TMAX']] # brackets around 'TMAX' are optional \n",
    "#df.loc['2017-05-01':'2017-10-01', ['TAVG', 'TMAX']]\n",
    "#df.loc[[pd.Timestamp('2017-03-01'), pd.Timestamp('2017-08-01')], ['TMIN']] # brackets around 'TMIN' are optional"
   ]
  },
  {
   "cell_type": "markdown",
   "metadata": {},
   "source": [
    "# Plotting DataFrames\n",
    "\n",
    "Just as we did with Pandas Series, we can plot Pandas DataFrames using:\n",
    "\n",
    "```\n",
    "[Name of DataFrame].plot(kind = [type of plot],\n",
    "                         color = [colors for each column]\n",
    "                         title = [title of plot]\n",
    "```                          \n",
    "\n",
    "For instance:"
   ]
  },
  {
   "cell_type": "code",
   "execution_count": 21,
   "metadata": {},
   "outputs": [
    {
     "data": {
      "text/plain": [
       "<matplotlib.axes._subplots.AxesSubplot at 0x10b01e898>"
      ]
     },
     "execution_count": 21,
     "metadata": {},
     "output_type": "execute_result"
    },
    {
     "data": {
      "image/png": "[encoded data removed]",
      "text/plain": [
       "<matplotlib.figure.Figure at 0x10b01e208>"
      ]
     },
     "metadata": {},
     "output_type": "display_data"
    }
   ],
   "source": [
    "df.plot(kind='line',\n",
    "       color=['firebrick', 'seagreen', 'midnightblue'],\n",
    "       title='2017 Monthly Temperatures for LA')"
   ]
  },
  {
   "cell_type": "markdown",
   "metadata": {},
   "source": [
    "---\n",
    "<span style=\"color:red; font-size:20px; font-weight:bold\">In-class exercise </span>\n",
    "\n",
    "Below are lists containing monthly average precipitation (unit: inches) during 2017 for three US cities - San Diego, Miami, and Detroit. \n",
    "\n",
    "1. Create a new DataFrame called `pr_df` storing three columns of precipitation data (named `SD`, `MIA`, and `DET`) and a DatetimeIndex ranging from 01/2017 through 12/2017.\n",
    "2. Create a bar plot (`kind='bar'`) to see how precipitation varied across each city during this year."
   ]
  },
  {
   "cell_type": "code",
   "execution_count": 22,
   "metadata": {},
   "outputs": [],
   "source": [
    "sd_precip = [3.02, 3.71, 0.08, 0.01, 0.92, 0.02, 0.00, 0.00, 0.08, 0.00, 0.02, 0.07]\n",
    "mia_precip = [3.41, 1.31, 3.92, 2.16, 2.69, 15.97, 12.45, 8.57, 14.97, 12.61, 4.41, 0.66]\n",
    "det_precip = [2.84, 1.91, 4.26, 3.55, 4.38, 2.03, 2.44, 3.91, 0.91, 2.84, 4.93, 1.49]"
   ]
  },
  {
   "cell_type": "code",
   "execution_count": 23,
   "metadata": {},
   "outputs": [
    {
     "data": {
      "text/plain": [
       "<matplotlib.axes._subplots.AxesSubplot at 0x113d7d828>"
      ]
     },
     "execution_count": 23,
     "metadata": {},
     "output_type": "execute_result"
    },
    {
     "data": {
      "image/png": "[encoded data removed]",
      "text/plain": [
       "<matplotlib.figure.Figure at 0x1109f6550>"
      ]
     },
     "metadata": {},
     "output_type": "display_data"
    }
   ],
   "source": [
    "# Create the DataFrame\n",
    "pr_df = pd.DataFrame()\n",
    "pr_df['SD'] = sd_precip\n",
    "pr_df['MIA'] = mia_precip\n",
    "pr_df['DET'] = det_precip\n",
    "pr_df.index = pd.date_range(start='2017-01', end='2017-12', freq='MS')\n",
    "\n",
    "# Plot the DataFrame\n",
    "# We'll fix the x-axis labels next\n",
    "pr_df.plot(kind='bar',\n",
    "          color=['red', 'green', 'blue'],\n",
    "          title='2017 Precipitation')"
   ]
  },
  {
   "cell_type": "markdown",
   "metadata": {},
   "source": [
    "# Blending Matplotlib and Pandas Plotting\n",
    "\n",
    "We can improve our Pandas-based plot using regular matplotlib commands.  \n",
    "\n",
    "I'll demonstate an example below that modified the bar chart we just created in the last in-class exercise. \n",
    "\n",
    "Soon, we'll dive deeper into Matpotlib to better customize our plots."
   ]
  },
  {
   "cell_type": "code",
   "execution_count": 24,
   "metadata": {},
   "outputs": [
    {
     "data": {
      "text/plain": [
       "<matplotlib.legend.Legend at 0x113d87668>"
      ]
     },
     "execution_count": 24,
     "metadata": {},
     "output_type": "execute_result"
    },
    {
     "data": {
      "image/png": "[encoded data removed]",
      "text/plain": [
       "<matplotlib.figure.Figure at 0x113d87048>"
      ]
     },
     "metadata": {},
     "output_type": "display_data"
    }
   ],
   "source": [
    "# Bar plot created using Pandas\n",
    "pr_df.plot(kind='bar',\n",
    "          color=['red', 'green', 'blue'],\n",
    "          title='2017 Precipitation')\n",
    "\n",
    "# Modifications created using Matplotlib\n",
    "xtick_locations = range(12) # 0, 1,..., 11\n",
    "xtick_labels = ['Jan', 'Feb', 'Mar', 'Apr', 'May', 'June', 'July', 'August',\n",
    "               'September', 'October', 'November', 'December']\n",
    "\n",
    "\n",
    "plt.ylabel('Precipitation (inches)')\n",
    "plt.xticks(xtick_locations, xtick_labels)\n",
    "plt.legend(loc='upper left', frameon=False)"
   ]
  },
  {
   "cell_type": "markdown",
   "metadata": {},
   "source": [
    "# DataFrame Statistics \n",
    "\n",
    "Recall that standard statistics (like mean, min, max) on Series were found with, for example:"
   ]
  },
  {
   "cell_type": "code",
   "execution_count": 25,
   "metadata": {},
   "outputs": [
    {
     "name": "stdout",
     "output_type": "stream",
     "text": [
      "7.283333333333334\n"
     ]
    }
   ],
   "source": [
    "sample_series = pd.Series([12.1, 10.9, 5.5, 3.2, 7,5])\n",
    "series_mean = sample_series.mean()\n",
    "print(series_mean)"
   ]
  },
  {
   "cell_type": "markdown",
   "metadata": {},
   "source": [
    "We can compute standard statistics on DataFrames with only one extra bit of information - whether that statistic should be performed along the row-axis or the column-axis.\n",
    "\n",
    "Axes are numbered 0 or 1, with **axis=0 for calculations across rows** and **axis=1 for calculations across columns.** \n",
    "\n",
    "Let's demonstrate on `df`, first recalling what this DataFrame looks like:"
   ]
  },
  {
   "cell_type": "code",
   "execution_count": 26,
   "metadata": {},
   "outputs": [
    {
     "data": {
      "text/html": [
       "<div>\n",
       "<style scoped>\n",
       "    .dataframe tbody tr th:only-of-type {\n",
       "        vertical-align: middle;\n",
       "    }\n",
       "\n",
       "    .dataframe tbody tr th {\n",
       "        vertical-align: top;\n",
       "    }\n",
       "\n",
       "    .dataframe thead th {\n",
       "        text-align: right;\n",
       "    }\n",
       "</style>\n",
       "<table border=\"1\" class=\"dataframe\">\n",
       "  <thead>\n",
       "    <tr style=\"text-align: right;\">\n",
       "      <th></th>\n",
       "      <th>TAVG</th>\n",
       "      <th>TMIN</th>\n",
       "      <th>TMAX</th>\n",
       "    </tr>\n",
       "  </thead>\n",
       "  <tbody>\n",
       "    <tr>\n",
       "      <th>2017-01-01</th>\n",
       "      <td>55.8</td>\n",
       "      <td>48.8</td>\n",
       "      <td>62.7</td>\n",
       "    </tr>\n",
       "    <tr>\n",
       "      <th>2017-02-01</th>\n",
       "      <td>57.2</td>\n",
       "      <td>51.8</td>\n",
       "      <td>62.6</td>\n",
       "    </tr>\n",
       "    <tr>\n",
       "      <th>2017-03-01</th>\n",
       "      <td>61.0</td>\n",
       "      <td>52.8</td>\n",
       "      <td>69.3</td>\n",
       "    </tr>\n",
       "    <tr>\n",
       "      <th>2017-04-01</th>\n",
       "      <td>63.6</td>\n",
       "      <td>55.4</td>\n",
       "      <td>71.9</td>\n",
       "    </tr>\n",
       "    <tr>\n",
       "      <th>2017-05-01</th>\n",
       "      <td>63.3</td>\n",
       "      <td>57.1</td>\n",
       "      <td>69.4</td>\n",
       "    </tr>\n",
       "    <tr>\n",
       "      <th>2017-06-01</th>\n",
       "      <td>66.7</td>\n",
       "      <td>60.9</td>\n",
       "      <td>72.6</td>\n",
       "    </tr>\n",
       "    <tr>\n",
       "      <th>2017-07-01</th>\n",
       "      <td>71.7</td>\n",
       "      <td>65.8</td>\n",
       "      <td>77.5</td>\n",
       "    </tr>\n",
       "    <tr>\n",
       "      <th>2017-08-01</th>\n",
       "      <td>72.0</td>\n",
       "      <td>66.8</td>\n",
       "      <td>77.3</td>\n",
       "    </tr>\n",
       "    <tr>\n",
       "      <th>2017-09-01</th>\n",
       "      <td>71.5</td>\n",
       "      <td>64.6</td>\n",
       "      <td>78.5</td>\n",
       "    </tr>\n",
       "    <tr>\n",
       "      <th>2017-10-01</th>\n",
       "      <td>71.5</td>\n",
       "      <td>62.5</td>\n",
       "      <td>80.4</td>\n",
       "    </tr>\n",
       "    <tr>\n",
       "      <th>2017-11-01</th>\n",
       "      <td>65.6</td>\n",
       "      <td>57.3</td>\n",
       "      <td>73.7</td>\n",
       "    </tr>\n",
       "    <tr>\n",
       "      <th>2017-12-01</th>\n",
       "      <td>61.4</td>\n",
       "      <td>50.3</td>\n",
       "      <td>72.4</td>\n",
       "    </tr>\n",
       "  </tbody>\n",
       "</table>\n",
       "</div>"
      ],
      "text/plain": [
       "            TAVG  TMIN  TMAX\n",
       "2017-01-01  55.8  48.8  62.7\n",
       "2017-02-01  57.2  51.8  62.6\n",
       "2017-03-01  61.0  52.8  69.3\n",
       "2017-04-01  63.6  55.4  71.9\n",
       "2017-05-01  63.3  57.1  69.4\n",
       "2017-06-01  66.7  60.9  72.6\n",
       "2017-07-01  71.7  65.8  77.5\n",
       "2017-08-01  72.0  66.8  77.3\n",
       "2017-09-01  71.5  64.6  78.5\n",
       "2017-10-01  71.5  62.5  80.4\n",
       "2017-11-01  65.6  57.3  73.7\n",
       "2017-12-01  61.4  50.3  72.4"
      ]
     },
     "execution_count": 26,
     "metadata": {},
     "output_type": "execute_result"
    }
   ],
   "source": [
    "df"
   ]
  },
  {
   "cell_type": "code",
   "execution_count": 27,
   "metadata": {},
   "outputs": [
    {
     "data": {
      "text/plain": [
       "TAVG    72.0\n",
       "TMIN    66.8\n",
       "TMAX    80.4\n",
       "dtype: float64"
      ]
     },
     "execution_count": 27,
     "metadata": {},
     "output_type": "execute_result"
    }
   ],
   "source": [
    "# Maximums across rows (or max value per column)\n",
    "df.max(axis=0)"
   ]
  },
  {
   "cell_type": "code",
   "execution_count": 28,
   "metadata": {},
   "outputs": [
    {
     "data": {
      "text/plain": [
       "2017-01-01    48.8\n",
       "2017-02-01    51.8\n",
       "2017-03-01    52.8\n",
       "2017-04-01    55.4\n",
       "2017-05-01    57.1\n",
       "2017-06-01    60.9\n",
       "2017-07-01    65.8\n",
       "2017-08-01    66.8\n",
       "2017-09-01    64.6\n",
       "2017-10-01    62.5\n",
       "2017-11-01    57.3\n",
       "2017-12-01    50.3\n",
       "Freq: MS, dtype: float64"
      ]
     },
     "execution_count": 28,
     "metadata": {},
     "output_type": "execute_result"
    }
   ],
   "source": [
    "# Minimums across columns (this just equals the TMIN column!)\n",
    "df.min(axis=1)"
   ]
  },
  {
   "cell_type": "code",
   "execution_count": 29,
   "metadata": {},
   "outputs": [
    {
     "data": {
      "text/plain": [
       "TMAX    68.083333\n",
       "TMIN    54.466667\n",
       "dtype: float64"
      ]
     },
     "execution_count": 29,
     "metadata": {},
     "output_type": "execute_result"
    }
   ],
   "source": [
    "# Mean of TMAX and TMIN across the first 6 months \n",
    "# \"Chaining\" or linking slicing and statistics together! \n",
    "df.loc['2017-01-01':'2017-06-01', ['TMAX', 'TMIN']].mean(axis=0)"
   ]
  },
  {
   "cell_type": "markdown",
   "metadata": {},
   "source": [
    "---\n",
    "<span style=\"color:red; font-size:20px; font-weight:bold\">In-class exercise </span>\n",
    "\n",
    "Using `df`, compute the following:\n",
    "\n",
    "1. Average monthly minimum temperature during the summmer (June, July, and August)\n",
    "2. Average monthly minimum and maximum temperature during the fall (September, October, November)"
   ]
  },
  {
   "cell_type": "code",
   "execution_count": 64,
   "metadata": {},
   "outputs": [],
   "source": [
    "avg_min_jja = df.loc['2017-06':'2017-08', 'TMIN'].mean(axis=0)\n",
    "avg_min_max_son = df.loc['2017-09':'2017-11', ['TMIN', 'TMAX']].mean(axis=0)"
   ]
  },
  {
   "cell_type": "markdown",
   "metadata": {},
   "source": [
    "# Creating New Columns From Existing Columns"
   ]
  },
  {
   "cell_type": "markdown",
   "metadata": {},
   "source": [
    "We often want to create a new column of data based on an analysis of existing columns. \n",
    "\n",
    "Unit conversion is a common example of this process. For example, let's convert `TAVG` in our `df` from units Fahrenheiht to Celsius:"
   ]
  },
  {
   "cell_type": "code",
   "execution_count": 31,
   "metadata": {},
   "outputs": [
    {
     "data": {
      "text/html": [
       "<div>\n",
       "<style scoped>\n",
       "    .dataframe tbody tr th:only-of-type {\n",
       "        vertical-align: middle;\n",
       "    }\n",
       "\n",
       "    .dataframe tbody tr th {\n",
       "        vertical-align: top;\n",
       "    }\n",
       "\n",
       "    .dataframe thead th {\n",
       "        text-align: right;\n",
       "    }\n",
       "</style>\n",
       "<table border=\"1\" class=\"dataframe\">\n",
       "  <thead>\n",
       "    <tr style=\"text-align: right;\">\n",
       "      <th></th>\n",
       "      <th>TAVG</th>\n",
       "      <th>TMIN</th>\n",
       "      <th>TMAX</th>\n",
       "      <th>TAVG(C)</th>\n",
       "    </tr>\n",
       "  </thead>\n",
       "  <tbody>\n",
       "    <tr>\n",
       "      <th>2017-01-01</th>\n",
       "      <td>55.8</td>\n",
       "      <td>48.8</td>\n",
       "      <td>62.7</td>\n",
       "      <td>13.22</td>\n",
       "    </tr>\n",
       "    <tr>\n",
       "      <th>2017-02-01</th>\n",
       "      <td>57.2</td>\n",
       "      <td>51.8</td>\n",
       "      <td>62.6</td>\n",
       "      <td>14.00</td>\n",
       "    </tr>\n",
       "    <tr>\n",
       "      <th>2017-03-01</th>\n",
       "      <td>61.0</td>\n",
       "      <td>52.8</td>\n",
       "      <td>69.3</td>\n",
       "      <td>16.11</td>\n",
       "    </tr>\n",
       "    <tr>\n",
       "      <th>2017-04-01</th>\n",
       "      <td>63.6</td>\n",
       "      <td>55.4</td>\n",
       "      <td>71.9</td>\n",
       "      <td>17.56</td>\n",
       "    </tr>\n",
       "    <tr>\n",
       "      <th>2017-05-01</th>\n",
       "      <td>63.3</td>\n",
       "      <td>57.1</td>\n",
       "      <td>69.4</td>\n",
       "      <td>17.39</td>\n",
       "    </tr>\n",
       "    <tr>\n",
       "      <th>2017-06-01</th>\n",
       "      <td>66.7</td>\n",
       "      <td>60.9</td>\n",
       "      <td>72.6</td>\n",
       "      <td>19.28</td>\n",
       "    </tr>\n",
       "    <tr>\n",
       "      <th>2017-07-01</th>\n",
       "      <td>71.7</td>\n",
       "      <td>65.8</td>\n",
       "      <td>77.5</td>\n",
       "      <td>22.06</td>\n",
       "    </tr>\n",
       "    <tr>\n",
       "      <th>2017-08-01</th>\n",
       "      <td>72.0</td>\n",
       "      <td>66.8</td>\n",
       "      <td>77.3</td>\n",
       "      <td>22.22</td>\n",
       "    </tr>\n",
       "    <tr>\n",
       "      <th>2017-09-01</th>\n",
       "      <td>71.5</td>\n",
       "      <td>64.6</td>\n",
       "      <td>78.5</td>\n",
       "      <td>21.94</td>\n",
       "    </tr>\n",
       "    <tr>\n",
       "      <th>2017-10-01</th>\n",
       "      <td>71.5</td>\n",
       "      <td>62.5</td>\n",
       "      <td>80.4</td>\n",
       "      <td>21.94</td>\n",
       "    </tr>\n",
       "    <tr>\n",
       "      <th>2017-11-01</th>\n",
       "      <td>65.6</td>\n",
       "      <td>57.3</td>\n",
       "      <td>73.7</td>\n",
       "      <td>18.67</td>\n",
       "    </tr>\n",
       "    <tr>\n",
       "      <th>2017-12-01</th>\n",
       "      <td>61.4</td>\n",
       "      <td>50.3</td>\n",
       "      <td>72.4</td>\n",
       "      <td>16.33</td>\n",
       "    </tr>\n",
       "  </tbody>\n",
       "</table>\n",
       "</div>"
      ],
      "text/plain": [
       "            TAVG  TMIN  TMAX  TAVG(C)\n",
       "2017-01-01  55.8  48.8  62.7    13.22\n",
       "2017-02-01  57.2  51.8  62.6    14.00\n",
       "2017-03-01  61.0  52.8  69.3    16.11\n",
       "2017-04-01  63.6  55.4  71.9    17.56\n",
       "2017-05-01  63.3  57.1  69.4    17.39\n",
       "2017-06-01  66.7  60.9  72.6    19.28\n",
       "2017-07-01  71.7  65.8  77.5    22.06\n",
       "2017-08-01  72.0  66.8  77.3    22.22\n",
       "2017-09-01  71.5  64.6  78.5    21.94\n",
       "2017-10-01  71.5  62.5  80.4    21.94\n",
       "2017-11-01  65.6  57.3  73.7    18.67\n",
       "2017-12-01  61.4  50.3  72.4    16.33"
      ]
     },
     "execution_count": 31,
     "metadata": {},
     "output_type": "execute_result"
    }
   ],
   "source": [
    "df['TAVG(C)'] = (df['TAVG'] - 32) * (5/9)\n",
    "df.round(2)"
   ]
  },
  {
   "cell_type": "markdown",
   "metadata": {},
   "source": [
    "For a bit more advanced example, let's examine a dataset of daily maximum temperatures:"
   ]
  },
  {
   "cell_type": "code",
   "execution_count": 32,
   "metadata": {},
   "outputs": [
    {
     "data": {
      "text/html": [
       "<div>\n",
       "<style scoped>\n",
       "    .dataframe tbody tr th:only-of-type {\n",
       "        vertical-align: middle;\n",
       "    }\n",
       "\n",
       "    .dataframe tbody tr th {\n",
       "        vertical-align: top;\n",
       "    }\n",
       "\n",
       "    .dataframe thead th {\n",
       "        text-align: right;\n",
       "    }\n",
       "</style>\n",
       "<table border=\"1\" class=\"dataframe\">\n",
       "  <thead>\n",
       "    <tr style=\"text-align: right;\">\n",
       "      <th></th>\n",
       "      <th>temperature</th>\n",
       "    </tr>\n",
       "  </thead>\n",
       "  <tbody>\n",
       "    <tr>\n",
       "      <th>2018-07-01</th>\n",
       "      <td>96</td>\n",
       "    </tr>\n",
       "    <tr>\n",
       "      <th>2018-07-02</th>\n",
       "      <td>91</td>\n",
       "    </tr>\n",
       "    <tr>\n",
       "      <th>2018-07-03</th>\n",
       "      <td>90</td>\n",
       "    </tr>\n",
       "    <tr>\n",
       "      <th>2018-07-04</th>\n",
       "      <td>92</td>\n",
       "    </tr>\n",
       "    <tr>\n",
       "      <th>2018-07-05</th>\n",
       "      <td>93</td>\n",
       "    </tr>\n",
       "  </tbody>\n",
       "</table>\n",
       "</div>"
      ],
      "text/plain": [
       "            temperature\n",
       "2018-07-01           96\n",
       "2018-07-02           91\n",
       "2018-07-03           90\n",
       "2018-07-04           92\n",
       "2018-07-05           93"
      ]
     },
     "execution_count": 32,
     "metadata": {},
     "output_type": "execute_result"
    }
   ],
   "source": [
    "# Daily max temperatures during July 2018 \n",
    "july_temps = pd.DataFrame(columns=['temperature'],\n",
    "                         data=[96, 91, 90, 92, 93, 95, 94, 90, 89, 88, 87, 85, 89, 88, 90, \n",
    "                               92, 94, 98, 99, 100, 97, 94, 93, 92, 90, 88, 90, 90, 90, 90, 91],\n",
    "                         index=pd.date_range(start='2018-07-01', end='2018-07-31', freq='D'))\n",
    "july_temps.head(5)"
   ]
  },
  {
   "cell_type": "markdown",
   "metadata": {},
   "source": [
    "And we could ask the question: How many days during July exceeded 95 degrees F?\n",
    "\n",
    "To answer this, we need to create a new column in `july_temps` storing a True or False value indicating whether that day's temperature is above 95:"
   ]
  },
  {
   "cell_type": "code",
   "execution_count": 33,
   "metadata": {},
   "outputs": [
    {
     "data": {
      "text/html": [
       "<div>\n",
       "<style scoped>\n",
       "    .dataframe tbody tr th:only-of-type {\n",
       "        vertical-align: middle;\n",
       "    }\n",
       "\n",
       "    .dataframe tbody tr th {\n",
       "        vertical-align: top;\n",
       "    }\n",
       "\n",
       "    .dataframe thead th {\n",
       "        text-align: right;\n",
       "    }\n",
       "</style>\n",
       "<table border=\"1\" class=\"dataframe\">\n",
       "  <thead>\n",
       "    <tr style=\"text-align: right;\">\n",
       "      <th></th>\n",
       "      <th>temperature</th>\n",
       "      <th>extreme</th>\n",
       "    </tr>\n",
       "  </thead>\n",
       "  <tbody>\n",
       "    <tr>\n",
       "      <th>2018-07-01</th>\n",
       "      <td>96</td>\n",
       "      <td>True</td>\n",
       "    </tr>\n",
       "    <tr>\n",
       "      <th>2018-07-02</th>\n",
       "      <td>91</td>\n",
       "      <td>False</td>\n",
       "    </tr>\n",
       "    <tr>\n",
       "      <th>2018-07-03</th>\n",
       "      <td>90</td>\n",
       "      <td>False</td>\n",
       "    </tr>\n",
       "    <tr>\n",
       "      <th>2018-07-04</th>\n",
       "      <td>92</td>\n",
       "      <td>False</td>\n",
       "    </tr>\n",
       "    <tr>\n",
       "      <th>2018-07-05</th>\n",
       "      <td>93</td>\n",
       "      <td>False</td>\n",
       "    </tr>\n",
       "    <tr>\n",
       "      <th>2018-07-06</th>\n",
       "      <td>95</td>\n",
       "      <td>False</td>\n",
       "    </tr>\n",
       "    <tr>\n",
       "      <th>2018-07-07</th>\n",
       "      <td>94</td>\n",
       "      <td>False</td>\n",
       "    </tr>\n",
       "    <tr>\n",
       "      <th>2018-07-08</th>\n",
       "      <td>90</td>\n",
       "      <td>False</td>\n",
       "    </tr>\n",
       "    <tr>\n",
       "      <th>2018-07-09</th>\n",
       "      <td>89</td>\n",
       "      <td>False</td>\n",
       "    </tr>\n",
       "    <tr>\n",
       "      <th>2018-07-10</th>\n",
       "      <td>88</td>\n",
       "      <td>False</td>\n",
       "    </tr>\n",
       "    <tr>\n",
       "      <th>2018-07-11</th>\n",
       "      <td>87</td>\n",
       "      <td>False</td>\n",
       "    </tr>\n",
       "    <tr>\n",
       "      <th>2018-07-12</th>\n",
       "      <td>85</td>\n",
       "      <td>False</td>\n",
       "    </tr>\n",
       "    <tr>\n",
       "      <th>2018-07-13</th>\n",
       "      <td>89</td>\n",
       "      <td>False</td>\n",
       "    </tr>\n",
       "    <tr>\n",
       "      <th>2018-07-14</th>\n",
       "      <td>88</td>\n",
       "      <td>False</td>\n",
       "    </tr>\n",
       "    <tr>\n",
       "      <th>2018-07-15</th>\n",
       "      <td>90</td>\n",
       "      <td>False</td>\n",
       "    </tr>\n",
       "    <tr>\n",
       "      <th>2018-07-16</th>\n",
       "      <td>92</td>\n",
       "      <td>False</td>\n",
       "    </tr>\n",
       "    <tr>\n",
       "      <th>2018-07-17</th>\n",
       "      <td>94</td>\n",
       "      <td>False</td>\n",
       "    </tr>\n",
       "    <tr>\n",
       "      <th>2018-07-18</th>\n",
       "      <td>98</td>\n",
       "      <td>True</td>\n",
       "    </tr>\n",
       "    <tr>\n",
       "      <th>2018-07-19</th>\n",
       "      <td>99</td>\n",
       "      <td>True</td>\n",
       "    </tr>\n",
       "    <tr>\n",
       "      <th>2018-07-20</th>\n",
       "      <td>100</td>\n",
       "      <td>True</td>\n",
       "    </tr>\n",
       "    <tr>\n",
       "      <th>2018-07-21</th>\n",
       "      <td>97</td>\n",
       "      <td>True</td>\n",
       "    </tr>\n",
       "    <tr>\n",
       "      <th>2018-07-22</th>\n",
       "      <td>94</td>\n",
       "      <td>False</td>\n",
       "    </tr>\n",
       "    <tr>\n",
       "      <th>2018-07-23</th>\n",
       "      <td>93</td>\n",
       "      <td>False</td>\n",
       "    </tr>\n",
       "    <tr>\n",
       "      <th>2018-07-24</th>\n",
       "      <td>92</td>\n",
       "      <td>False</td>\n",
       "    </tr>\n",
       "    <tr>\n",
       "      <th>2018-07-25</th>\n",
       "      <td>90</td>\n",
       "      <td>False</td>\n",
       "    </tr>\n",
       "    <tr>\n",
       "      <th>2018-07-26</th>\n",
       "      <td>88</td>\n",
       "      <td>False</td>\n",
       "    </tr>\n",
       "    <tr>\n",
       "      <th>2018-07-27</th>\n",
       "      <td>90</td>\n",
       "      <td>False</td>\n",
       "    </tr>\n",
       "    <tr>\n",
       "      <th>2018-07-28</th>\n",
       "      <td>90</td>\n",
       "      <td>False</td>\n",
       "    </tr>\n",
       "    <tr>\n",
       "      <th>2018-07-29</th>\n",
       "      <td>90</td>\n",
       "      <td>False</td>\n",
       "    </tr>\n",
       "    <tr>\n",
       "      <th>2018-07-30</th>\n",
       "      <td>90</td>\n",
       "      <td>False</td>\n",
       "    </tr>\n",
       "    <tr>\n",
       "      <th>2018-07-31</th>\n",
       "      <td>91</td>\n",
       "      <td>False</td>\n",
       "    </tr>\n",
       "  </tbody>\n",
       "</table>\n",
       "</div>"
      ],
      "text/plain": [
       "            temperature  extreme\n",
       "2018-07-01           96     True\n",
       "2018-07-02           91    False\n",
       "2018-07-03           90    False\n",
       "2018-07-04           92    False\n",
       "2018-07-05           93    False\n",
       "2018-07-06           95    False\n",
       "2018-07-07           94    False\n",
       "2018-07-08           90    False\n",
       "2018-07-09           89    False\n",
       "2018-07-10           88    False\n",
       "2018-07-11           87    False\n",
       "2018-07-12           85    False\n",
       "2018-07-13           89    False\n",
       "2018-07-14           88    False\n",
       "2018-07-15           90    False\n",
       "2018-07-16           92    False\n",
       "2018-07-17           94    False\n",
       "2018-07-18           98     True\n",
       "2018-07-19           99     True\n",
       "2018-07-20          100     True\n",
       "2018-07-21           97     True\n",
       "2018-07-22           94    False\n",
       "2018-07-23           93    False\n",
       "2018-07-24           92    False\n",
       "2018-07-25           90    False\n",
       "2018-07-26           88    False\n",
       "2018-07-27           90    False\n",
       "2018-07-28           90    False\n",
       "2018-07-29           90    False\n",
       "2018-07-30           90    False\n",
       "2018-07-31           91    False"
      ]
     },
     "execution_count": 33,
     "metadata": {},
     "output_type": "execute_result"
    }
   ],
   "source": [
    "# Create a new column in the dataframe called 'extreme' \n",
    "# based on whether temperature is greater than 95\n",
    "july_temps['extreme'] = july_temps['temperature'] > 95\n",
    "july_temps"
   ]
  },
  {
   "cell_type": "markdown",
   "metadata": {},
   "source": [
    "Now we want to add up the number of `True` values in the last column. How can we do that?\n",
    "\n",
    "Luckily, Python treats `False` as 0 and `True` as 1. So we can simply sum the last column!"
   ]
  },
  {
   "cell_type": "code",
   "execution_count": 34,
   "metadata": {},
   "outputs": [
    {
     "name": "stdout",
     "output_type": "stream",
     "text": [
      "July experienced 5 extremely hot days.\n"
     ]
    }
   ],
   "source": [
    "# Sum the number of extreme days (=True)\n",
    "num_extreme = july_temps['extreme'].sum()\n",
    "\n",
    "print('July experienced', num_extreme, 'extremely hot days.')\n",
    "# Alternative print statement:\n",
    "#print('July experienced {0} extremely hot days.'.format(num_extreme))"
   ]
  },
  {
   "cell_type": "markdown",
   "metadata": {},
   "source": [
    "---\n",
    "\n",
    "<span style=\"color:red; font-size:20px; font-weight:bold\">In-class exercise </span>\n",
    "\n",
    "The DataFrame below contains hourly air temperature (degrees F) and precipitation (inches) for January 15, 2010.\n",
    "\n",
    "Snow will occur in a given hour if the temperature is at or below freezing. How many hours of snowfall did this day experience? "
   ]
  },
  {
   "cell_type": "code",
   "execution_count": 35,
   "metadata": {},
   "outputs": [
    {
     "data": {
      "text/html": [
       "<div>\n",
       "<style scoped>\n",
       "    .dataframe tbody tr th:only-of-type {\n",
       "        vertical-align: middle;\n",
       "    }\n",
       "\n",
       "    .dataframe tbody tr th {\n",
       "        vertical-align: top;\n",
       "    }\n",
       "\n",
       "    .dataframe thead th {\n",
       "        text-align: right;\n",
       "    }\n",
       "</style>\n",
       "<table border=\"1\" class=\"dataframe\">\n",
       "  <thead>\n",
       "    <tr style=\"text-align: right;\">\n",
       "      <th></th>\n",
       "      <th>T</th>\n",
       "      <th>P</th>\n",
       "    </tr>\n",
       "  </thead>\n",
       "  <tbody>\n",
       "    <tr>\n",
       "      <th>2010-01-15 00:00:00</th>\n",
       "      <td>33</td>\n",
       "      <td>0.25</td>\n",
       "    </tr>\n",
       "    <tr>\n",
       "      <th>2010-01-15 01:00:00</th>\n",
       "      <td>34</td>\n",
       "      <td>0.21</td>\n",
       "    </tr>\n",
       "    <tr>\n",
       "      <th>2010-01-15 02:00:00</th>\n",
       "      <td>35</td>\n",
       "      <td>0.23</td>\n",
       "    </tr>\n",
       "    <tr>\n",
       "      <th>2010-01-15 03:00:00</th>\n",
       "      <td>36</td>\n",
       "      <td>0.20</td>\n",
       "    </tr>\n",
       "  </tbody>\n",
       "</table>\n",
       "</div>"
      ],
      "text/plain": [
       "                      T     P\n",
       "2010-01-15 00:00:00  33  0.25\n",
       "2010-01-15 01:00:00  34  0.21\n",
       "2010-01-15 02:00:00  35  0.23\n",
       "2010-01-15 03:00:00  36  0.20"
      ]
     },
     "execution_count": 35,
     "metadata": {},
     "output_type": "execute_result"
    }
   ],
   "source": [
    "jan_df = pd.DataFrame()\n",
    "jan_df['T'] = [33, 34, 35, 36, 34, 33, 32, 31, 31, 30, 30, 29, \n",
    "             28, 29, 30, 31, 32, 33, 35, 38, 40, 41, 41, 41]\n",
    "jan_df['P'] = [0.25, 0.21, 0.23, 0.20, 0.22, 0.26, 0.30, 0.35, \n",
    "             0.31, 0.33, 0.21, 0.15, 0.10, 0.09, 0.04, 0.10,\n",
    "            0.11, 0.15, 0.05, 0.13, 0.20, 0.25, 0.00, 0.00]\n",
    "jan_df.index = pd.date_range(start='2010-01-15 00:00', end='2010-01-15 23:00', freq='H')\n",
    "jan_df.head(4)"
   ]
  },
  {
   "cell_type": "code",
   "execution_count": 36,
   "metadata": {},
   "outputs": [
    {
     "name": "stdout",
     "output_type": "stream",
     "text": [
      "This day experienced 11 hours of snowfall.\n"
     ]
    }
   ],
   "source": [
    "jan_df['snowing'] = jan_df['T'] <= 32.\n",
    "num_snow_hours = jan_df['snowing'].sum()\n",
    "print('This day experienced {0} hours of snowfall.'.format(num_snow_hours))"
   ]
  },
  {
   "cell_type": "markdown",
   "metadata": {},
   "source": [
    "# Reading external data files  📜 📃 📄 📑\n",
    "\n",
    "Most commonly, we will use Pandas to read external data files (e.g. text, csv, Excel) for further analyses. \n",
    "\n",
    "Pandas can read/write a [wide range of file types](https://pandas.pydata.org/pandas-docs/stable/io.html), but for our purposes, we'll stick with comma-separate-value or CSV files.\n",
    "\n",
    "CSV files are simply text files where each data point in a row is separated by a comma. For instance:\n",
    "\n",
    "```\n",
    "Date,Value1,Value2,Value3\n",
    "2018-01,12,23,45\n",
    "2018-02,19,21,23\n",
    "2018-03,17,19,31\n",
    "```\n",
    "\n",
    "We are going to start working with a file called `slr_rcp85_la.csv`, which should be located in the /data/ sub-directory in your AOS51 directory. \n",
    "\n",
    "This file shows the fraction (0 to 1) of hours in a year that the sea level off the coast of LA exceeds approximately 5 feet. The future projections are based on a business-as-usual greenhouse gas emissions scenario called RCP8.5. \n",
    "\n",
    "We can read in the file and assign it to a new DataFrame called `slr` with:"
   ]
  },
  {
   "cell_type": "code",
   "execution_count": 65,
   "metadata": {},
   "outputs": [],
   "source": [
    "# Replace nberg with your name below!\n",
    "slr_df = pd.read_csv('/Users/nberg/AOS51/data/slr_rcp85_la.csv', sep=',')"
   ]
  },
  {
   "cell_type": "markdown",
   "metadata": {},
   "source": [
    "We supply the `pd.read_csv()` command with at least two-arguments: the path to the csv file and then what kind of seperator (sep) exists between each data point. In this case, it's a comma `,`, but it could be a space, a tab, etc. \n",
    "\n",
    "Let's view `slr_df` to see what we are working with:"
   ]
  },
  {
   "cell_type": "code",
   "execution_count": 66,
   "metadata": {},
   "outputs": [
    {
     "name": "stdout",
     "output_type": "stream",
     "text": [
      "   year       slr\n",
      "0  2000  0.000000\n",
      "1  2001  0.000000\n",
      "2  2002  0.000114\n",
      "3  2003  0.000342\n",
      "4  2004  0.000000\n",
      "    year       slr\n",
      "95  2095  0.857648\n",
      "96  2096  0.876941\n",
      "97  2097  0.903196\n",
      "98  2098  0.918493\n",
      "99  2099  0.949429\n"
     ]
    }
   ],
   "source": [
    "print(slr_df.head(5))\n",
    "print(slr_df.tail(5))"
   ]
  },
  {
   "cell_type": "markdown",
   "metadata": {},
   "source": [
    "OK, we have 100 years of data, but we want `year` to be our index, not numbers going from 0 to 99.\n",
    "\n",
    "For that, we need to specify during the read-in procedure which column (as an integer starting with 0) to use as our index:"
   ]
  },
  {
   "cell_type": "code",
   "execution_count": 39,
   "metadata": {},
   "outputs": [
    {
     "data": {
      "text/html": [
       "<div>\n",
       "<style scoped>\n",
       "    .dataframe tbody tr th:only-of-type {\n",
       "        vertical-align: middle;\n",
       "    }\n",
       "\n",
       "    .dataframe tbody tr th {\n",
       "        vertical-align: top;\n",
       "    }\n",
       "\n",
       "    .dataframe thead th {\n",
       "        text-align: right;\n",
       "    }\n",
       "</style>\n",
       "<table border=\"1\" class=\"dataframe\">\n",
       "  <thead>\n",
       "    <tr style=\"text-align: right;\">\n",
       "      <th></th>\n",
       "      <th>slr</th>\n",
       "    </tr>\n",
       "    <tr>\n",
       "      <th>year</th>\n",
       "      <th></th>\n",
       "    </tr>\n",
       "  </thead>\n",
       "  <tbody>\n",
       "    <tr>\n",
       "      <th>2000</th>\n",
       "      <td>0.000000</td>\n",
       "    </tr>\n",
       "    <tr>\n",
       "      <th>2001</th>\n",
       "      <td>0.000000</td>\n",
       "    </tr>\n",
       "    <tr>\n",
       "      <th>2002</th>\n",
       "      <td>0.000114</td>\n",
       "    </tr>\n",
       "    <tr>\n",
       "      <th>2003</th>\n",
       "      <td>0.000342</td>\n",
       "    </tr>\n",
       "    <tr>\n",
       "      <th>2004</th>\n",
       "      <td>0.000000</td>\n",
       "    </tr>\n",
       "  </tbody>\n",
       "</table>\n",
       "</div>"
      ],
      "text/plain": [
       "           slr\n",
       "year          \n",
       "2000  0.000000\n",
       "2001  0.000000\n",
       "2002  0.000114\n",
       "2003  0.000342\n",
       "2004  0.000000"
      ]
     },
     "execution_count": 39,
     "metadata": {},
     "output_type": "execute_result"
    }
   ],
   "source": [
    "slr_df = pd.read_csv('/Users/nberg/AOS51/data/slr_rcp85_la.csv', sep=',', index_col=0)\n",
    "slr_df.head(5)"
   ]
  },
  {
   "cell_type": "markdown",
   "metadata": {},
   "source": [
    "Looking better...\n",
    "\n",
    "Since we are working with dates as our index, we want to transform the index to be a true DatetimeIndex so that we can resample it, for instance. \n",
    "\n",
    "For that we need to tell Pandas to parse the dates in the index:"
   ]
  },
  {
   "cell_type": "code",
   "execution_count": 40,
   "metadata": {},
   "outputs": [
    {
     "data": {
      "text/html": [
       "<div>\n",
       "<style scoped>\n",
       "    .dataframe tbody tr th:only-of-type {\n",
       "        vertical-align: middle;\n",
       "    }\n",
       "\n",
       "    .dataframe tbody tr th {\n",
       "        vertical-align: top;\n",
       "    }\n",
       "\n",
       "    .dataframe thead th {\n",
       "        text-align: right;\n",
       "    }\n",
       "</style>\n",
       "<table border=\"1\" class=\"dataframe\">\n",
       "  <thead>\n",
       "    <tr style=\"text-align: right;\">\n",
       "      <th></th>\n",
       "      <th>slr</th>\n",
       "    </tr>\n",
       "    <tr>\n",
       "      <th>year</th>\n",
       "      <th></th>\n",
       "    </tr>\n",
       "  </thead>\n",
       "  <tbody>\n",
       "    <tr>\n",
       "      <th>2000-01-01</th>\n",
       "      <td>0.000000</td>\n",
       "    </tr>\n",
       "    <tr>\n",
       "      <th>2001-01-01</th>\n",
       "      <td>0.000000</td>\n",
       "    </tr>\n",
       "    <tr>\n",
       "      <th>2002-01-01</th>\n",
       "      <td>0.000114</td>\n",
       "    </tr>\n",
       "    <tr>\n",
       "      <th>2003-01-01</th>\n",
       "      <td>0.000342</td>\n",
       "    </tr>\n",
       "    <tr>\n",
       "      <th>2004-01-01</th>\n",
       "      <td>0.000000</td>\n",
       "    </tr>\n",
       "  </tbody>\n",
       "</table>\n",
       "</div>"
      ],
      "text/plain": [
       "                 slr\n",
       "year                \n",
       "2000-01-01  0.000000\n",
       "2001-01-01  0.000000\n",
       "2002-01-01  0.000114\n",
       "2003-01-01  0.000342\n",
       "2004-01-01  0.000000"
      ]
     },
     "execution_count": 40,
     "metadata": {},
     "output_type": "execute_result"
    }
   ],
   "source": [
    "slr_df = pd.read_csv('/Users/nberg/AOS51/data/slr_rcp85_la.csv', sep=',', index_col=0, parse_dates=True)\n",
    "slr_df.head(5)"
   ]
  },
  {
   "cell_type": "markdown",
   "metadata": {},
   "source": [
    "Optionally, we can remove the `year` title from our index, which will help realign the display of our DataFrame:"
   ]
  },
  {
   "cell_type": "code",
   "execution_count": 41,
   "metadata": {},
   "outputs": [
    {
     "data": {
      "text/html": [
       "<div>\n",
       "<style scoped>\n",
       "    .dataframe tbody tr th:only-of-type {\n",
       "        vertical-align: middle;\n",
       "    }\n",
       "\n",
       "    .dataframe tbody tr th {\n",
       "        vertical-align: top;\n",
       "    }\n",
       "\n",
       "    .dataframe thead th {\n",
       "        text-align: right;\n",
       "    }\n",
       "</style>\n",
       "<table border=\"1\" class=\"dataframe\">\n",
       "  <thead>\n",
       "    <tr style=\"text-align: right;\">\n",
       "      <th></th>\n",
       "      <th>slr</th>\n",
       "    </tr>\n",
       "  </thead>\n",
       "  <tbody>\n",
       "    <tr>\n",
       "      <th>2000-01-01</th>\n",
       "      <td>0.000000</td>\n",
       "    </tr>\n",
       "    <tr>\n",
       "      <th>2001-01-01</th>\n",
       "      <td>0.000000</td>\n",
       "    </tr>\n",
       "    <tr>\n",
       "      <th>2002-01-01</th>\n",
       "      <td>0.000114</td>\n",
       "    </tr>\n",
       "    <tr>\n",
       "      <th>2003-01-01</th>\n",
       "      <td>0.000342</td>\n",
       "    </tr>\n",
       "    <tr>\n",
       "      <th>2004-01-01</th>\n",
       "      <td>0.000000</td>\n",
       "    </tr>\n",
       "  </tbody>\n",
       "</table>\n",
       "</div>"
      ],
      "text/plain": [
       "                 slr\n",
       "2000-01-01  0.000000\n",
       "2001-01-01  0.000000\n",
       "2002-01-01  0.000114\n",
       "2003-01-01  0.000342\n",
       "2004-01-01  0.000000"
      ]
     },
     "execution_count": 41,
     "metadata": {},
     "output_type": "execute_result"
    }
   ],
   "source": [
    "slr_df.index.name = None\n",
    "slr_df.head(5)"
   ]
  },
  {
   "cell_type": "markdown",
   "metadata": {},
   "source": [
    "Let's quickly visualize this data set to see what future sea levels could look like over LA! "
   ]
  },
  {
   "cell_type": "code",
   "execution_count": 42,
   "metadata": {},
   "outputs": [
    {
     "data": {
      "text/plain": [
       "<matplotlib.axes._subplots.AxesSubplot at 0x11408e208>"
      ]
     },
     "execution_count": 42,
     "metadata": {},
     "output_type": "execute_result"
    },
    {
     "data": {
      "image/png": "[encoded data removed]",
      "text/plain": [
       "<matplotlib.figure.Figure at 0x11408ec50>"
      ]
     },
     "metadata": {},
     "output_type": "display_data"
    }
   ],
   "source": [
    "slr_df.plot(kind='line',\n",
    "           color='blue',\n",
    "           title='Fraction of year that sea levels exceed ~5 ft')"
   ]
  },
  {
   "cell_type": "markdown",
   "metadata": {},
   "source": [
    "<span style=\"color:red; font-size:20px; font-weight:bold\">In-class exercise 😓 </span>\n",
    "\n",
    "Let's examine how the number of extremely hot days (> 90 deg F) are projected to change over LA during the rest of this century. \n",
    "\n",
    "We'll examine observed (1950 - 2005) values and projections (2005 - 2100) from 4 global climate models (GCM)\n",
    "\n",
    "Instructions:\n",
    "1. Examine the raw data before we start analyzing it. Open the file `extreme_heat_days_rcp85_tasmax.csv` in Excel (or on the command line with `>>> cat extreme_heat_days_rcp85_tasmax.csv`.\n",
    "\n",
    "2. Generate a new DataFrame called `extreme_heat` by reading in the file called `extreme_heat_days_rcp85_tasmax.csv`.\n",
    "    - Make sure you tell Pandas which column to use as the index and to parse those dates. \n",
    "3. Slice observed values spanning 1980-2000\n",
    "4. Compute the average observed number of extremely hot days during 1980-2000.\n",
    "5. Slice projected values spanning 2040-2060 and 2080-2100 for all GCMs.\n",
    "6. Compute the average projected number of extremelt hot days during 2040-2060 and 2080-2100 for each GCM. \n",
    "7. Calculate the change in extremely hot days from 1980-2000 to 2040-2060 and 2080-2100 for each GCM. \n",
    "8. Plot the time series in the DataFrame using Pandas."
   ]
  },
  {
   "cell_type": "code",
   "execution_count": 43,
   "metadata": {},
   "outputs": [
    {
     "data": {
      "text/plain": [
       "<matplotlib.axes._subplots.AxesSubplot at 0x1140fa550>"
      ]
     },
     "execution_count": 43,
     "metadata": {},
     "output_type": "execute_result"
    },
    {
     "data": {
      "image/png": "[encoded data removed]",
      "text/plain": [
       "<matplotlib.figure.Figure at 0x1140fab70>"
      ]
     },
     "metadata": {},
     "output_type": "display_data"
    }
   ],
   "source": [
    "extreme_heat = pd.read_csv('/Users/nberg/AOS51/data/extreme_heat_days_rcp85_tasmax.csv', \n",
    "                           sep=',', index_col=0, parse_dates=True)\n",
    "extreme_heat.index.name = None;\n",
    "extreme_heat.head(4)\n",
    "\n",
    "# Observed average from 1980-2000\n",
    "obs_avg_1980_2000 = extreme_heat.loc['1980':'2000', 'observed'].mean(axis=0)\n",
    "\n",
    "# GCM1, 2, 3, and 4 averages during 2040-2060, and 2080-2100\n",
    "gcm_avg_2040_2060 = extreme_heat.loc['2040':'2060', ['GCM1', 'GCM2', 'GCM3', 'GCM4']].mean(axis=0)\n",
    "gcm_avg_2080_2100 = extreme_heat.loc['2080':'2100', ['GCM1', 'GCM2', 'GCM3', 'GCM4']].mean(axis=0)\n",
    "\n",
    "# Changes by mid- and late-century \n",
    "change_2040_2060 = gcm_avg_2040_2060 - obs_avg_1980_2000\n",
    "change_2080_2010 = gcm_avg_2080_2100 - obs_avg_1980_2000\n",
    "\n",
    "# Time series\n",
    "extreme_heat.plot(kind='line',\n",
    "                 color=['black', 'magenta', 'seagreen', 'skyblue', 'orange'],\n",
    "                 title='Number of Extremely Hot Days')"
   ]
  },
  {
   "cell_type": "markdown",
   "metadata": {},
   "source": [
    "---\n",
    "<span style=\"color:red; font-size:20px; font-weight:bold\">In-class exercise ☃️</span>\n",
    "\n",
    "Let's now examine how snowpack in the Sierra Nevada evolves over the course of a snow-season, which starts on September 1st and ends on August 31 of the following year. \n",
    "\n",
    "We'll work with a new file called `sierra_snowpack.csv`, containing daily snowpack levels (unit: mm) for a location in the Northern Sierra and a location in the Southern Sierra. \n",
    "\n",
    "Instructions:\n",
    "1. Examine the contents of `sierra_snowpack.csv` in Excel or on the command line to see what we are working with. \n",
    "2. Read-in the file to generate a new DataFrame called `snowpack` containing two columns of snowpack data (one column for each location) and make sure you parse the dates for a corresponding DatetimeIndex.\n",
    "3. Use the Pandas command [idxmax](https://pandas.pydata.org/pandas-docs/stable/generated/pandas.DataFrame.idxmax.html) determine the day where snowpack reached it peak value for both locations.\n",
    "    * Note: we have not covered this command yet, so you'll need to view the documentation to see how it works, then give it a try!\n",
    "4. Create two new columns in `snowpack` called `N_Sierra_in` and `S_Sierra_in` that convert the snowpack time series from units millimeters to inches. \n",
    "5. Create a new DataFrame called `snowpack_monthly` that resamples `snowpack` to monthly-mean values.\n",
    "   * Hint: Resampling DataFrames is nearly identical to resampling Series, check out the [official documentation here](https://pandas.pydata.org/pandas-docs/stable/generated/pandas.DataFrame.resample.html) to see examples.\n",
    "6. Create a line plot monthly-mean snowpack **in inches** for both locations (only two lines, not four!).\n",
    "   * Hint: since we only want to plot a subset of columns in the DataFrame, we'll need to specific what our y-data should be. Check out the [plotting documentation](https://pandas.pydata.org/pandas-docs/stable/generated/pandas.DataFrame.plot.html) to see how to accomplish this. "
   ]
  },
  {
   "cell_type": "code",
   "execution_count": 68,
   "metadata": {},
   "outputs": [
    {
     "name": "stdout",
     "output_type": "stream",
     "text": [
      "N_Sierra   1997-03-18\n",
      "S_Sierra   1997-03-03\n",
      "dtype: datetime64[ns]\n"
     ]
    },
    {
     "name": "stderr",
     "output_type": "stream",
     "text": [
      "/anaconda3/lib/python3.5/site-packages/pandas/plotting/_core.py:1716: UserWarning: Pandas doesn't allow columns to be created via a new attribute name - see https://pandas.pydata.org/pandas-docs/stable/indexing.html#attribute-access\n",
      "  series.name = label\n"
     ]
    },
    {
     "data": {
      "text/plain": [
       "<matplotlib.axes._subplots.AxesSubplot at 0x1149aef28>"
      ]
     },
     "execution_count": 68,
     "metadata": {},
     "output_type": "execute_result"
    },
    {
     "data": {
      "image/png": "[encoded data removed]",
      "text/plain": [
       "<matplotlib.figure.Figure at 0x114ac9400>"
      ]
     },
     "metadata": {},
     "output_type": "display_data"
    }
   ],
   "source": [
    "# Read-in the file, parsing the dates as the index\n",
    "snowpack = pd.read_csv('/Users/nberg/AOS51/data/sierra_snowpack.csv', sep=',', index_col=0, parse_dates=True)\n",
    "#print(snowpack.head(4))\n",
    "\n",
    "# Dates of maximum snowpack\n",
    "print(snowpack.idxmax(axis=0))\n",
    "\n",
    "# Create new column that convert from mm to inches\n",
    "# 25.4 mm = 1 inch\n",
    "snowpack['N_Sierra_in'] = snowpack['N_Sierra'] / 25.4\n",
    "snowpack['S_Sierra_in'] = snowpack['S_Sierra'] / 25.4\n",
    "\n",
    "# Resampling from daily to monthly means\n",
    "snowpack_monthly = snowpack.resample('MS').mean()\n",
    "\n",
    "# Line plots of only the time series in inches\n",
    "snowpack_monthly.plot(y=['N_Sierra_in', 'S_Sierra_in'],\n",
    "                    kind='line',\n",
    "                    color=['steelblue', 'crimson'],\n",
    "                    title='Monthly snowpack during 1996-1997 (inches)')"
   ]
  },
  {
   "cell_type": "markdown",
   "metadata": {},
   "source": [
    "# Diving Deeper Into Matplotlib 🎨\n",
    "\n",
    "We've done a lot of plotting using Pandas, which is completely fine, but it's not as powerful as matplotlib.\n",
    "\n",
    "Let's learn how plots actually work in matplotlib, then start customizing them to our liking. "
   ]
  },
  {
   "cell_type": "markdown",
   "metadata": {},
   "source": [
    "---\n",
    "## Terminology \n",
    "\n",
    "Let's view [this Jupyer Notebook](https://github.com/matplotlib/AnatomyOfMatplotlib/blob/master/AnatomyOfMatplotlib-Part1-Figures_Subplots_and_layouts.ipynb) to visualuze how Matplotlib defines three terms:\n",
    "\n",
    "1. Figure\n",
    "2. Axes/subplot\n",
    "3. Y-axis and X-axis \n",
    "\n",
    "We see that:\n",
    "\n",
    "1. The \"Figure\" is the highest-level container of the plot. It encapsulates the entire page where stuff is drawn. \n",
    "\n",
    "2. \"Axes\" are the area that we plot data on, along with any ticks/labels/etc associated with it. An Axes is created with a call to `subplot`, so Axes and Subplot are mostly synonymous terms now. \n",
    "\n",
    "3. Each Axes has an \"XAxis\" and a \"YAxis\". These contain the ticks, tick locations, labels, etc.\n",
    "---"
   ]
  },
  {
   "cell_type": "markdown",
   "metadata": {},
   "source": [
    "## Creating a plot"
   ]
  },
  {
   "cell_type": "code",
   "execution_count": 69,
   "metadata": {},
   "outputs": [
    {
     "data": {
      "image/png": "[encoded data removed]",
      "text/plain": [
       "<matplotlib.figure.Figure at 0x114be5d30>"
      ]
     },
     "metadata": {},
     "output_type": "display_data"
    }
   ],
   "source": [
    "# Create some sample data\n",
    "x_data = [1, 2, 3, 4, 5]\n",
    "y_data = [1, 2, 3, 4, 5]\n",
    "\n",
    "fig = plt.figure() # create a Figure\n",
    "ax = fig.add_subplot(1,1,1) # add a Subplot in the Figure, where (row #, col #, subplot #) = (1, 1, 1)\n",
    "ax.plot(x_data, y_data, color='violet', marker='o') # add data to the Axes/subplot\n",
    "ax.set_title('Title of Figure')\n",
    "ax.set_xlabel('X-axis label')\n",
    "ax.set_ylabel('Y-axis label')\n",
    "plt.show()"
   ]
  },
  {
   "cell_type": "markdown",
   "metadata": {},
   "source": [
    "---\n",
    "<span style=\"color:red; font-size:20px; font-weight:bold\">In-class exercise 🦀</span>\n",
    "\n",
    "Let's use `matplotlib` to create a nice line plot of monthly-average high temperature over Baltimore, MD.\n",
    "\n",
    "| Month | Temp (F)|\n",
    "|---|---|\n",
    "|January|42|\n",
    "|February|46|\n",
    "|March|54|\n",
    "|April|66|\n",
    "|May|75|\n",
    "|June|85|\n",
    "|July|89|\n",
    "|August|87|\n",
    "|September|80|\n",
    "|October|68|\n",
    "|November|58|\n",
    "|December|46|\n",
    "\n",
    "Steps:\n",
    "1. Use [np.arange()](https://docs.scipy.org/doc/numpy-1.15.0/reference/generated/numpy.arange.html) to create a range of month indices spanning 1 through 12. Assign this array to the variable name `months`. \n",
    "2. Create a list of monthly-average high temperatures called `temperature`.\n",
    "2. With `temperature` on the y-axis and `months` on the x-axis, create a line plot using `matplotlib`. Make sure you give your plot a title and label the x- and y-axis."
   ]
  },
  {
   "cell_type": "code",
   "execution_count": 70,
   "metadata": {},
   "outputs": [
    {
     "data": {
      "text/plain": [
       "Text(0.5,0,'Month')"
      ]
     },
     "execution_count": 70,
     "metadata": {},
     "output_type": "execute_result"
    },
    {
     "data": {
      "image/png": "[encoded data removed]",
      "text/plain": [
       "<matplotlib.figure.Figure at 0x114c8f5c0>"
      ]
     },
     "metadata": {},
     "output_type": "display_data"
    }
   ],
   "source": [
    "months = np.arange(1,13)\n",
    "temperature = [42.4, 45.7, 53.9, 65.5, 75.2, 85.0, 89.0, 87.0, 80.3, 68.4, 57.7, 46.1]\n",
    "\n",
    "fig = plt.figure()\n",
    "ax = fig.add_subplot(1,1,1)\n",
    "ax.plot(months, temperature, color='orangered', marker='o')\n",
    "ax.set_title('Baltimore, MD Monthly High Temperature (F)')\n",
    "ax.set_ylabel('Temperature (F)')\n",
    "ax.set_xlabel('Month')"
   ]
  },
  {
   "cell_type": "markdown",
   "metadata": {},
   "source": [
    "## Customizing the ticks and tick-labels\n",
    "So far, we've let matplotlib figure out the best tick spacing and labels for our plots, but they are highly customizable.\n",
    "\n",
    "** Setting x-ticks and y-ticks**\n",
    "\n",
    "We can manually set the [x-ticks](https://matplotlib.org/api/_as_gen/matplotlib.pyplot.xticks.html) and [y-ticks](https://matplotlib.org/api/_as_gen/matplotlib.pyplot.yticks.html) using:\n",
    "\n",
    "`ax.set_xticks([list or 1D array of tick locations])`\n",
    "\n",
    "`ax.set_yticks([list or 1D array of tick locations])`\n",
    "\n",
    "** Setting x-ticklabels and y-ticklabels **\n",
    "\n",
    "We can set the [x-ticklabels](https://matplotlib.org/api/_as_gen/matplotlib.axes.Axes.set_xticklabels.html) and [y-ticklabels](https://matplotlib.org/api/_as_gen/matplotlib.axes.Axes.set_yticklabels.html) using:\n",
    "\n",
    "`ax.set_xticklabels([list of tick labels as strings])`\n",
    "\n",
    "`ax.set_yticklabels([list of tick labels as strings])`\n",
    "\n",
    "** Example **\n",
    "\n",
    "If we have 12 data points representing some values for a given calendar month, we can set 12 x-ticks with labels as:\n",
    "\n",
    "`ax.set_xticks([1, 2, 3, 4, 5, 6, 7, 8, 9, 10, 11, 12])` \n",
    "\n",
    "OR \n",
    "\n",
    "`ax_set_xticks(np.arange(1,13))`\n",
    "\n",
    "`ax.set_xticklabels(['Jan', 'Feb', 'Mar', 'Apr', 'May', 'Jun', 'Jul', 'Aug', 'Sep', 'Oct', 'Nov', 'Dec'])`"
   ]
  },
  {
   "cell_type": "markdown",
   "metadata": {},
   "source": [
    "<span style=\"color:red; font-size:20px; font-weight:bold\">In-class exercise</span>\n",
    "\n",
    "Revise your plot of Baltimore monthly-temperatures to have 12 `xticks` with corresponding monthly `xticklabels`. The labels can be full month names or abbreviated (e.g. 'Jan', or 'J'). "
   ]
  },
  {
   "cell_type": "code",
   "execution_count": 71,
   "metadata": {},
   "outputs": [
    {
     "data": {
      "text/plain": [
       "[Text(0,0,'January'),\n",
       " Text(0,0,'Feb'),\n",
       " Text(0,0,'Mar'),\n",
       " Text(0,0,'Apr'),\n",
       " Text(0,0,'May'),\n",
       " Text(0,0,'Jun'),\n",
       " Text(0,0,'Jul'),\n",
       " Text(0,0,'Aug'),\n",
       " Text(0,0,'Sep'),\n",
       " Text(0,0,'Oct'),\n",
       " Text(0,0,'Nov'),\n",
       " Text(0,0,'Dec')]"
      ]
     },
     "execution_count": 71,
     "metadata": {},
     "output_type": "execute_result"
    },
    {
     "data": {
      "image/png": "[encoded data removed]",
      "text/plain": [
       "<matplotlib.figure.Figure at 0x114c767f0>"
      ]
     },
     "metadata": {},
     "output_type": "display_data"
    }
   ],
   "source": [
    "months = np.arange(1,13)\n",
    "temperature = [42.4, 45.7, 53.9, 65.5, 75.2, 85.0, 89.0, 87.0, 80.3, 68.4, 57.7, 46.1]\n",
    "\n",
    "fig = plt.figure()\n",
    "ax = fig.add_subplot(1,1,1)\n",
    "ax.plot(months, temperature, color='orangered', marker='o')\n",
    "ax.set_title('Baltimore, MD Monthly High Temperature (F)')\n",
    "ax.set_ylabel('Temperature (F)')\n",
    "ax.set_xlabel('Month')\n",
    "ax.set_xticks(np.arange(1,13))\n",
    "ax.set_xticklabels(['January', 'Feb', 'Mar', 'Apr', 'May', 'Jun', 'Jul', 'Aug', 'Sep', 'Oct', 'Nov', 'Dec'], rotation=90)"
   ]
  },
  {
   "cell_type": "markdown",
   "metadata": {},
   "source": [
    "## Multi-panel plots\n",
    "\n",
    "Multi-panel plots have two differences from the single-panel plots we have worked with so far:\n",
    "\n",
    "1. Each sub-panel needs to have a unique `axes` (e.g. `ax1`, `ax2`, etc.)\n",
    "2. The sub-panel position needs to be defined when added to the figure in the (row #, col #, plot #) call.\n",
    "\n",
    "Let's demonstate with a 1 row x 2 column multi-panel plot:"
   ]
  },
  {
   "cell_type": "code",
   "execution_count": 72,
   "metadata": {},
   "outputs": [
    {
     "data": {
      "image/png": "[encoded data removed]",
      "text/plain": [
       "<matplotlib.figure.Figure at 0x114c9e240>"
      ]
     },
     "metadata": {},
     "output_type": "display_data"
    }
   ],
   "source": [
    "fig = plt.figure(figsize=(5,3)) # specify the figure (width, height) in unit inches\n",
    "\n",
    "ax1 = fig.add_subplot(1,2,1) # 1 row, 2 columns, 1st subplot\n",
    "ax1.plot(np.arange(5,10), np.arange(5,10), color='salmon')\n",
    "ax1.set_title('1st subplot')\n",
    "\n",
    "ax2 = fig.add_subplot(1,2,2) # 1 row, 2 columns, 2nd subplot\n",
    "ax2.plot(np.arange(5,10), np.arange(5,10), color='orchid')\n",
    "ax2.set_title('2nd subplot')\n",
    "\n",
    "fig.tight_layout() # automatically adjusts subplots to fit in the figure\n",
    "plt.show()"
   ]
  },
  {
   "cell_type": "markdown",
   "metadata": {},
   "source": [
    "<span style=\"color:red; font-size:20px; font-weight:bold\">In-class exercise</span>\n",
    "\n",
    "Create a new 4-panel plot showing monthly-average high temperature (F), low temperature (F), precipitation (inches), and snowfall (inches) for Baltimore, MD. \n",
    "\n",
    "* High and low temperature should be line plots\n",
    "* Precipitation and snowfall should be bar plots\n",
    "\n",
    "Monthly-average (Jan - Dec) low temperature, precipitation and snowfall data are provided below. The high temperature data is the same as used in the previous exercise. "
   ]
  },
  {
   "cell_type": "code",
   "execution_count": 73,
   "metadata": {},
   "outputs": [],
   "source": [
    "high_temp = [42.4, 45.7, 53.9, 65.5, 75.2, 85.0, 89.0, 87.0, 80.3, 68.4, 57.7, 46.1]\n",
    "low_temp = [29.2, 31.4, 38.8, 47.6, 56.9, 67.1, 72.5, 70.9, 63.8, 51.8, 42.9, 32.8]\n",
    "precip = [2.92, 2.60, 3.86, 3.22, 3.49, 3.27, 4.62, 3.39, 4.09, 3.05, 2.97, 3.41]\n",
    "snow = [6.8, 8.0, 1.9, 0, 0, 0, 0, 0, 0, 0, 0.4, 3.0] "
   ]
  },
  {
   "cell_type": "code",
   "execution_count": 74,
   "metadata": {},
   "outputs": [
    {
     "data": {
      "image/png": "[encoded data removed]",
      "text/plain": [
       "<matplotlib.figure.Figure at 0x114eabe80>"
      ]
     },
     "metadata": {},
     "output_type": "display_data"
    }
   ],
   "source": [
    "month_labels = ['J', 'F', 'M', 'A', 'M', 'J', 'J', 'A', 'S', 'O', 'N', 'D']\n",
    "\n",
    "fig = plt.figure(figsize=(7,7))\n",
    "\n",
    "ax1 = fig.add_subplot(2,2,1)\n",
    "ax1.plot(months, high_temp, color='orangered', marker='o')\n",
    "ax1.set_title('High temp')\n",
    "ax1.set_ylabel('Temperature (F)')\n",
    "ax1.set_xlabel('Month')\n",
    "ax1.set_xticks(np.arange(1,13))\n",
    "ax1.set_xticklabels(month_labels)\n",
    "\n",
    "ax2 = fig.add_subplot(2,2,2)\n",
    "ax2.plot(months, low_temp, color='blue', marker='o')\n",
    "ax2.set_title('Low temp')\n",
    "ax2.set_ylabel('Temperature (F)')\n",
    "ax2.set_xlabel('Month')\n",
    "ax2.set_xticks(np.arange(1,13))\n",
    "ax2.set_xticklabels(month_labels)\n",
    "\n",
    "ax3 = fig.add_subplot(2,2,3)\n",
    "ax3.bar(months, precip, color='dodgerblue')\n",
    "ax3.set_title('Precip')\n",
    "ax3.set_ylabel('Precip (inches)')\n",
    "ax3.set_xlabel('Month')\n",
    "ax3.set_xticks(np.arange(1,13))\n",
    "ax3.set_xticklabels(month_labels)\n",
    "\n",
    "ax3 = fig.add_subplot(2,2,4)\n",
    "ax3.bar(months, snow, color='violet')\n",
    "ax3.set_title('Snowfall')\n",
    "ax3.set_ylabel('Snowfall (inches)')\n",
    "ax3.set_xlabel('Month')\n",
    "ax3.set_xticks(np.arange(1,13))\n",
    "ax3.set_xticklabels(month_labels)\n",
    "\n",
    "fig.tight_layout()"
   ]
  },
  {
   "cell_type": "code",
   "execution_count": null,
   "metadata": {},
   "outputs": [],
   "source": []
  }
 ],
 "metadata": {
  "kernelspec": {
   "display_name": "Python 3",
   "language": "python",
   "name": "python3"
  },
  "language_info": {
   "codemirror_mode": {
    "name": "ipython",
    "version": 3
   },
   "file_extension": ".py",
   "mimetype": "text/x-python",
   "name": "python",
   "nbconvert_exporter": "python",
   "pygments_lexer": "ipython3",
   "version": "3.5.4"
  }
 },
 "nbformat": 4,
 "nbformat_minor": 2
}
