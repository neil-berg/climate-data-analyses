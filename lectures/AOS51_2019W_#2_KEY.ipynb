{
 "cells": [
  {
   "cell_type": "markdown",
   "metadata": {},
   "source": [
    "# <span style=\"text-decoration: underline\">AOS 51 Lab: Data Analysis for Climate Science Session #2</span>\n",
    "# <span>🌎🔥 👩🏿‍💻👩🏾‍💻 👨🏽‍💻👩🏼‍💻 👨🏼‍💻👨🏾‍💻👩🏽‍💻 👨🏿‍💻</span>\n",
    "\n",
    "#### In the first lab session, we learned about one-dimensional time series of climate data. These took the form of lists, Numpy arrays, or Pandas Series.\n",
    "\n",
    "#### Today, we'll extend our data analysis skills to examine two-dimensional datasets. We'll work entirely within Pandas and learn how powerful it can be when working with text or comma-separated-value (CSV) files.\n",
    "---"
   ]
  },
  {
   "cell_type": "code",
   "execution_count": 11,
   "metadata": {},
   "outputs": [],
   "source": [
    "# Let's import the pandas library and rename it to pd\n",
    "import pandas as pd"
   ]
  },
  {
   "cell_type": "markdown",
   "metadata": {},
   "source": [
    "# Creating DataFrames\n",
    "\n",
    "Recall that a Pandas Series is simply a 1D time series of data point with a labelled index. \n",
    "\n",
    "Oftentimes, we'll be working with time series of multiple variables (for instance, precipitation and temperature), and for that, we'll want to use a \"DataFrame\".\n",
    "\n",
    "Let's create a [Pandas DataFrame](https://pandas.pydata.org/pandas-docs/stable/generated/pandas.DataFrame.html) using three Series of monthly mean, max, and min temperatures over LA spanning during 2017:"
   ]
  },
  {
   "cell_type": "code",
   "execution_count": 12,
   "metadata": {},
   "outputs": [],
   "source": [
    "tavg = pd.Series([55.8, 57.2, 61.0, 63.6, 63.3, 66.7, 71.7, 72.0, 71.5, 71.5, 65.6, 61.4])\n",
    "tmax = pd.Series([62.7, 62.6, 69.3, 71.9, 69.4, 72.6, 77.5, 77.3, 78.5, 80.4, 73.7, 72.4])\n",
    "tmin = pd.Series([48.8, 51.8, 52.8, 55.4, 57.1, 60.9, 65.8, 66.8, 64.6, 62.5, 57.3, 50.3])"
   ]
  },
  {
   "cell_type": "markdown",
   "metadata": {},
   "source": [
    "DataFrames are usually abbreviated as \"df\".\n",
    "\n",
    "An empty DataFrame is initialized with:"
   ]
  },
  {
   "cell_type": "code",
   "execution_count": 13,
   "metadata": {},
   "outputs": [],
   "source": [
    "df = pd.DataFrame()"
   ]
  },
  {
   "cell_type": "markdown",
   "metadata": {},
   "source": [
    "We can populate data into the DataFrame using the syntax:\n",
    "\n",
    "`df[Column Name] = Column Data`\n",
    "\n",
    "where:\n",
    "   * `Column Name\"` is the user-specified name of the column\n",
    "   * `Column Data` is the Series (OR list OR 1D numpy array) of data for that column"
   ]
  },
  {
   "cell_type": "markdown",
   "metadata": {},
   "source": [
    "Let's assign the `tavg` Series a column name of \"TAVG\" and input that data into the DataFrame."
   ]
  },
  {
   "cell_type": "code",
   "execution_count": 14,
   "metadata": {},
   "outputs": [
    {
     "data": {
      "text/html": [
       "<div>\n",
       "<style scoped>\n",
       "    .dataframe tbody tr th:only-of-type {\n",
       "        vertical-align: middle;\n",
       "    }\n",
       "\n",
       "    .dataframe tbody tr th {\n",
       "        vertical-align: top;\n",
       "    }\n",
       "\n",
       "    .dataframe thead th {\n",
       "        text-align: right;\n",
       "    }\n",
       "</style>\n",
       "<table border=\"1\" class=\"dataframe\">\n",
       "  <thead>\n",
       "    <tr style=\"text-align: right;\">\n",
       "      <th></th>\n",
       "      <th>TAVG</th>\n",
       "    </tr>\n",
       "  </thead>\n",
       "  <tbody>\n",
       "    <tr>\n",
       "      <th>0</th>\n",
       "      <td>55.8</td>\n",
       "    </tr>\n",
       "    <tr>\n",
       "      <th>1</th>\n",
       "      <td>57.2</td>\n",
       "    </tr>\n",
       "    <tr>\n",
       "      <th>2</th>\n",
       "      <td>61.0</td>\n",
       "    </tr>\n",
       "    <tr>\n",
       "      <th>3</th>\n",
       "      <td>63.6</td>\n",
       "    </tr>\n",
       "    <tr>\n",
       "      <th>4</th>\n",
       "      <td>63.3</td>\n",
       "    </tr>\n",
       "    <tr>\n",
       "      <th>5</th>\n",
       "      <td>66.7</td>\n",
       "    </tr>\n",
       "    <tr>\n",
       "      <th>6</th>\n",
       "      <td>71.7</td>\n",
       "    </tr>\n",
       "    <tr>\n",
       "      <th>7</th>\n",
       "      <td>72.0</td>\n",
       "    </tr>\n",
       "    <tr>\n",
       "      <th>8</th>\n",
       "      <td>71.5</td>\n",
       "    </tr>\n",
       "    <tr>\n",
       "      <th>9</th>\n",
       "      <td>71.5</td>\n",
       "    </tr>\n",
       "    <tr>\n",
       "      <th>10</th>\n",
       "      <td>65.6</td>\n",
       "    </tr>\n",
       "    <tr>\n",
       "      <th>11</th>\n",
       "      <td>61.4</td>\n",
       "    </tr>\n",
       "  </tbody>\n",
       "</table>\n",
       "</div>"
      ],
      "text/plain": [
       "    TAVG\n",
       "0   55.8\n",
       "1   57.2\n",
       "2   61.0\n",
       "3   63.6\n",
       "4   63.3\n",
       "5   66.7\n",
       "6   71.7\n",
       "7   72.0\n",
       "8   71.5\n",
       "9   71.5\n",
       "10  65.6\n",
       "11  61.4"
      ]
     },
     "execution_count": 14,
     "metadata": {},
     "output_type": "execute_result"
    }
   ],
   "source": [
    "df['TAVG'] = tavg\n",
    "df # print(df) also works, but loses the fancy row coloring"
   ]
  },
  {
   "cell_type": "markdown",
   "metadata": {},
   "source": [
    "---\n",
    "<span style=\"color:red; font-size:20px; font-weight:bold\">In-class exercise </span>\n",
    "\n",
    "Add two new columns of data to `df` above:\n",
    "   * `TMIN` - 2017 monthly min temperatures over LA\n",
    "   * `TMAX` - 2017 monthly max temperatures over LA\n",
    "\n",
    "Then print the `df` to confirm that it has three columns of data.\n",
    "\n",
    "---"
   ]
  },
  {
   "cell_type": "code",
   "execution_count": 15,
   "metadata": {},
   "outputs": [
    {
     "data": {
      "text/html": [
       "<div>\n",
       "<style scoped>\n",
       "    .dataframe tbody tr th:only-of-type {\n",
       "        vertical-align: middle;\n",
       "    }\n",
       "\n",
       "    .dataframe tbody tr th {\n",
       "        vertical-align: top;\n",
       "    }\n",
       "\n",
       "    .dataframe thead th {\n",
       "        text-align: right;\n",
       "    }\n",
       "</style>\n",
       "<table border=\"1\" class=\"dataframe\">\n",
       "  <thead>\n",
       "    <tr style=\"text-align: right;\">\n",
       "      <th></th>\n",
       "      <th>TAVG</th>\n",
       "      <th>TMIN</th>\n",
       "      <th>TMAX</th>\n",
       "    </tr>\n",
       "  </thead>\n",
       "  <tbody>\n",
       "    <tr>\n",
       "      <th>0</th>\n",
       "      <td>55.8</td>\n",
       "      <td>48.8</td>\n",
       "      <td>62.7</td>\n",
       "    </tr>\n",
       "    <tr>\n",
       "      <th>1</th>\n",
       "      <td>57.2</td>\n",
       "      <td>51.8</td>\n",
       "      <td>62.6</td>\n",
       "    </tr>\n",
       "    <tr>\n",
       "      <th>2</th>\n",
       "      <td>61.0</td>\n",
       "      <td>52.8</td>\n",
       "      <td>69.3</td>\n",
       "    </tr>\n",
       "    <tr>\n",
       "      <th>3</th>\n",
       "      <td>63.6</td>\n",
       "      <td>55.4</td>\n",
       "      <td>71.9</td>\n",
       "    </tr>\n",
       "    <tr>\n",
       "      <th>4</th>\n",
       "      <td>63.3</td>\n",
       "      <td>57.1</td>\n",
       "      <td>69.4</td>\n",
       "    </tr>\n",
       "    <tr>\n",
       "      <th>5</th>\n",
       "      <td>66.7</td>\n",
       "      <td>60.9</td>\n",
       "      <td>72.6</td>\n",
       "    </tr>\n",
       "    <tr>\n",
       "      <th>6</th>\n",
       "      <td>71.7</td>\n",
       "      <td>65.8</td>\n",
       "      <td>77.5</td>\n",
       "    </tr>\n",
       "    <tr>\n",
       "      <th>7</th>\n",
       "      <td>72.0</td>\n",
       "      <td>66.8</td>\n",
       "      <td>77.3</td>\n",
       "    </tr>\n",
       "    <tr>\n",
       "      <th>8</th>\n",
       "      <td>71.5</td>\n",
       "      <td>64.6</td>\n",
       "      <td>78.5</td>\n",
       "    </tr>\n",
       "    <tr>\n",
       "      <th>9</th>\n",
       "      <td>71.5</td>\n",
       "      <td>62.5</td>\n",
       "      <td>80.4</td>\n",
       "    </tr>\n",
       "    <tr>\n",
       "      <th>10</th>\n",
       "      <td>65.6</td>\n",
       "      <td>57.3</td>\n",
       "      <td>73.7</td>\n",
       "    </tr>\n",
       "    <tr>\n",
       "      <th>11</th>\n",
       "      <td>61.4</td>\n",
       "      <td>50.3</td>\n",
       "      <td>72.4</td>\n",
       "    </tr>\n",
       "  </tbody>\n",
       "</table>\n",
       "</div>"
      ],
      "text/plain": [
       "    TAVG  TMIN  TMAX\n",
       "0   55.8  48.8  62.7\n",
       "1   57.2  51.8  62.6\n",
       "2   61.0  52.8  69.3\n",
       "3   63.6  55.4  71.9\n",
       "4   63.3  57.1  69.4\n",
       "5   66.7  60.9  72.6\n",
       "6   71.7  65.8  77.5\n",
       "7   72.0  66.8  77.3\n",
       "8   71.5  64.6  78.5\n",
       "9   71.5  62.5  80.4\n",
       "10  65.6  57.3  73.7\n",
       "11  61.4  50.3  72.4"
      ]
     },
     "execution_count": 15,
     "metadata": {},
     "output_type": "execute_result"
    }
   ],
   "source": [
    "df['TMIN'] = tmin\n",
    "df['TMAX'] = tmax\n",
    "df"
   ]
  },
  {
   "cell_type": "markdown",
   "metadata": {},
   "source": [
    "# DatetimeIndex for DataFrames 🕰"
   ]
  },
  {
   "cell_type": "markdown",
   "metadata": {},
   "source": [
    "Just as we did for Series, we can modify the Index to be a range of dates using the [pd.date_range](https://pandas.pydata.org/pandas-docs/stable/generated/pandas.date_range.html) function and then assign the DataFrame Index to those dates.\n",
    "\n",
    "Let's create a date range of months in 2017:"
   ]
  },
  {
   "cell_type": "code",
   "execution_count": 16,
   "metadata": {},
   "outputs": [
    {
     "name": "stdout",
     "output_type": "stream",
     "text": [
      "DatetimeIndex(['2017-01-01', '2017-02-01', '2017-03-01', '2017-04-01',\n",
      "               '2017-05-01', '2017-06-01', '2017-07-01', '2017-08-01',\n",
      "               '2017-09-01', '2017-10-01', '2017-11-01', '2017-12-01'],\n",
      "              dtype='datetime64[ns]', freq='MS')\n"
     ]
    }
   ],
   "source": [
    "dates = pd.date_range(start='2017-01-01', end='2017-12-01', freq='MS')\n",
    "print(dates)"
   ]
  },
  {
   "cell_type": "markdown",
   "metadata": {},
   "source": [
    "Now we can reset the Index of `df` to those dates with:"
   ]
  },
  {
   "cell_type": "code",
   "execution_count": 17,
   "metadata": {},
   "outputs": [
    {
     "data": {
      "text/html": [
       "<div>\n",
       "<style scoped>\n",
       "    .dataframe tbody tr th:only-of-type {\n",
       "        vertical-align: middle;\n",
       "    }\n",
       "\n",
       "    .dataframe tbody tr th {\n",
       "        vertical-align: top;\n",
       "    }\n",
       "\n",
       "    .dataframe thead th {\n",
       "        text-align: right;\n",
       "    }\n",
       "</style>\n",
       "<table border=\"1\" class=\"dataframe\">\n",
       "  <thead>\n",
       "    <tr style=\"text-align: right;\">\n",
       "      <th></th>\n",
       "      <th>TAVG</th>\n",
       "      <th>TMIN</th>\n",
       "      <th>TMAX</th>\n",
       "    </tr>\n",
       "  </thead>\n",
       "  <tbody>\n",
       "    <tr>\n",
       "      <th>2017-01-01</th>\n",
       "      <td>55.8</td>\n",
       "      <td>48.8</td>\n",
       "      <td>62.7</td>\n",
       "    </tr>\n",
       "    <tr>\n",
       "      <th>2017-02-01</th>\n",
       "      <td>57.2</td>\n",
       "      <td>51.8</td>\n",
       "      <td>62.6</td>\n",
       "    </tr>\n",
       "    <tr>\n",
       "      <th>2017-03-01</th>\n",
       "      <td>61.0</td>\n",
       "      <td>52.8</td>\n",
       "      <td>69.3</td>\n",
       "    </tr>\n",
       "    <tr>\n",
       "      <th>2017-04-01</th>\n",
       "      <td>63.6</td>\n",
       "      <td>55.4</td>\n",
       "      <td>71.9</td>\n",
       "    </tr>\n",
       "    <tr>\n",
       "      <th>2017-05-01</th>\n",
       "      <td>63.3</td>\n",
       "      <td>57.1</td>\n",
       "      <td>69.4</td>\n",
       "    </tr>\n",
       "    <tr>\n",
       "      <th>2017-06-01</th>\n",
       "      <td>66.7</td>\n",
       "      <td>60.9</td>\n",
       "      <td>72.6</td>\n",
       "    </tr>\n",
       "    <tr>\n",
       "      <th>2017-07-01</th>\n",
       "      <td>71.7</td>\n",
       "      <td>65.8</td>\n",
       "      <td>77.5</td>\n",
       "    </tr>\n",
       "    <tr>\n",
       "      <th>2017-08-01</th>\n",
       "      <td>72.0</td>\n",
       "      <td>66.8</td>\n",
       "      <td>77.3</td>\n",
       "    </tr>\n",
       "    <tr>\n",
       "      <th>2017-09-01</th>\n",
       "      <td>71.5</td>\n",
       "      <td>64.6</td>\n",
       "      <td>78.5</td>\n",
       "    </tr>\n",
       "    <tr>\n",
       "      <th>2017-10-01</th>\n",
       "      <td>71.5</td>\n",
       "      <td>62.5</td>\n",
       "      <td>80.4</td>\n",
       "    </tr>\n",
       "    <tr>\n",
       "      <th>2017-11-01</th>\n",
       "      <td>65.6</td>\n",
       "      <td>57.3</td>\n",
       "      <td>73.7</td>\n",
       "    </tr>\n",
       "    <tr>\n",
       "      <th>2017-12-01</th>\n",
       "      <td>61.4</td>\n",
       "      <td>50.3</td>\n",
       "      <td>72.4</td>\n",
       "    </tr>\n",
       "  </tbody>\n",
       "</table>\n",
       "</div>"
      ],
      "text/plain": [
       "            TAVG  TMIN  TMAX\n",
       "2017-01-01  55.8  48.8  62.7\n",
       "2017-02-01  57.2  51.8  62.6\n",
       "2017-03-01  61.0  52.8  69.3\n",
       "2017-04-01  63.6  55.4  71.9\n",
       "2017-05-01  63.3  57.1  69.4\n",
       "2017-06-01  66.7  60.9  72.6\n",
       "2017-07-01  71.7  65.8  77.5\n",
       "2017-08-01  72.0  66.8  77.3\n",
       "2017-09-01  71.5  64.6  78.5\n",
       "2017-10-01  71.5  62.5  80.4\n",
       "2017-11-01  65.6  57.3  73.7\n",
       "2017-12-01  61.4  50.3  72.4"
      ]
     },
     "execution_count": 17,
     "metadata": {},
     "output_type": "execute_result"
    }
   ],
   "source": [
    "df.index = dates\n",
    "df"
   ]
  },
  {
   "cell_type": "markdown",
   "metadata": {},
   "source": [
    "# Viewing and Summarizing DataFrames 🕵\n",
    "\n",
    "With `head` and `tail`, we can quick view N number of rows from the start (head) or end (tail) of a DataFrame:"
   ]
  },
  {
   "cell_type": "code",
   "execution_count": 19,
   "metadata": {},
   "outputs": [
    {
     "data": {
      "text/html": [
       "<div>\n",
       "<style scoped>\n",
       "    .dataframe tbody tr th:only-of-type {\n",
       "        vertical-align: middle;\n",
       "    }\n",
       "\n",
       "    .dataframe tbody tr th {\n",
       "        vertical-align: top;\n",
       "    }\n",
       "\n",
       "    .dataframe thead th {\n",
       "        text-align: right;\n",
       "    }\n",
       "</style>\n",
       "<table border=\"1\" class=\"dataframe\">\n",
       "  <thead>\n",
       "    <tr style=\"text-align: right;\">\n",
       "      <th></th>\n",
       "      <th>TAVG</th>\n",
       "      <th>TMIN</th>\n",
       "      <th>TMAX</th>\n",
       "    </tr>\n",
       "  </thead>\n",
       "  <tbody>\n",
       "    <tr>\n",
       "      <th>2017-01-01</th>\n",
       "      <td>55.8</td>\n",
       "      <td>48.8</td>\n",
       "      <td>62.7</td>\n",
       "    </tr>\n",
       "  </tbody>\n",
       "</table>\n",
       "</div>"
      ],
      "text/plain": [
       "            TAVG  TMIN  TMAX\n",
       "2017-01-01  55.8  48.8  62.7"
      ]
     },
     "execution_count": 19,
     "metadata": {},
     "output_type": "execute_result"
    }
   ],
   "source": [
    "df.head(1) # first row"
   ]
  },
  {
   "cell_type": "code",
   "execution_count": 18,
   "metadata": {},
   "outputs": [
    {
     "data": {
      "text/html": [
       "<div>\n",
       "<style scoped>\n",
       "    .dataframe tbody tr th:only-of-type {\n",
       "        vertical-align: middle;\n",
       "    }\n",
       "\n",
       "    .dataframe tbody tr th {\n",
       "        vertical-align: top;\n",
       "    }\n",
       "\n",
       "    .dataframe thead th {\n",
       "        text-align: right;\n",
       "    }\n",
       "</style>\n",
       "<table border=\"1\" class=\"dataframe\">\n",
       "  <thead>\n",
       "    <tr style=\"text-align: right;\">\n",
       "      <th></th>\n",
       "      <th>TAVG</th>\n",
       "      <th>TMIN</th>\n",
       "      <th>TMAX</th>\n",
       "    </tr>\n",
       "  </thead>\n",
       "  <tbody>\n",
       "    <tr>\n",
       "      <th>2017-01-01</th>\n",
       "      <td>55.8</td>\n",
       "      <td>48.8</td>\n",
       "      <td>62.7</td>\n",
       "    </tr>\n",
       "    <tr>\n",
       "      <th>2017-02-01</th>\n",
       "      <td>57.2</td>\n",
       "      <td>51.8</td>\n",
       "      <td>62.6</td>\n",
       "    </tr>\n",
       "    <tr>\n",
       "      <th>2017-03-01</th>\n",
       "      <td>61.0</td>\n",
       "      <td>52.8</td>\n",
       "      <td>69.3</td>\n",
       "    </tr>\n",
       "    <tr>\n",
       "      <th>2017-04-01</th>\n",
       "      <td>63.6</td>\n",
       "      <td>55.4</td>\n",
       "      <td>71.9</td>\n",
       "    </tr>\n",
       "  </tbody>\n",
       "</table>\n",
       "</div>"
      ],
      "text/plain": [
       "            TAVG  TMIN  TMAX\n",
       "2017-01-01  55.8  48.8  62.7\n",
       "2017-02-01  57.2  51.8  62.6\n",
       "2017-03-01  61.0  52.8  69.3\n",
       "2017-04-01  63.6  55.4  71.9"
      ]
     },
     "execution_count": 18,
     "metadata": {},
     "output_type": "execute_result"
    }
   ],
   "source": [
    "df.head(4) # first 4 rows"
   ]
  },
  {
   "cell_type": "code",
   "execution_count": 21,
   "metadata": {},
   "outputs": [
    {
     "data": {
      "text/html": [
       "<div>\n",
       "<style scoped>\n",
       "    .dataframe tbody tr th:only-of-type {\n",
       "        vertical-align: middle;\n",
       "    }\n",
       "\n",
       "    .dataframe tbody tr th {\n",
       "        vertical-align: top;\n",
       "    }\n",
       "\n",
       "    .dataframe thead th {\n",
       "        text-align: right;\n",
       "    }\n",
       "</style>\n",
       "<table border=\"1\" class=\"dataframe\">\n",
       "  <thead>\n",
       "    <tr style=\"text-align: right;\">\n",
       "      <th></th>\n",
       "      <th>TAVG</th>\n",
       "      <th>TMIN</th>\n",
       "      <th>TMAX</th>\n",
       "    </tr>\n",
       "  </thead>\n",
       "  <tbody>\n",
       "    <tr>\n",
       "      <th>2017-12-01</th>\n",
       "      <td>61.4</td>\n",
       "      <td>50.3</td>\n",
       "      <td>72.4</td>\n",
       "    </tr>\n",
       "  </tbody>\n",
       "</table>\n",
       "</div>"
      ],
      "text/plain": [
       "            TAVG  TMIN  TMAX\n",
       "2017-12-01  61.4  50.3  72.4"
      ]
     },
     "execution_count": 21,
     "metadata": {},
     "output_type": "execute_result"
    }
   ],
   "source": [
    "df.tail(1) # the last row"
   ]
  },
  {
   "cell_type": "code",
   "execution_count": 22,
   "metadata": {},
   "outputs": [
    {
     "data": {
      "text/html": [
       "<div>\n",
       "<style scoped>\n",
       "    .dataframe tbody tr th:only-of-type {\n",
       "        vertical-align: middle;\n",
       "    }\n",
       "\n",
       "    .dataframe tbody tr th {\n",
       "        vertical-align: top;\n",
       "    }\n",
       "\n",
       "    .dataframe thead th {\n",
       "        text-align: right;\n",
       "    }\n",
       "</style>\n",
       "<table border=\"1\" class=\"dataframe\">\n",
       "  <thead>\n",
       "    <tr style=\"text-align: right;\">\n",
       "      <th></th>\n",
       "      <th>TAVG</th>\n",
       "      <th>TMIN</th>\n",
       "      <th>TMAX</th>\n",
       "    </tr>\n",
       "  </thead>\n",
       "  <tbody>\n",
       "    <tr>\n",
       "      <th>2017-10-01</th>\n",
       "      <td>71.5</td>\n",
       "      <td>62.5</td>\n",
       "      <td>80.4</td>\n",
       "    </tr>\n",
       "    <tr>\n",
       "      <th>2017-11-01</th>\n",
       "      <td>65.6</td>\n",
       "      <td>57.3</td>\n",
       "      <td>73.7</td>\n",
       "    </tr>\n",
       "    <tr>\n",
       "      <th>2017-12-01</th>\n",
       "      <td>61.4</td>\n",
       "      <td>50.3</td>\n",
       "      <td>72.4</td>\n",
       "    </tr>\n",
       "  </tbody>\n",
       "</table>\n",
       "</div>"
      ],
      "text/plain": [
       "            TAVG  TMIN  TMAX\n",
       "2017-10-01  71.5  62.5  80.4\n",
       "2017-11-01  65.6  57.3  73.7\n",
       "2017-12-01  61.4  50.3  72.4"
      ]
     },
     "execution_count": 22,
     "metadata": {},
     "output_type": "execute_result"
    }
   ],
   "source": [
    "df.tail(3) # the last 3 rows"
   ]
  },
  {
   "cell_type": "markdown",
   "metadata": {},
   "source": [
    "**We can also get a statistical summary of the DataFrame using `describe`**"
   ]
  },
  {
   "cell_type": "code",
   "execution_count": 26,
   "metadata": {},
   "outputs": [
    {
     "data": {
      "text/html": [
       "<div>\n",
       "<style scoped>\n",
       "    .dataframe tbody tr th:only-of-type {\n",
       "        vertical-align: middle;\n",
       "    }\n",
       "\n",
       "    .dataframe tbody tr th {\n",
       "        vertical-align: top;\n",
       "    }\n",
       "\n",
       "    .dataframe thead th {\n",
       "        text-align: right;\n",
       "    }\n",
       "</style>\n",
       "<table border=\"1\" class=\"dataframe\">\n",
       "  <thead>\n",
       "    <tr style=\"text-align: right;\">\n",
       "      <th></th>\n",
       "      <th>TAVG</th>\n",
       "      <th>TMIN</th>\n",
       "      <th>TMAX</th>\n",
       "    </tr>\n",
       "  </thead>\n",
       "  <tbody>\n",
       "    <tr>\n",
       "      <th>count</th>\n",
       "      <td>12.000000</td>\n",
       "      <td>12.000000</td>\n",
       "      <td>12.000000</td>\n",
       "    </tr>\n",
       "    <tr>\n",
       "      <th>mean</th>\n",
       "      <td>65.108333</td>\n",
       "      <td>57.841667</td>\n",
       "      <td>72.358333</td>\n",
       "    </tr>\n",
       "    <tr>\n",
       "      <th>std</th>\n",
       "      <td>5.727042</td>\n",
       "      <td>6.235304</td>\n",
       "      <td>5.736083</td>\n",
       "    </tr>\n",
       "    <tr>\n",
       "      <th>min</th>\n",
       "      <td>55.800000</td>\n",
       "      <td>48.800000</td>\n",
       "      <td>62.600000</td>\n",
       "    </tr>\n",
       "    <tr>\n",
       "      <th>25%</th>\n",
       "      <td>61.300000</td>\n",
       "      <td>52.550000</td>\n",
       "      <td>69.375000</td>\n",
       "    </tr>\n",
       "    <tr>\n",
       "      <th>50%</th>\n",
       "      <td>64.600000</td>\n",
       "      <td>57.200000</td>\n",
       "      <td>72.500000</td>\n",
       "    </tr>\n",
       "    <tr>\n",
       "      <th>75%</th>\n",
       "      <td>71.500000</td>\n",
       "      <td>63.025000</td>\n",
       "      <td>77.350000</td>\n",
       "    </tr>\n",
       "    <tr>\n",
       "      <th>max</th>\n",
       "      <td>72.000000</td>\n",
       "      <td>66.800000</td>\n",
       "      <td>80.400000</td>\n",
       "    </tr>\n",
       "  </tbody>\n",
       "</table>\n",
       "</div>"
      ],
      "text/plain": [
       "            TAVG       TMIN       TMAX\n",
       "count  12.000000  12.000000  12.000000\n",
       "mean   65.108333  57.841667  72.358333\n",
       "std     5.727042   6.235304   5.736083\n",
       "min    55.800000  48.800000  62.600000\n",
       "25%    61.300000  52.550000  69.375000\n",
       "50%    64.600000  57.200000  72.500000\n",
       "75%    71.500000  63.025000  77.350000\n",
       "max    72.000000  66.800000  80.400000"
      ]
     },
     "execution_count": 26,
     "metadata": {},
     "output_type": "execute_result"
    }
   ],
   "source": [
    "df.describe() # the count, mean, standard dev., min, max, and quartiles of each column"
   ]
  },
  {
   "cell_type": "markdown",
   "metadata": {},
   "source": [
    "---\n",
    "<span style=\"color:red; font-size:20px; font-weight:bold\">In-class exercise </span>\n",
    "\n",
    "Below are two lists of 2006 - 2015 annual average temperature and rainfall.\n",
    "\n",
    "Instructions:\n",
    "\n",
    "1. Create a new DataFrame called `sample_df` containing the temperature and rainfall data as columns and a DatetimeIndex of years spanning 2006 through 2015. \n",
    "2. Print a statistical summary of the `sample_df`."
   ]
  },
  {
   "cell_type": "code",
   "execution_count": 35,
   "metadata": {},
   "outputs": [],
   "source": [
    "# 2006 - 2015 sample temperature (degrees F) and rainfall (inches) data\n",
    "sample_t = [45.5, 48.9, 51.2, 47,2, 44.4, 44.1, 40.0, 52.3, 50.6]\n",
    "sample_p = [9.2, 10.3, 12.2, 7.2, 13.1, 9.0, 4.8, 5.2, 8.7, 8.1]"
   ]
  },
  {
   "cell_type": "code",
   "execution_count": 40,
   "metadata": {},
   "outputs": [
    {
     "name": "stdout",
     "output_type": "stream",
     "text": [
      "               T     P\n",
      "2006-01-01  45.5   9.2\n",
      "2007-01-01  48.9  10.3\n",
      "2008-01-01  51.2  12.2\n",
      "2009-01-01  47.0   7.2\n",
      "2010-01-01   2.0  13.1\n",
      "2011-01-01  44.4   9.0\n",
      "2012-01-01  44.1   4.8\n",
      "2013-01-01  40.0   5.2\n",
      "2014-01-01  52.3   8.7\n",
      "2015-01-01  50.6   8.1\n",
      "               T          P\n",
      "count  10.000000  10.000000\n",
      "mean   42.600000   8.780000\n",
      "std    14.757747   2.677395\n",
      "min     2.000000   4.800000\n",
      "25%    44.175000   7.425000\n",
      "50%    46.250000   8.850000\n",
      "75%    50.175000  10.025000\n",
      "max    52.300000  13.100000\n"
     ]
    }
   ],
   "source": [
    "sample_df = pd.DataFrame()\n",
    "sample_df['T'] = sample_t\n",
    "sample_df['P'] = sample_p\n",
    "sample_df.index = pd.date_range(start='2006', end='2015', freq='AS')\n",
    "print(sample_df)\n",
    "print(sample_df.describe())"
   ]
  },
  {
   "cell_type": "markdown",
   "metadata": {},
   "source": [
    "# Slicing DataFrames 🔪\n",
    "\n",
    "We will frequently want to only work with a subset of an entire DataFrame. \n",
    "\n",
    "Let's learn how to:\n",
    "\n",
    "  1. Extract individual columns of data from a DataFrame\n",
    "  2. Slice rows and columns of data inside a DataFrame"
   ]
  },
  {
   "cell_type": "markdown",
   "metadata": {},
   "source": [
    "**1. Extracting individual columns of data**\n",
    "\n",
    "Recall that the code for inserting a column of data in a DataFrame is:\n",
    "\n",
    "`df[Column Name] = Column of Data`\n",
    "\n",
    "The reverse of that command will extract a column of data from the DataFrame:\n",
    "\n",
    "`Column of Data = df[Column Name]`"
   ]
  },
  {
   "cell_type": "code",
   "execution_count": 42,
   "metadata": {},
   "outputs": [
    {
     "name": "stdout",
     "output_type": "stream",
     "text": [
      "2017-01-01    48.8\n",
      "2017-02-01    51.8\n",
      "2017-03-01    52.8\n",
      "2017-04-01    55.4\n",
      "2017-05-01    57.1\n",
      "2017-06-01    60.9\n",
      "2017-07-01    65.8\n",
      "2017-08-01    66.8\n",
      "2017-09-01    64.6\n",
      "2017-10-01    62.5\n",
      "2017-11-01    57.3\n",
      "2017-12-01    50.3\n",
      "Freq: MS, Name: TMIN, dtype: float64\n"
     ]
    }
   ],
   "source": [
    "# Extracting TMIN from the df\n",
    "tmin = df['TMIN']\n",
    "print(tmin)"
   ]
  },
  {
   "cell_type": "markdown",
   "metadata": {},
   "source": [
    "**2. Slicing rows/columns inside a DataFrame**\n",
    "\n",
    "The general syntax to slice by row/column location (\"loc\") is:\n",
    "\n",
    "`df.loc[row_selection, column_selection]`\n",
    "\n",
    "Row and column selections can be:\n",
    "\n",
    "   * a single value, e.g. '2017-01-01' or 'TMAX' \n",
    "   * a list of values, e.g. ['2017-01-01', '2017-01-02'] or ['TMAX', 'TMIN']\n",
    "   * a range of values, e.g. ['2017-01-01':'2017-01-10']\n",
    "   \n",
    "Let's demonstate with examples on `df`:"
   ]
  },
  {
   "cell_type": "code",
   "execution_count": 47,
   "metadata": {},
   "outputs": [
    {
     "data": {
      "text/html": [
       "<div>\n",
       "<style scoped>\n",
       "    .dataframe tbody tr th:only-of-type {\n",
       "        vertical-align: middle;\n",
       "    }\n",
       "\n",
       "    .dataframe tbody tr th {\n",
       "        vertical-align: top;\n",
       "    }\n",
       "\n",
       "    .dataframe thead th {\n",
       "        text-align: right;\n",
       "    }\n",
       "</style>\n",
       "<table border=\"1\" class=\"dataframe\">\n",
       "  <thead>\n",
       "    <tr style=\"text-align: right;\">\n",
       "      <th></th>\n",
       "      <th>TAVG</th>\n",
       "      <th>TMIN</th>\n",
       "      <th>TMAX</th>\n",
       "    </tr>\n",
       "  </thead>\n",
       "  <tbody>\n",
       "    <tr>\n",
       "      <th>2017-05-01</th>\n",
       "      <td>63.3</td>\n",
       "      <td>57.1</td>\n",
       "      <td>69.4</td>\n",
       "    </tr>\n",
       "  </tbody>\n",
       "</table>\n",
       "</div>"
      ],
      "text/plain": [
       "            TAVG  TMIN  TMAX\n",
       "2017-05-01  63.3  57.1  69.4"
      ]
     },
     "execution_count": 47,
     "metadata": {},
     "output_type": "execute_result"
    }
   ],
   "source": [
    "# Slice a single row of 2017-05\n",
    "df.loc['2017-05']"
   ]
  },
  {
   "cell_type": "code",
   "execution_count": 68,
   "metadata": {},
   "outputs": [
    {
     "data": {
      "text/plain": [
       "TAVG    55.8\n",
       "Name: 2017-01-01 00:00:00, dtype: float64"
      ]
     },
     "execution_count": 68,
     "metadata": {},
     "output_type": "execute_result"
    }
   ],
   "source": [
    "# Slice a single row of 2017-01-01 and TAVG (brackets around TAVG are optional, try without!)\n",
    "df.loc['2017-01-01', ['TAVG']]"
   ]
  },
  {
   "cell_type": "code",
   "execution_count": 69,
   "metadata": {},
   "outputs": [
    {
     "ename": "KeyError",
     "evalue": "\"None of [['2017-01', '2017-05']] are in the [index]\"",
     "output_type": "error",
     "traceback": [
      "\u001b[0;31m---------------------------------------------------------------------------\u001b[0m",
      "\u001b[0;31mKeyError\u001b[0m                                  Traceback (most recent call last)",
      "\u001b[0;32m<ipython-input-69-f590a13e0f35>\u001b[0m in \u001b[0;36m<module>\u001b[0;34m()\u001b[0m\n\u001b[1;32m      1\u001b[0m \u001b[0;31m# slice two non-consecutive rows of 2017-01 and 2017-05\u001b[0m\u001b[0;34m\u001b[0m\u001b[0;34m\u001b[0m\u001b[0m\n\u001b[0;32m----> 2\u001b[0;31m \u001b[0mdf\u001b[0m\u001b[0;34m.\u001b[0m\u001b[0mloc\u001b[0m\u001b[0;34m[\u001b[0m\u001b[0;34m[\u001b[0m\u001b[0;34m'2017-01'\u001b[0m\u001b[0;34m,\u001b[0m \u001b[0;34m'2017-05'\u001b[0m\u001b[0;34m]\u001b[0m\u001b[0;34m]\u001b[0m\u001b[0;34m\u001b[0m\u001b[0m\n\u001b[0m",
      "\u001b[0;32m/anaconda3/lib/python3.5/site-packages/pandas/core/indexing.py\u001b[0m in \u001b[0;36m__getitem__\u001b[0;34m(self, key)\u001b[0m\n\u001b[1;32m   1371\u001b[0m \u001b[0;34m\u001b[0m\u001b[0m\n\u001b[1;32m   1372\u001b[0m             \u001b[0mmaybe_callable\u001b[0m \u001b[0;34m=\u001b[0m \u001b[0mcom\u001b[0m\u001b[0;34m.\u001b[0m\u001b[0m_apply_if_callable\u001b[0m\u001b[0;34m(\u001b[0m\u001b[0mkey\u001b[0m\u001b[0;34m,\u001b[0m \u001b[0mself\u001b[0m\u001b[0;34m.\u001b[0m\u001b[0mobj\u001b[0m\u001b[0;34m)\u001b[0m\u001b[0;34m\u001b[0m\u001b[0m\n\u001b[0;32m-> 1373\u001b[0;31m             \u001b[0;32mreturn\u001b[0m \u001b[0mself\u001b[0m\u001b[0;34m.\u001b[0m\u001b[0m_getitem_axis\u001b[0m\u001b[0;34m(\u001b[0m\u001b[0mmaybe_callable\u001b[0m\u001b[0;34m,\u001b[0m \u001b[0maxis\u001b[0m\u001b[0;34m=\u001b[0m\u001b[0maxis\u001b[0m\u001b[0;34m)\u001b[0m\u001b[0;34m\u001b[0m\u001b[0m\n\u001b[0m\u001b[1;32m   1374\u001b[0m \u001b[0;34m\u001b[0m\u001b[0m\n\u001b[1;32m   1375\u001b[0m     \u001b[0;32mdef\u001b[0m \u001b[0m_is_scalar_access\u001b[0m\u001b[0;34m(\u001b[0m\u001b[0mself\u001b[0m\u001b[0;34m,\u001b[0m \u001b[0mkey\u001b[0m\u001b[0;34m)\u001b[0m\u001b[0;34m:\u001b[0m\u001b[0;34m\u001b[0m\u001b[0m\n",
      "\u001b[0;32m/anaconda3/lib/python3.5/site-packages/pandas/core/indexing.py\u001b[0m in \u001b[0;36m_getitem_axis\u001b[0;34m(self, key, axis)\u001b[0m\n\u001b[1;32m   1614\u001b[0m                     \u001b[0;32mraise\u001b[0m \u001b[0mValueError\u001b[0m\u001b[0;34m(\u001b[0m\u001b[0;34m'Cannot index with multidimensional key'\u001b[0m\u001b[0;34m)\u001b[0m\u001b[0;34m\u001b[0m\u001b[0m\n\u001b[1;32m   1615\u001b[0m \u001b[0;34m\u001b[0m\u001b[0m\n\u001b[0;32m-> 1616\u001b[0;31m                 \u001b[0;32mreturn\u001b[0m \u001b[0mself\u001b[0m\u001b[0;34m.\u001b[0m\u001b[0m_getitem_iterable\u001b[0m\u001b[0;34m(\u001b[0m\u001b[0mkey\u001b[0m\u001b[0;34m,\u001b[0m \u001b[0maxis\u001b[0m\u001b[0;34m=\u001b[0m\u001b[0maxis\u001b[0m\u001b[0;34m)\u001b[0m\u001b[0;34m\u001b[0m\u001b[0m\n\u001b[0m\u001b[1;32m   1617\u001b[0m \u001b[0;34m\u001b[0m\u001b[0m\n\u001b[1;32m   1618\u001b[0m             \u001b[0;31m# nested tuple slicing\u001b[0m\u001b[0;34m\u001b[0m\u001b[0;34m\u001b[0m\u001b[0m\n",
      "\u001b[0;32m/anaconda3/lib/python3.5/site-packages/pandas/core/indexing.py\u001b[0m in \u001b[0;36m_getitem_iterable\u001b[0;34m(self, key, axis)\u001b[0m\n\u001b[1;32m   1113\u001b[0m \u001b[0;34m\u001b[0m\u001b[0m\n\u001b[1;32m   1114\u001b[0m         \u001b[0;32mif\u001b[0m \u001b[0mself\u001b[0m\u001b[0;34m.\u001b[0m\u001b[0m_should_validate_iterable\u001b[0m\u001b[0;34m(\u001b[0m\u001b[0maxis\u001b[0m\u001b[0;34m)\u001b[0m\u001b[0;34m:\u001b[0m\u001b[0;34m\u001b[0m\u001b[0m\n\u001b[0;32m-> 1115\u001b[0;31m             \u001b[0mself\u001b[0m\u001b[0;34m.\u001b[0m\u001b[0m_has_valid_type\u001b[0m\u001b[0;34m(\u001b[0m\u001b[0mkey\u001b[0m\u001b[0;34m,\u001b[0m \u001b[0maxis\u001b[0m\u001b[0;34m)\u001b[0m\u001b[0;34m\u001b[0m\u001b[0m\n\u001b[0m\u001b[1;32m   1116\u001b[0m \u001b[0;34m\u001b[0m\u001b[0m\n\u001b[1;32m   1117\u001b[0m         \u001b[0mlabels\u001b[0m \u001b[0;34m=\u001b[0m \u001b[0mself\u001b[0m\u001b[0;34m.\u001b[0m\u001b[0mobj\u001b[0m\u001b[0;34m.\u001b[0m\u001b[0m_get_axis\u001b[0m\u001b[0;34m(\u001b[0m\u001b[0maxis\u001b[0m\u001b[0;34m)\u001b[0m\u001b[0;34m\u001b[0m\u001b[0m\n",
      "\u001b[0;32m/anaconda3/lib/python3.5/site-packages/pandas/core/indexing.py\u001b[0m in \u001b[0;36m_has_valid_type\u001b[0;34m(self, key, axis)\u001b[0m\n\u001b[1;32m   1470\u001b[0m                         raise KeyError(\n\u001b[1;32m   1471\u001b[0m                             u\"None of [{key}] are in the [{axis}]\".format(\n\u001b[0;32m-> 1472\u001b[0;31m                                 key=key, axis=self.obj._get_axis_name(axis)))\n\u001b[0m\u001b[1;32m   1473\u001b[0m                     \u001b[0;32melse\u001b[0m\u001b[0;34m:\u001b[0m\u001b[0;34m\u001b[0m\u001b[0m\n\u001b[1;32m   1474\u001b[0m \u001b[0;34m\u001b[0m\u001b[0m\n",
      "\u001b[0;31mKeyError\u001b[0m: \"None of [['2017-01', '2017-05']] are in the [index]\""
     ]
    }
   ],
   "source": [
    "# slice two non-consecutive rows of 2017-01 and 2017-05\n",
    "df.loc[['2017-01', '2017-05']]"
   ]
  },
  {
   "cell_type": "markdown",
   "metadata": {},
   "source": [
    "Uh oh...what happened?! \n",
    "\n",
    "Sometimes, when you tell Pandas to search for a list of items that are strings (like '2017-05-01'), it does not know to convert them to Pandas Timestamps and search for those Timestamps in the Index. \n",
    "\n",
    "So, we need to convert these dates from a string to a Pandas [Timestamp](https://pandas.pydata.org/pandas-docs/stable/generated/pandas.Timestamp.html). "
   ]
  },
  {
   "cell_type": "code",
   "execution_count": 53,
   "metadata": {},
   "outputs": [
    {
     "data": {
      "text/html": [
       "<div>\n",
       "<style scoped>\n",
       "    .dataframe tbody tr th:only-of-type {\n",
       "        vertical-align: middle;\n",
       "    }\n",
       "\n",
       "    .dataframe tbody tr th {\n",
       "        vertical-align: top;\n",
       "    }\n",
       "\n",
       "    .dataframe thead th {\n",
       "        text-align: right;\n",
       "    }\n",
       "</style>\n",
       "<table border=\"1\" class=\"dataframe\">\n",
       "  <thead>\n",
       "    <tr style=\"text-align: right;\">\n",
       "      <th></th>\n",
       "      <th>TAVG</th>\n",
       "      <th>TMIN</th>\n",
       "      <th>TMAX</th>\n",
       "    </tr>\n",
       "  </thead>\n",
       "  <tbody>\n",
       "    <tr>\n",
       "      <th>2017-01-01</th>\n",
       "      <td>55.8</td>\n",
       "      <td>48.8</td>\n",
       "      <td>62.7</td>\n",
       "    </tr>\n",
       "    <tr>\n",
       "      <th>2017-05-01</th>\n",
       "      <td>63.3</td>\n",
       "      <td>57.1</td>\n",
       "      <td>69.4</td>\n",
       "    </tr>\n",
       "  </tbody>\n",
       "</table>\n",
       "</div>"
      ],
      "text/plain": [
       "            TAVG  TMIN  TMAX\n",
       "2017-01-01  55.8  48.8  62.7\n",
       "2017-05-01  63.3  57.1  69.4"
      ]
     },
     "execution_count": 53,
     "metadata": {},
     "output_type": "execute_result"
    }
   ],
   "source": [
    "# slice rows by label: rows of '2017-01-01' and '2017-05-01'\n",
    "df.loc[[pd.Timestamp('2017-01'), pd.Timestamp('2017-05')]]"
   ]
  },
  {
   "cell_type": "markdown",
   "metadata": {},
   "source": [
    "**Voila!**"
   ]
  },
  {
   "cell_type": "code",
   "execution_count": 55,
   "metadata": {},
   "outputs": [
    {
     "data": {
      "text/html": [
       "<div>\n",
       "<style scoped>\n",
       "    .dataframe tbody tr th:only-of-type {\n",
       "        vertical-align: middle;\n",
       "    }\n",
       "\n",
       "    .dataframe tbody tr th {\n",
       "        vertical-align: top;\n",
       "    }\n",
       "\n",
       "    .dataframe thead th {\n",
       "        text-align: right;\n",
       "    }\n",
       "</style>\n",
       "<table border=\"1\" class=\"dataframe\">\n",
       "  <thead>\n",
       "    <tr style=\"text-align: right;\">\n",
       "      <th></th>\n",
       "      <th>TMIN</th>\n",
       "      <th>TMAX</th>\n",
       "    </tr>\n",
       "  </thead>\n",
       "  <tbody>\n",
       "    <tr>\n",
       "      <th>2017-01-01</th>\n",
       "      <td>48.8</td>\n",
       "      <td>62.7</td>\n",
       "    </tr>\n",
       "    <tr>\n",
       "      <th>2017-02-01</th>\n",
       "      <td>51.8</td>\n",
       "      <td>62.6</td>\n",
       "    </tr>\n",
       "    <tr>\n",
       "      <th>2017-03-01</th>\n",
       "      <td>52.8</td>\n",
       "      <td>69.3</td>\n",
       "    </tr>\n",
       "    <tr>\n",
       "      <th>2017-04-01</th>\n",
       "      <td>55.4</td>\n",
       "      <td>71.9</td>\n",
       "    </tr>\n",
       "    <tr>\n",
       "      <th>2017-05-01</th>\n",
       "      <td>57.1</td>\n",
       "      <td>69.4</td>\n",
       "    </tr>\n",
       "  </tbody>\n",
       "</table>\n",
       "</div>"
      ],
      "text/plain": [
       "            TMIN  TMAX\n",
       "2017-01-01  48.8  62.7\n",
       "2017-02-01  51.8  62.6\n",
       "2017-03-01  52.8  69.3\n",
       "2017-04-01  55.4  71.9\n",
       "2017-05-01  57.1  69.4"
      ]
     },
     "execution_count": 55,
     "metadata": {},
     "output_type": "execute_result"
    }
   ],
   "source": [
    "# Slice a range of months from 2017-01-01 to 2017-05-01 for TMIN and TMAX\n",
    "df.loc['2017-01':'2017-05', ['TMIN', 'TMAX']]"
   ]
  },
  {
   "cell_type": "markdown",
   "metadata": {},
   "source": [
    "---\n",
    "<span style=\"color:red; font-size:20px; font-weight:bold\">In-class exercise </span>\n",
    "\n",
    "1. Slice row 2017-08 and column TMAX\n",
    "2. Slice the range of rows 2017-05 through 2017-10 and columns TAVG and TMIN\n",
    "3. Slice rows 2017-03 and 2017-08 and column TMIN\n",
    "---"
   ]
  },
  {
   "cell_type": "code",
   "execution_count": 84,
   "metadata": {},
   "outputs": [],
   "source": [
    "#df.loc['2017-08', ['TMAX']] # brackets around 'TMAX' are optional \n",
    "#df.loc['2017-05':'2017-10', ['TAVG', 'TMAX']]\n",
    "#df.loc[[pd.Timestamp('2017-03'), pd.Timestamp('2017-08')], ['TMIN']] # brackets around 'TMIN' are optional"
   ]
  },
  {
   "cell_type": "markdown",
   "metadata": {},
   "source": [
    "# DataFrame Statistics \n",
    "\n",
    "Recall that standard statistics (like mean, min, max) on Series were found with, for example:"
   ]
  },
  {
   "cell_type": "code",
   "execution_count": 85,
   "metadata": {},
   "outputs": [
    {
     "name": "stdout",
     "output_type": "stream",
     "text": [
      "7.283333333333334\n"
     ]
    }
   ],
   "source": [
    "sample_series = pd.Series([12.1, 10.9, 5.5, 3.2, 7,5])\n",
    "series_mean = sample_series.mean()\n",
    "print(series_mean)"
   ]
  },
  {
   "cell_type": "markdown",
   "metadata": {},
   "source": [
    "Similarly, we can compute standard statistics on DataFrames with only one extra bit of information -  we need to specify whether that statistic should be performed along the row-axis or the column-axis.\n",
    "\n",
    "Axes are numbered 0 or 1, with **axis=0 for calculations across rows** and **axis=1 for calculations across columns.** \n",
    "\n",
    "Let's demonstrate on `df`:"
   ]
  },
  {
   "cell_type": "code",
   "execution_count": 86,
   "metadata": {},
   "outputs": [
    {
     "data": {
      "text/plain": [
       "TAVG    55.8\n",
       "TMIN    48.8\n",
       "TMAX    62.6\n",
       "dtype: float64"
      ]
     },
     "execution_count": 86,
     "metadata": {},
     "output_type": "execute_result"
    }
   ],
   "source": [
    "# Minimums across rows\n",
    "df.min(axis=0)"
   ]
  },
  {
   "cell_type": "code",
   "execution_count": 87,
   "metadata": {},
   "outputs": [
    {
     "data": {
      "text/plain": [
       "2017-01-01    48.8\n",
       "2017-02-01    51.8\n",
       "2017-03-01    52.8\n",
       "2017-04-01    55.4\n",
       "2017-05-01    57.1\n",
       "2017-06-01    60.9\n",
       "2017-07-01    65.8\n",
       "2017-08-01    66.8\n",
       "2017-09-01    64.6\n",
       "2017-10-01    62.5\n",
       "2017-11-01    57.3\n",
       "2017-12-01    50.3\n",
       "Freq: MS, dtype: float64"
      ]
     },
     "execution_count": 87,
     "metadata": {},
     "output_type": "execute_result"
    }
   ],
   "source": [
    "# Minimums across columns (this equals the TMIN column!)\n",
    "df.min(axis=1)"
   ]
  },
  {
   "cell_type": "code",
   "execution_count": 89,
   "metadata": {},
   "outputs": [
    {
     "data": {
      "text/plain": [
       "68.08333333333333"
      ]
     },
     "execution_count": 89,
     "metadata": {},
     "output_type": "execute_result"
    }
   ],
   "source": [
    "# Mean of TMAX across the first 6 months \n",
    "# \"Chaining\" or linking slicing and statistics together! \n",
    "df.loc['2017-01':'2017-06', 'TMAX'].mean(axis=0)"
   ]
  },
  {
   "cell_type": "markdown",
   "metadata": {},
   "source": [
    "---\n",
    "** --- In-class exercise --- **\n",
    "\n",
    "Compute the minimum and maximum for each column of data in `temp_df`.\n",
    "\n",
    "---"
   ]
  },
  {
   "cell_type": "code",
   "execution_count": 24,
   "metadata": {},
   "outputs": [
    {
     "data": {
      "text/plain": [
       "TAVG    72.0\n",
       "TMIN    66.8\n",
       "TMAX    80.4\n",
       "dtype: float64"
      ]
     },
     "execution_count": 24,
     "metadata": {},
     "output_type": "execute_result"
    }
   ],
   "source": [
    "#temp_df.min(axis=0) # minimum TAVG, TMIN, and TMAX\n",
    "temp_df.max(axis=0) # maximum TAVG, TMIN, and TMAX"
   ]
  },
  {
   "cell_type": "markdown",
   "metadata": {},
   "source": [
    "# Column Arithmetic\n",
    "\n",
    "Now that we know how to:\n",
    "   * Create columns in a DataFrame\n",
    "   * Extract coumns in a DataFrame\n",
    "   * Code arithmetic using numpy/basic Python\n",
    "  \n",
    "we can easily create new columns of data by performing arithmetic on existing columns.\n",
    "\n",
    "The general syntax is:\n",
    "\n",
    "`df[new column name] = df[existing column] + [arithmetic on new column]`\n",
    "\n",
    "For example, let's create new column called `TAVG(C)` where we convert `TAVG` (which is in units degrees F) to degrees C. "
   ]
  },
  {
   "cell_type": "code",
   "execution_count": 26,
   "metadata": {},
   "outputs": [
    {
     "data": {
      "text/html": [
       "<div>\n",
       "<style scoped>\n",
       "    .dataframe tbody tr th:only-of-type {\n",
       "        vertical-align: middle;\n",
       "    }\n",
       "\n",
       "    .dataframe tbody tr th {\n",
       "        vertical-align: top;\n",
       "    }\n",
       "\n",
       "    .dataframe thead th {\n",
       "        text-align: right;\n",
       "    }\n",
       "</style>\n",
       "<table border=\"1\" class=\"dataframe\">\n",
       "  <thead>\n",
       "    <tr style=\"text-align: right;\">\n",
       "      <th></th>\n",
       "      <th>TAVG</th>\n",
       "      <th>TMIN</th>\n",
       "      <th>TMAX</th>\n",
       "      <th>TAVG(C)</th>\n",
       "    </tr>\n",
       "  </thead>\n",
       "  <tbody>\n",
       "    <tr>\n",
       "      <th>2017-01-01</th>\n",
       "      <td>55.8</td>\n",
       "      <td>48.8</td>\n",
       "      <td>62.7</td>\n",
       "      <td>13.222222</td>\n",
       "    </tr>\n",
       "    <tr>\n",
       "      <th>2017-02-01</th>\n",
       "      <td>57.2</td>\n",
       "      <td>51.8</td>\n",
       "      <td>62.6</td>\n",
       "      <td>14.000000</td>\n",
       "    </tr>\n",
       "    <tr>\n",
       "      <th>2017-03-01</th>\n",
       "      <td>61.0</td>\n",
       "      <td>52.8</td>\n",
       "      <td>69.3</td>\n",
       "      <td>16.111111</td>\n",
       "    </tr>\n",
       "    <tr>\n",
       "      <th>2017-04-01</th>\n",
       "      <td>63.6</td>\n",
       "      <td>55.4</td>\n",
       "      <td>71.9</td>\n",
       "      <td>17.555556</td>\n",
       "    </tr>\n",
       "    <tr>\n",
       "      <th>2017-05-01</th>\n",
       "      <td>63.3</td>\n",
       "      <td>57.1</td>\n",
       "      <td>69.4</td>\n",
       "      <td>17.388889</td>\n",
       "    </tr>\n",
       "    <tr>\n",
       "      <th>2017-06-01</th>\n",
       "      <td>66.7</td>\n",
       "      <td>60.9</td>\n",
       "      <td>72.6</td>\n",
       "      <td>19.277778</td>\n",
       "    </tr>\n",
       "    <tr>\n",
       "      <th>2017-07-01</th>\n",
       "      <td>71.7</td>\n",
       "      <td>65.8</td>\n",
       "      <td>77.5</td>\n",
       "      <td>22.055556</td>\n",
       "    </tr>\n",
       "    <tr>\n",
       "      <th>2017-08-01</th>\n",
       "      <td>72.0</td>\n",
       "      <td>66.8</td>\n",
       "      <td>77.3</td>\n",
       "      <td>22.222222</td>\n",
       "    </tr>\n",
       "    <tr>\n",
       "      <th>2017-09-01</th>\n",
       "      <td>71.5</td>\n",
       "      <td>64.6</td>\n",
       "      <td>78.5</td>\n",
       "      <td>21.944444</td>\n",
       "    </tr>\n",
       "    <tr>\n",
       "      <th>2017-10-01</th>\n",
       "      <td>71.5</td>\n",
       "      <td>62.5</td>\n",
       "      <td>80.4</td>\n",
       "      <td>21.944444</td>\n",
       "    </tr>\n",
       "    <tr>\n",
       "      <th>2017-11-01</th>\n",
       "      <td>65.6</td>\n",
       "      <td>57.3</td>\n",
       "      <td>73.7</td>\n",
       "      <td>18.666667</td>\n",
       "    </tr>\n",
       "    <tr>\n",
       "      <th>2017-12-01</th>\n",
       "      <td>61.4</td>\n",
       "      <td>50.3</td>\n",
       "      <td>72.4</td>\n",
       "      <td>16.333333</td>\n",
       "    </tr>\n",
       "  </tbody>\n",
       "</table>\n",
       "</div>"
      ],
      "text/plain": [
       "            TAVG  TMIN  TMAX    TAVG(C)\n",
       "2017-01-01  55.8  48.8  62.7  13.222222\n",
       "2017-02-01  57.2  51.8  62.6  14.000000\n",
       "2017-03-01  61.0  52.8  69.3  16.111111\n",
       "2017-04-01  63.6  55.4  71.9  17.555556\n",
       "2017-05-01  63.3  57.1  69.4  17.388889\n",
       "2017-06-01  66.7  60.9  72.6  19.277778\n",
       "2017-07-01  71.7  65.8  77.5  22.055556\n",
       "2017-08-01  72.0  66.8  77.3  22.222222\n",
       "2017-09-01  71.5  64.6  78.5  21.944444\n",
       "2017-10-01  71.5  62.5  80.4  21.944444\n",
       "2017-11-01  65.6  57.3  73.7  18.666667\n",
       "2017-12-01  61.4  50.3  72.4  16.333333"
      ]
     },
     "execution_count": 26,
     "metadata": {},
     "output_type": "execute_result"
    }
   ],
   "source": [
    "temp_df['TAVG(C)'] = (temp_df['TAVG']-32) * (5/9)\n",
    "temp_df"
   ]
  },
  {
   "cell_type": "markdown",
   "metadata": {},
   "source": [
    "---\n",
    "** In-class exercise **\n",
    "\n",
    "1. Create a new column called `TMAX(K)` that converts `TMAX` from Fahrenheit to Kelvin. \n",
    "\n",
    "   Note: T(K) = T(F) + 459.67 x (5/9)\n",
    "2. Create a new column called `TMIN(C-1.2)` that first converts `TMIN` from Fahrenheight to Celsius and then subtracts 1.2 degrees C from each item. \n",
    "---"
   ]
  },
  {
   "cell_type": "code",
   "execution_count": 53,
   "metadata": {},
   "outputs": [
    {
     "data": {
      "text/html": [
       "<div>\n",
       "<style scoped>\n",
       "    .dataframe tbody tr th:only-of-type {\n",
       "        vertical-align: middle;\n",
       "    }\n",
       "\n",
       "    .dataframe tbody tr th {\n",
       "        vertical-align: top;\n",
       "    }\n",
       "\n",
       "    .dataframe thead th {\n",
       "        text-align: right;\n",
       "    }\n",
       "</style>\n",
       "<table border=\"1\" class=\"dataframe\">\n",
       "  <thead>\n",
       "    <tr style=\"text-align: right;\">\n",
       "      <th></th>\n",
       "      <th>TAVG</th>\n",
       "      <th>TMIN</th>\n",
       "      <th>TMAX</th>\n",
       "      <th>TAVG(C)</th>\n",
       "      <th>TAVG(K)</th>\n",
       "      <th>TMIN(C-1.2)</th>\n",
       "    </tr>\n",
       "  </thead>\n",
       "  <tbody>\n",
       "    <tr>\n",
       "      <th>2017-01-01</th>\n",
       "      <td>55.8</td>\n",
       "      <td>48.8</td>\n",
       "      <td>62.7</td>\n",
       "      <td>13.222222</td>\n",
       "      <td>286.372222</td>\n",
       "      <td>8.133333</td>\n",
       "    </tr>\n",
       "    <tr>\n",
       "      <th>2017-02-01</th>\n",
       "      <td>57.2</td>\n",
       "      <td>51.8</td>\n",
       "      <td>62.6</td>\n",
       "      <td>14.000000</td>\n",
       "      <td>287.150000</td>\n",
       "      <td>9.800000</td>\n",
       "    </tr>\n",
       "    <tr>\n",
       "      <th>2017-03-01</th>\n",
       "      <td>61.0</td>\n",
       "      <td>52.8</td>\n",
       "      <td>69.3</td>\n",
       "      <td>16.111111</td>\n",
       "      <td>289.261111</td>\n",
       "      <td>10.355556</td>\n",
       "    </tr>\n",
       "    <tr>\n",
       "      <th>2017-04-01</th>\n",
       "      <td>63.6</td>\n",
       "      <td>55.4</td>\n",
       "      <td>71.9</td>\n",
       "      <td>17.555556</td>\n",
       "      <td>290.705556</td>\n",
       "      <td>11.800000</td>\n",
       "    </tr>\n",
       "    <tr>\n",
       "      <th>2017-05-01</th>\n",
       "      <td>63.3</td>\n",
       "      <td>57.1</td>\n",
       "      <td>69.4</td>\n",
       "      <td>17.388889</td>\n",
       "      <td>290.538889</td>\n",
       "      <td>12.744444</td>\n",
       "    </tr>\n",
       "    <tr>\n",
       "      <th>2017-06-01</th>\n",
       "      <td>66.7</td>\n",
       "      <td>60.9</td>\n",
       "      <td>72.6</td>\n",
       "      <td>19.277778</td>\n",
       "      <td>292.427778</td>\n",
       "      <td>14.855556</td>\n",
       "    </tr>\n",
       "    <tr>\n",
       "      <th>2017-07-01</th>\n",
       "      <td>71.7</td>\n",
       "      <td>65.8</td>\n",
       "      <td>77.5</td>\n",
       "      <td>22.055556</td>\n",
       "      <td>295.205556</td>\n",
       "      <td>17.577778</td>\n",
       "    </tr>\n",
       "    <tr>\n",
       "      <th>2017-08-01</th>\n",
       "      <td>72.0</td>\n",
       "      <td>66.8</td>\n",
       "      <td>77.3</td>\n",
       "      <td>22.222222</td>\n",
       "      <td>295.372222</td>\n",
       "      <td>18.133333</td>\n",
       "    </tr>\n",
       "    <tr>\n",
       "      <th>2017-09-01</th>\n",
       "      <td>71.5</td>\n",
       "      <td>64.6</td>\n",
       "      <td>78.5</td>\n",
       "      <td>21.944444</td>\n",
       "      <td>295.094444</td>\n",
       "      <td>16.911111</td>\n",
       "    </tr>\n",
       "    <tr>\n",
       "      <th>2017-10-01</th>\n",
       "      <td>71.5</td>\n",
       "      <td>62.5</td>\n",
       "      <td>80.4</td>\n",
       "      <td>21.944444</td>\n",
       "      <td>295.094444</td>\n",
       "      <td>15.744444</td>\n",
       "    </tr>\n",
       "    <tr>\n",
       "      <th>2017-11-01</th>\n",
       "      <td>65.6</td>\n",
       "      <td>57.3</td>\n",
       "      <td>73.7</td>\n",
       "      <td>18.666667</td>\n",
       "      <td>291.816667</td>\n",
       "      <td>12.855556</td>\n",
       "    </tr>\n",
       "    <tr>\n",
       "      <th>2017-12-01</th>\n",
       "      <td>61.4</td>\n",
       "      <td>50.3</td>\n",
       "      <td>72.4</td>\n",
       "      <td>16.333333</td>\n",
       "      <td>289.483333</td>\n",
       "      <td>8.966667</td>\n",
       "    </tr>\n",
       "  </tbody>\n",
       "</table>\n",
       "</div>"
      ],
      "text/plain": [
       "            TAVG  TMIN  TMAX    TAVG(C)     TAVG(K)  TMIN(C-1.2)\n",
       "2017-01-01  55.8  48.8  62.7  13.222222  286.372222     8.133333\n",
       "2017-02-01  57.2  51.8  62.6  14.000000  287.150000     9.800000\n",
       "2017-03-01  61.0  52.8  69.3  16.111111  289.261111    10.355556\n",
       "2017-04-01  63.6  55.4  71.9  17.555556  290.705556    11.800000\n",
       "2017-05-01  63.3  57.1  69.4  17.388889  290.538889    12.744444\n",
       "2017-06-01  66.7  60.9  72.6  19.277778  292.427778    14.855556\n",
       "2017-07-01  71.7  65.8  77.5  22.055556  295.205556    17.577778\n",
       "2017-08-01  72.0  66.8  77.3  22.222222  295.372222    18.133333\n",
       "2017-09-01  71.5  64.6  78.5  21.944444  295.094444    16.911111\n",
       "2017-10-01  71.5  62.5  80.4  21.944444  295.094444    15.744444\n",
       "2017-11-01  65.6  57.3  73.7  18.666667  291.816667    12.855556\n",
       "2017-12-01  61.4  50.3  72.4  16.333333  289.483333     8.966667"
      ]
     },
     "execution_count": 53,
     "metadata": {},
     "output_type": "execute_result"
    }
   ],
   "source": [
    "temp_df['TAVG(K)'] = (temp_df['TAVG'] + 459.67) * (5/9)\n",
    "temp_df['TMIN(C-1.2)'] = ((temp_df['TMIN'] - 32) * (5/9)) - 1.2\n",
    "temp_df"
   ]
  },
  {
   "cell_type": "markdown",
   "metadata": {},
   "source": [
    "# Plotting DataFrames\n",
    "\n",
    "Plotting DataFrames has the same syntax as plotting Series:\n",
    "\n",
    "`df.plot(kind = [kind of plot], color = [colors], title = \"Plot title)`"
   ]
  },
  {
   "cell_type": "code",
   "execution_count": 54,
   "metadata": {},
   "outputs": [
    {
     "data": {
      "text/plain": [
       "<matplotlib.axes._subplots.AxesSubplot at 0x10fff5ba8>"
      ]
     },
     "execution_count": 54,
     "metadata": {},
     "output_type": "execute_result"
    }
   ],
   "source": [
    "# Line plots of TAVG, TMIN, TMAX\n",
    "temp_df = temp_df[['TAVG', 'TMIN', 'TMAX']]\n",
    "temp_df.plot(kind='line', \n",
    "             color=['green', 'blue', 'red'], \n",
    "             title='2017 LA Monthly Tavg, Tmax, Tmin (degrees F)')"
   ]
  },
  {
   "cell_type": "markdown",
   "metadata": {},
   "source": [
    "---\n",
    "**In-class exercise**\n",
    "\n",
    "Seasonality of precipitation is vasty different across the US. Here are 2017 monthly precipitation amounts (unit: inches) across a few US cities - San Diego (SD), Miami (MIA), Detroit (DET). \n",
    "\n",
    "| |SD|MIA|DET|\n",
    "|---|---|---|---|\n",
    "|201701|3.02|3.41|2.84|\n",
    "|201702|3.71|1.31|1.91|\n",
    "|201703|0.08|3.93|4.26|\n",
    "|201704|0.01|2.16|3.55|\n",
    "|201705|0.92|2.69|4.38|\n",
    "|201706|0.02|15.97|2.03|\n",
    "|201707|0.00|12.45|2.44|\n",
    "|201708|0.00|8.57|3.91|\n",
    "|201709|0.08|14.97|0.91|\n",
    "|201710|0.00|12.61|2.84|\n",
    "|201711|0.02|4.41|4.93|\n",
    "|201712|0.07|0.66|1.49|\n",
    "\n",
    "1. Create a DataFrame storing this information with a Datetime Index.\n",
    "2. Compute all the standard statistics of precipitation during 2017 for each city. \n",
    "3. Create a bar chart of this data."
   ]
  },
  {
   "cell_type": "code",
   "execution_count": 55,
   "metadata": {},
   "outputs": [
    {
     "name": "stdout",
     "output_type": "stream",
     "text": [
      "              SD        MIA        DET\n",
      "count  12.000000  12.000000  12.000000\n",
      "mean    0.660833   6.927500   2.957500\n",
      "std     1.297168   5.650537   1.260152\n",
      "min     0.000000   0.660000   0.910000\n",
      "25%     0.007500   2.557500   2.000000\n",
      "50%     0.045000   4.165000   2.840000\n",
      "75%     0.290000  12.490000   3.997500\n",
      "max     3.710000  15.970000   4.930000\n"
     ]
    },
    {
     "data": {
      "text/plain": [
       "([<matplotlib.axis.XTick at 0x113827cc0>,\n",
       "  <matplotlib.axis.XTick at 0x113827ac8>,\n",
       "  <matplotlib.axis.XTick at 0x113883940>,\n",
       "  <matplotlib.axis.XTick at 0x113888198>,\n",
       "  <matplotlib.axis.XTick at 0x1138887f0>,\n",
       "  <matplotlib.axis.XTick at 0x113888e80>,\n",
       "  <matplotlib.axis.XTick at 0x11388c550>,\n",
       "  <matplotlib.axis.XTick at 0x11388cbe0>,\n",
       "  <matplotlib.axis.XTick at 0x11388fb00>,\n",
       "  <matplotlib.axis.XTick at 0x11388c208>,\n",
       "  <matplotlib.axis.XTick at 0x11389a3c8>,\n",
       "  <matplotlib.axis.XTick at 0x11388fa90>],\n",
       " <a list of 12 Text xticklabel objects>)"
      ]
     },
     "execution_count": 55,
     "metadata": {},
     "output_type": "execute_result"
    },
    {
     "data": {
      "image/png": "[encoded data removed]",
      "text/plain": [
       "<matplotlib.figure.Figure at 0x11381b978>"
      ]
     },
     "metadata": {},
     "output_type": "display_data"
    }
   ],
   "source": [
    "# Importing matplotlib for some customization of our Pandas plot\n",
    "import matplotlib.pyplot as plt \n",
    "\n",
    "pr_df = pd.DataFrame()\n",
    "pr_df['SD'] = [3.02, 3.71, 0.08, 0.01, 0.92, 0.02, 0.00, 0.00, 0.08, 0.00, 0.02, 0.07]\n",
    "pr_df['MIA'] = [3.41, 1.31, 3.92, 2.16, 2.69, 15.97, 12.45, 8.57, 14.97, 12.61, 4.41, 0.66]\n",
    "pr_df['DET'] = [2.84, 1.91, 4.26, 3.55, 4.38, 2.03, 2.44, 3.91, 0.91, 2.84, 4.93, 1.49]\n",
    "\n",
    "stats = pr_df.describe()\n",
    "print(stats)\n",
    "\n",
    "pr_df.plot(kind='bar',\n",
    "          color = ['deeppink', 'royalblue', 'mediumseagreen'],\n",
    "          title = '2017 Precip')\n",
    "\n",
    "# Customizations through Matplotlib (not covered in lecture)\n",
    "plt.ylabel('Precip (inches)')\n",
    "plt.xticks(range(12), ['Jan', 'Feb', 'Mar', 'Apr', 'May', 'Jun', 'Jul', 'Aug', 'Sep', 'Oct', 'Nov', 'Dec'])"
   ]
  },
  {
   "cell_type": "code",
   "execution_count": null,
   "metadata": {},
   "outputs": [],
   "source": []
  }
 ],
 "metadata": {
  "kernelspec": {
   "display_name": "Python 3",
   "language": "python",
   "name": "python3"
  },
  "language_info": {
   "codemirror_mode": {
    "name": "ipython",
    "version": 3
   },
   "file_extension": ".py",
   "mimetype": "text/x-python",
   "name": "python",
   "nbconvert_exporter": "python",
   "pygments_lexer": "ipython3",
   "version": "3.5.4"
  }
 },
 "nbformat": 4,
 "nbformat_minor": 2
}
