{
 "cells": [
  {
   "cell_type": "markdown",
   "metadata": {},
   "source": [
    "# <span style=\"text-decoration: underline\">AOS 51 Lab: Data Analysis for Climate Science, Session #3</span>\n",
    "# <span>🌎🔥 👩🏿‍💻👩🏾‍💻 👨🏽‍💻👩🏼‍💻 👨🏼‍💻👨🏾‍💻👩🏽‍💻 👨🏿‍💻</span>\n",
    "\n",
    "#### So far, we've been exposed to matplotlib, but mostly used Pandas to generate plots. Today we'll take a deep diver into Matplotlib and then enter the world of multi-dimensional data using Xarray!\n",
    "\n",
    "---"
   ]
  },
  {
   "cell_type": "code",
   "execution_count": 34,
   "metadata": {},
   "outputs": [],
   "source": [
    "# modules needed for today's lab\n",
    "import pandas as pd\n",
    "import numpy as np\n",
    "import matplotlib.pyplot as plt\n",
    "import xarray as xr"
   ]
  },
  {
   "cell_type": "markdown",
   "metadata": {},
   "source": [
    "# Diving Deeper Into Matplotlib 🎨\n",
    "\n",
    "We've done a lot of plotting using Pandas, which is completely fine, but it's not as powerful as matplotlib.\n",
    "\n",
    "Let's learn how plots actually work in matplotlib, then start customizing them to our liking. "
   ]
  },
  {
   "cell_type": "markdown",
   "metadata": {},
   "source": [
    "---\n",
    "## Terminology \n",
    "\n",
    "Let's view [this Jupyer Notebook](https://github.com/matplotlib/AnatomyOfMatplotlib/blob/master/AnatomyOfMatplotlib-Part1-Figures_Subplots_and_layouts.ipynb) to visualuze how Matplotlib defines three terms:\n",
    "\n",
    "1. Figure\n",
    "2. Axes/subplot\n",
    "3. Y-axis and X-axis \n",
    "\n",
    "We see that:\n",
    "\n",
    "1. The \"Figure\" is the highest-level container of the plot. It encapsulates the entire page where stuff is drawn. \n",
    "\n",
    "2. \"Axes\" are the area that we plot data on, along with any ticks/labels/etc associated with it. An Axes is created with a call to `subplot`, so Axes and Subplot are mostly synonymous terms now. \n",
    "\n",
    "3. Each Axes has an \"XAxis\" and a \"YAxis\". These contain the ticks, tick locations, labels, etc.\n",
    "---"
   ]
  },
  {
   "cell_type": "markdown",
   "metadata": {},
   "source": [
    "## Creating a plot"
   ]
  },
  {
   "cell_type": "code",
   "execution_count": 35,
   "metadata": {},
   "outputs": [
    {
     "data": {
      "image/png": "[encoded data removed]",
      "text/plain": [
       "<matplotlib.figure.Figure at 0x3268869e8>"
      ]
     },
     "metadata": {},
     "output_type": "display_data"
    }
   ],
   "source": [
    "# Create some sample data\n",
    "x_data = [1, 2, 3, 4, 5]\n",
    "y_data = [1, 2, 3, 4, 5]\n",
    "\n",
    "fig = plt.figure() # create a Figure\n",
    "ax = fig.add_subplot(1,1,1) # create an axes/subbplot in the figure (row #, col #, subplot #) = (1, 1, 1)\n",
    "ax.plot(x_data, y_data, color='violet', marker='o')\n",
    "ax.set_title('Title of Figure')\n",
    "ax.set_xlabel('X-axis label')\n",
    "ax.set_ylabel('Y-axis label')\n",
    "plt.show()"
   ]
  },
  {
   "cell_type": "markdown",
   "metadata": {},
   "source": [
    "---\n",
    "<span style=\"color:red; font-size:20px; font-weight:bold\">In-class exercise 🦀</span>\n",
    "\n",
    "Let's use `matplotlib` to create a nice line plot of monthly-average high temperature over Baltimore, MD (list of temperatures provided below).\n",
    "\n",
    "**Instructions:**\n",
    "1. Use [np.arange()](https://docs.scipy.org/doc/numpy-1.15.0/reference/generated/numpy.arange.html) to create a range of month indices spanning 1 through 12. Assign this array to the variable name `months`.\n",
    "2. With `temperature` on the y-axis and `months` on the x-axis, create a line plot using `matplotlib`. Make sure you give your plot a title and label the x- and y-axis."
   ]
  },
  {
   "cell_type": "code",
   "execution_count": 36,
   "metadata": {},
   "outputs": [],
   "source": [
    "baltimore_temps = [42.4, 45.7, 53.9, 65.5, 75.2, 85.0, 89.0, 87.0, 80.3, 68.4, 57.7, 46.1]"
   ]
  },
  {
   "cell_type": "markdown",
   "metadata": {},
   "source": [
    "## Customizing the ticks and tick-labels\n",
    "So far, we've let matplotlib figure out the best tick spacing and labels for our plots, but they are highly customizable.\n",
    "\n",
    "** Setting x-ticks and y-ticks**\n",
    "\n",
    "We can manually set the [x-ticks](https://matplotlib.org/api/_as_gen/matplotlib.pyplot.xticks.html) and [y-ticks](https://matplotlib.org/api/_as_gen/matplotlib.pyplot.yticks.html) using:\n",
    "\n",
    "`ax.set_xticks([list or 1D array of tick locations])`\n",
    "\n",
    "`ax.set_yticks([list or 1D array of tick locations])`\n",
    "\n",
    "** Setting x-ticklabels and y-ticklabels **\n",
    "\n",
    "We can set the [x-ticklabels](https://matplotlib.org/api/_as_gen/matplotlib.axes.Axes.set_xticklabels.html) and [y-ticklabels](https://matplotlib.org/api/_as_gen/matplotlib.axes.Axes.set_yticklabels.html) using:\n",
    "\n",
    "`ax.set_xticklabels([list of tick labels as strings])`\n",
    "\n",
    "`ax.set_yticklabels([list of tick labels as strings])`\n",
    "\n",
    "** Example **\n",
    "\n",
    "If we have 12 data points representing some values for a given calendar month, we can set 12 x-ticks with labels as:\n",
    "\n",
    "`ax.set_xticks([1, 2, 3, 4, 5, 6, 7, 8, 9, 10, 11, 12])` \n",
    "\n",
    "OR \n",
    "\n",
    "`ax_set_xticks(np.arange(1,13))`\n",
    "\n",
    "`ax.set_xticklabels(['Jan', 'Feb', 'Mar', 'Apr', 'May', 'Jun', 'Jul', 'Aug', 'Sep', 'Oct', 'Nov', 'Dec'])`"
   ]
  },
  {
   "cell_type": "markdown",
   "metadata": {},
   "source": [
    "<span style=\"color:red; font-size:20px; font-weight:bold\">In-class exercise</span>\n",
    "\n",
    "Revise your plot of Baltimore monthly-temperatures to have 12 `xticks` with corresponding monthly `xticklabels`. The labels can be full month names or abbreviated (e.g. 'Jan', or 'J'). "
   ]
  },
  {
   "cell_type": "markdown",
   "metadata": {},
   "source": [
    "## Grid lines\n",
    "\n",
    "We can add [grid lines](https://matplotlib.org/api/_as_gen/matplotlib.axes.Axes.grid.html) with:\n",
    "\n",
    "`ax.grid(axis={'x', 'y', or 'both'}` with optional arguments of `color`, `linewidth`, and `linestyle` and many more. \n",
    "\n",
    "For instance, drawing grid lines for both axes in a lightgrey dashed style would look like:\n",
    "\n",
    "`ax.grid(axis='both', color='lightgrey', linestyle='dashed')`"
   ]
  },
  {
   "cell_type": "markdown",
   "metadata": {},
   "source": [
    "<span style=\"color:red; font-size:20px; font-weight:bold\">In-class exercise</span>\n",
    "\n",
    "Revise your plot of Baltimore monthly-temperatures to have grid lines only for the x-axis, choose an appropriate color (e.g. something not distracting from the data curve!) and give them a 'dotted' `linestyle`."
   ]
  },
  {
   "cell_type": "markdown",
   "metadata": {},
   "source": [
    "## Text overlays\n",
    "\n",
    "We can add text overlays to the plot with:\n",
    "\n",
    "`ax.text({x-location}, {y-location}, {string of text})` and optional arguments like `fontsize` and `bbox`, which creates a boundary box to include background colors to the text overlay. \n",
    "\n",
    "Examples:\n",
    "\n",
    "* Adding the temperature for February (x-tick of 2, so let's use 2.5 to get it some padding) on the plot:\n",
    "\n",
    "`ax.text(2.5, 45.7, 'Feb = 45.7')`\n",
    "* With a fancy border box: \n",
    "\n",
    "`ax.text(2.5, 45.7, 'Feb = 45.7', bbox=dict(facecolor='red', alpha=0.25))`"
   ]
  },
  {
   "cell_type": "markdown",
   "metadata": {},
   "source": [
    "<span style=\"color:red; font-size:20px; font-weight:bold\">In-class exercise</span>\n",
    "\n",
    "Revise your plot of Baltimore monthly-temperatures by adding a text label displaying September's temperture."
   ]
  },
  {
   "cell_type": "markdown",
   "metadata": {},
   "source": [
    "## Multi-line plots with labels and a legend\n",
    "\n",
    "We can add as many lines to a single plot as we wish with additional `ax.plot(x, y)` commands. \n",
    "\n",
    "However, we can also attach unique labels to each line with the `label` argument:\n",
    "\n",
    "`ax.plot(x, y, label='Data 1')`\n",
    "\n",
    "Then, we can create a [legend](https://matplotlib.org/api/_as_gen/matplotlib.pyplot.legend.html) based on those line labels using:\n",
    "\n",
    "`plt.legend()` that can take in additional arguments like `loc='upper left'`, `frameon=False`, and more. "
   ]
  },
  {
   "cell_type": "markdown",
   "metadata": {},
   "source": [
    "<span style=\"color:red; font-size:20px; font-weight:bold\">In-class exercise</span>\n",
    "\n",
    "Below is a list of average monthly temperatures for Los Angeles. Add this data to the Baltimore plot, attaching labels to each line and creating a legend displaying those labels. "
   ]
  },
  {
   "cell_type": "code",
   "execution_count": 5,
   "metadata": {},
   "outputs": [],
   "source": [
    "la_temps = [68.2, 68.6, 70.2, 72.7, 74.5, 78.1, 83.1, 84.4, 83.1, 78.5, 72.8, 67.7]"
   ]
  },
  {
   "cell_type": "markdown",
   "metadata": {},
   "source": [
    "<span style=\"color:red; font-size:20px; font-weight:bold\">In-class exercise</span>\n",
    "\n",
    "Let's return to last week's dataset `extreme_heat_days_rcp85_tasmax.csv` and use `matplotlib` to plot each GCM's projection of the number of extremely hot days per year over LA through 2099. \n",
    "\n",
    "**Instructions**\n",
    "1. Read in `extreme_heat_days_rcp85_tasmax.csv` to create a new DataFrame. \n",
    "2. Slice out the GCM projections spanning 2006-2099.\n",
    "3. Plot each GCM projection as a line, including appropriate labels (axes and a legend), titles, colors, grid lines, etc. to your plot. "
   ]
  },
  {
   "cell_type": "markdown",
   "metadata": {},
   "source": [
    "## Multi-panel plots\n",
    "\n",
    "Multi-panel plots have two differences from the single-panel plots we have worked with so far:\n",
    "\n",
    "1. Each sub-panel needs to have a unique `axes` (e.g. `ax1`, `ax2`, etc.)\n",
    "2. The sub-panel position needs to be defined when added to the figure in the (row #, col #, plot #) call.\n",
    "\n",
    "Let's demonstate with a 1 row x 2 column multi-panel plot:"
   ]
  },
  {
   "cell_type": "code",
   "execution_count": 7,
   "metadata": {},
   "outputs": [
    {
     "data": {
      "image/png": "[encoded data removed]",
      "text/plain": [
       "<matplotlib.figure.Figure at 0x116e4fdd8>"
      ]
     },
     "metadata": {},
     "output_type": "display_data"
    }
   ],
   "source": [
    "fig = plt.figure(figsize=(5,3)) # specify the figure (width, height) in unit inches\n",
    "\n",
    "ax1 = fig.add_subplot(1,2,1) # 1 row, 2 columns, 1st subplot\n",
    "ax1.plot(np.arange(5,10), np.arange(5,10), color='salmon')\n",
    "ax1.set_title('1st subplot')\n",
    "\n",
    "ax2 = fig.add_subplot(1,2,2) # 1 row, 2 columns, 2nd subplot\n",
    "ax2.plot(np.arange(5,10), np.arange(5,10), color='orchid')\n",
    "ax2.set_title('2nd subplot')\n",
    "\n",
    "fig.tight_layout() # automatically adjusts subplots to fit in the figure\n",
    "plt.show()"
   ]
  },
  {
   "cell_type": "markdown",
   "metadata": {},
   "source": [
    "<span style=\"color:red; font-size:20px; font-weight:bold\">In-class exercise</span>\n",
    "\n",
    "Below are lists storing monthly-average precipitation (unit: inches) for Chicago, San Francisco, and Atlanta. \n",
    "\n",
    "** Instructions **\n",
    "1. Convert each dataset from units of inches to millimeters.\n",
    "2. Create a 1 row x 3 column plot where each subplot displays a **bar** chart of a given city's monthly-average precipitation.\n",
    "3. Make sure the y-axis spans the same range for each subplot (i.e. the same `ylim`) to help compare precip across the cities."
   ]
  },
  {
   "cell_type": "code",
   "execution_count": 8,
   "metadata": {},
   "outputs": [],
   "source": [
    "chi = [1.73, 1.79, 2.50, 3.38, 3.68, 3.45, 3.70, 4.90, 3.21, 3.15, 3.15, 2.25]\n",
    "sf = [4.5, 4.46, 3.26, 1.46, 0.70, 0.16, 0.00, 0.06, 0.21, 1.12, 3.16, 4.56]\n",
    "atl = [4.20, 4.67, 4.81, 3.36, 3.67, 3.95, 5.27, 3.90, 4.47, 3.41, 4.10, 3.90]"
   ]
  },
  {
   "cell_type": "markdown",
   "metadata": {},
   "source": [
    "## Saving figures\n",
    "\n",
    "Now that we've created all these lovely figures, let's save them! \n",
    "\n",
    "At the very end of the code to create a figure, simply use:\n",
    "\n",
    "`plt.savefig({full path and filename})`\n",
    "\n",
    "to save the figure in your desired location.\n",
    "\n",
    "For instance, to store a figure called \"Histogram.eps\" in /Users/nberg/AOS51/figures/:\n",
    "\n",
    "`plt.savefig('/Users/nberg/AOS51/figures/Histogram.eps')`"
   ]
  },
  {
   "cell_type": "markdown",
   "metadata": {},
   "source": [
    "<span style=\"color:red; font-size:20px; font-weight:bold\">In-class exercise</span>\n",
    "\n",
    "**Instructions**\n",
    "1. Create a new sub-directory in your `AOS51` directory called `figures`.\n",
    "2. Save the 3-panel figure from the last in-class exercise as an .eps file."
   ]
  },
  {
   "cell_type": "markdown",
   "metadata": {},
   "source": [
    "# NetCDF Data\n",
    "\n",
    "### What does netCDF mean?\n",
    "\n",
    "**Net**work **C**ommon **D**ata **F**orm (or [netCDF](https://en.wikipedia.org/wiki/NetCDF)) is a set of software libraries to manipulate array-oriented (i.e. multi-dimensional) weather and climate data. netCDF files all end with the extension \".nc\".\n"
   ]
  },
  {
   "cell_type": "markdown",
   "metadata": {},
   "source": [
    "### Opening and reading netCDF files\n",
    "We'll be working with a file called `skt_sfc_mon_mean_1998_2017.nc`. This file is from the [NCEP-DOE 2 Reanalysis](https://www.esrl.noaa.gov/psd/data/gridded/data.ncep.reanalysis2.gaussian.html) and contains global monthly-mean skin-temperature at the surface from January 1998 - December 2017.\n",
    "\n",
    "Replace \"nberg\" with your username in the path below to load the netcdf file. "
   ]
  },
  {
   "cell_type": "code",
   "execution_count": 12,
   "metadata": {},
   "outputs": [
    {
     "data": {
      "text/plain": [
       "<xarray.Dataset>\n",
       "Dimensions:    (lat: 94, lon: 192, nbnds: 2, time: 240)\n",
       "Coordinates:\n",
       "  * lat        (lat) float32 -88.542 -86.6531 -84.7532 -82.8508 -80.9473 ...\n",
       "  * lon        (lon) float32 0.0 1.875 3.75 5.625 7.5 9.375 11.25 13.125 ...\n",
       "  * time       (time) datetime64[ns] 1998-01-01 1998-02-01 1998-03-01 ...\n",
       "Dimensions without coordinates: nbnds\n",
       "Data variables:\n",
       "    skt        (time, lat, lon) float32 ...\n",
       "    time_bnds  (time, nbnds) float64 ...\n",
       "Attributes:\n",
       "    Conventions:               CF-1.0\n",
       "    title:                     Monthly NCEP/DOE Reanalysis 2\n",
       "    history:                   Thu May 17 17:38:09 2018: ncpdq -a -lat skt_sf...\n",
       "    comments:                  Data is from \\nNCEP/DOE AMIP-II Reanalysis (Re...\n",
       "    platform:                  Model\n",
       "    source:                    NCEP/DOE AMIP-II Reanalysis (Reanalysis-2) Model\n",
       "    institution:               National Centers for Environmental Prediction\n",
       "    dataset_title:             NCEP-DOE AMIP-II Reanalysis\n",
       "    References:                https://www.esrl.noaa.gov/psd/data/gridded/dat...\n",
       "    source_url:                http://www.cpc.ncep.noaa.gov/products/wesley/r...\n",
       "    NCO:                       4.7.0\n",
       "    nco_openmp_thread_number:  1"
      ]
     },
     "execution_count": 12,
     "metadata": {},
     "output_type": "execute_result"
    }
   ],
   "source": [
    "ncfile = xr.open_dataset('/Users/nberg/AOS51/data/skt_sfc_mon_mean_1998_2017.nc')\n",
    "ncfile"
   ]
  },
  {
   "cell_type": "markdown",
   "metadata": {},
   "source": [
    "### Structure of netCDF data\n",
    "\n",
    "Data in netCDF files are divided by:\n",
    "\n",
    "* **dimensions** - spatial (e.g. `latitude` and `longitude`) and temporal (e.g. `time`) dimensions \n",
    "* **variables** - climate variables in contained in the file (e.g. `skt`)\n",
    "* **attributes** - metadata to the file itself, and for a given variable (e.g. the units of a variable)\n",
    "* **coordinates** (these are of secondary importance to us for now) "
   ]
  },
  {
   "cell_type": "markdown",
   "metadata": {},
   "source": [
    "# Extracting variables\n",
    "\n",
    "We can extract variables from an xarray Dataset with similar syntax as extracting columns from a Pandas Dataframe.\n",
    "\n",
    "Note how the data format changes from a `Dataset` (multiple variables) to a `DataArray` (single variable). "
   ]
  },
  {
   "cell_type": "code",
   "execution_count": 13,
   "metadata": {},
   "outputs": [
    {
     "data": {
      "text/plain": [
       "<xarray.DataArray 'skt' (time: 240, lat: 94, lon: 192)>\n",
       "[4331520 values with dtype=float32]\n",
       "Coordinates:\n",
       "  * lat      (lat) float32 -88.542 -86.6531 -84.7532 -82.8508 -80.9473 ...\n",
       "  * lon      (lon) float32 0.0 1.875 3.75 5.625 7.5 9.375 11.25 13.125 15.0 ...\n",
       "  * time     (time) datetime64[ns] 1998-01-01 1998-02-01 1998-03-01 ...\n",
       "Attributes:\n",
       "    long_name:             Monthly Mean of Forecast of SST/Land Skin Temperat...\n",
       "    valid_range:           [-32765  -1765]\n",
       "    unpacked_valid_range:  [ 120.  430.]\n",
       "    actual_range:          [ 190.85420227  314.58322144]\n",
       "    units:                 degK\n",
       "    precision:             2\n",
       "    GRIB_id:               11\n",
       "    GRIB_name:             TMP\n",
       "    var_desc:              Skin Temperature\n",
       "    dataset:               NCEP/DOE AMIP-II Reanalysis (Reanalysis-2) Monthly...\n",
       "    level_desc:            Surface\n",
       "    statistic:             Individual Obs\n",
       "    parent_stat:           Other\n",
       "    standard_name:         temperature\n",
       "    cell_methods:          time: mean (monthly of 6-hourly values)"
      ]
     },
     "execution_count": 13,
     "metadata": {},
     "output_type": "execute_result"
    }
   ],
   "source": [
    "skt = ncfile['skt']\n",
    "skt"
   ]
  },
  {
   "cell_type": "markdown",
   "metadata": {},
   "source": [
    "### Slicing/selecting data by dimension labels\n",
    "\n",
    "We can subset data using dimension names and values using the `sel` command. "
   ]
  },
  {
   "cell_type": "code",
   "execution_count": 14,
   "metadata": {},
   "outputs": [
    {
     "data": {
      "text/plain": [
       "<xarray.DataArray 'skt' (time: 1, lat: 94, lon: 192)>\n",
       "array([[[ 227.429993,  227.300003, ...,  227.699997,  227.559998],\n",
       "        [ 229.279999,  229.      , ...,  229.880005,  229.569992],\n",
       "        ..., \n",
       "        [ 271.97998 ,  271.98999 , ...,  271.910004,  271.950012],\n",
       "        [ 271.869995,  271.869995, ...,  271.859985,  271.859985]]], dtype=float32)\n",
       "Coordinates:\n",
       "  * lat      (lat) float32 -88.542 -86.6531 -84.7532 -82.8508 -80.9473 ...\n",
       "  * lon      (lon) float32 0.0 1.875 3.75 5.625 7.5 9.375 11.25 13.125 15.0 ...\n",
       "  * time     (time) datetime64[ns] 2005-06-01\n",
       "Attributes:\n",
       "    long_name:             Monthly Mean of Forecast of SST/Land Skin Temperat...\n",
       "    valid_range:           [-32765  -1765]\n",
       "    unpacked_valid_range:  [ 120.  430.]\n",
       "    actual_range:          [ 190.85420227  314.58322144]\n",
       "    units:                 degK\n",
       "    precision:             2\n",
       "    GRIB_id:               11\n",
       "    GRIB_name:             TMP\n",
       "    var_desc:              Skin Temperature\n",
       "    dataset:               NCEP/DOE AMIP-II Reanalysis (Reanalysis-2) Monthly...\n",
       "    level_desc:            Surface\n",
       "    statistic:             Individual Obs\n",
       "    parent_stat:           Other\n",
       "    standard_name:         temperature\n",
       "    cell_methods:          time: mean (monthly of 6-hourly values)"
      ]
     },
     "execution_count": 14,
     "metadata": {},
     "output_type": "execute_result"
    }
   ],
   "source": [
    "# Select a single time:\n",
    "skt.sel(time='2005-06')"
   ]
  },
  {
   "cell_type": "code",
   "execution_count": 15,
   "metadata": {},
   "outputs": [
    {
     "data": {
      "text/plain": [
       "<xarray.DataArray 'skt' (time: 1)>\n",
       "array([ 286.26001], dtype=float32)\n",
       "Coordinates:\n",
       "    lat      float32 37.1422\n",
       "    lon      float32 234.375\n",
       "  * time     (time) datetime64[ns] 2010-01-01\n",
       "Attributes:\n",
       "    long_name:             Monthly Mean of Forecast of SST/Land Skin Temperat...\n",
       "    valid_range:           [-32765  -1765]\n",
       "    unpacked_valid_range:  [ 120.  430.]\n",
       "    actual_range:          [ 190.85420227  314.58322144]\n",
       "    units:                 degK\n",
       "    precision:             2\n",
       "    GRIB_id:               11\n",
       "    GRIB_name:             TMP\n",
       "    var_desc:              Skin Temperature\n",
       "    dataset:               NCEP/DOE AMIP-II Reanalysis (Reanalysis-2) Monthly...\n",
       "    level_desc:            Surface\n",
       "    statistic:             Individual Obs\n",
       "    parent_stat:           Other\n",
       "    standard_name:         temperature\n",
       "    cell_methods:          time: mean (monthly of 6-hourly values)"
      ]
     },
     "execution_count": 15,
     "metadata": {},
     "output_type": "execute_result"
    }
   ],
   "source": [
    "# Select a single time, lat, and lon\n",
    "# Note how we need to include the method='nearest' argument, e.g. find the grid cell nearest to 37 degN, 235 degE\n",
    "skt.sel(time='2010-01', lat=37, lon=235, method='nearest')"
   ]
  },
  {
   "cell_type": "code",
   "execution_count": 16,
   "metadata": {},
   "outputs": [
    {
     "data": {
      "text/plain": [
       "<xarray.DataArray 'skt' (time: 60, lat: 11, lon: 192)>\n",
       "[126720 values with dtype=float32]\n",
       "Coordinates:\n",
       "  * lat      (lat) float32 25.7139 27.6186 29.5234 31.4281 33.3328 35.2375 ...\n",
       "  * lon      (lon) float32 0.0 1.875 3.75 5.625 7.5 9.375 11.25 13.125 15.0 ...\n",
       "  * time     (time) datetime64[ns] 2010-01-01 2010-02-01 2010-03-01 ...\n",
       "Attributes:\n",
       "    long_name:             Monthly Mean of Forecast of SST/Land Skin Temperat...\n",
       "    valid_range:           [-32765  -1765]\n",
       "    unpacked_valid_range:  [ 120.  430.]\n",
       "    actual_range:          [ 190.85420227  314.58322144]\n",
       "    units:                 degK\n",
       "    precision:             2\n",
       "    GRIB_id:               11\n",
       "    GRIB_name:             TMP\n",
       "    var_desc:              Skin Temperature\n",
       "    dataset:               NCEP/DOE AMIP-II Reanalysis (Reanalysis-2) Monthly...\n",
       "    level_desc:            Surface\n",
       "    statistic:             Individual Obs\n",
       "    parent_stat:           Other\n",
       "    standard_name:         temperature\n",
       "    cell_methods:          time: mean (monthly of 6-hourly values)"
      ]
     },
     "execution_count": 16,
     "metadata": {},
     "output_type": "execute_result"
    }
   ],
   "source": [
    "# Select a slice of labels \n",
    "# Now, we don't need to include the method='nearest' command when slicing a range of lat/lon labels\n",
    "skt.sel(time=slice('2010-01','2014-12'), lat=slice(25,45))"
   ]
  },
  {
   "cell_type": "code",
   "execution_count": 17,
   "metadata": {},
   "outputs": [
    {
     "data": {
      "text/plain": [
       "<xarray.DataArray 'skt' (time: 60)>\n",
       "array([ 280.73999 ,  280.330017,  280.080017,  280.109985,  280.660004,\n",
       "        282.049988,  286.5     ,  289.48999 ,  290.27002 ,  285.119995,\n",
       "        282.470001,  281.529999,  280.669983,  280.690002,  280.429993,\n",
       "        280.649994,  281.399994,  282.910004,  288.039978,  292.220001,\n",
       "        288.539978,  285.640015,  284.27002 ,  283.220001,  281.570007,\n",
       "        281.160004,  280.589996,  280.369995,  281.      ,  281.919983,\n",
       "        286.299988,  288.339996,  288.880005,  285.059998,  283.429993,\n",
       "        282.099976,  281.      ,  280.869995,  280.52002 ,  281.209991,\n",
       "        283.089996,  284.109985,  287.02002 ,  289.419983,  288.959991,\n",
       "        287.700012,  285.859985,  284.619995,  283.190002,  281.789978,\n",
       "        281.089996,  281.179993,  281.399994,  283.649994,  285.720001,\n",
       "        288.119995,  289.459991,  287.179993,  283.899994,  282.029999], dtype=float32)\n",
       "Coordinates:\n",
       "    lat      float32 44.7611\n",
       "    lon      float32 200.625\n",
       "  * time     (time) datetime64[ns] 2010-01-01 2010-02-01 2010-03-01 ...\n",
       "Attributes:\n",
       "    long_name:             Monthly Mean of Forecast of SST/Land Skin Temperat...\n",
       "    valid_range:           [-32765  -1765]\n",
       "    unpacked_valid_range:  [ 120.  430.]\n",
       "    actual_range:          [ 190.85420227  314.58322144]\n",
       "    units:                 degK\n",
       "    precision:             2\n",
       "    GRIB_id:               11\n",
       "    GRIB_name:             TMP\n",
       "    var_desc:              Skin Temperature\n",
       "    dataset:               NCEP/DOE AMIP-II Reanalysis (Reanalysis-2) Monthly...\n",
       "    level_desc:            Surface\n",
       "    statistic:             Individual Obs\n",
       "    parent_stat:           Other\n",
       "    standard_name:         temperature\n",
       "    cell_methods:          time: mean (monthly of 6-hourly values)"
      ]
     },
     "execution_count": 17,
     "metadata": {},
     "output_type": "execute_result"
    }
   ],
   "source": [
    "# Select a slice of times and a single lat/lon \n",
    "# Need to do this in two selecting commands:\n",
    "ncfile['skt'].sel(time=slice('2010-01','2014-12')).sel(lat=45.1, lon=200.5, method='nearest')"
   ]
  },
  {
   "cell_type": "markdown",
   "metadata": {},
   "source": [
    "---\n",
    "<span style=\"color:red; font-size:20px; font-weight:bold\">In-class exercise</span>\n",
    "\n",
    "1. Subset 2000-2005 skin temperature at the grid cell nearest to Seattle, WA (47.6 N, 237.7 E).\n",
    "2. Subset November 1999 skin temperature for latitude nearest to 35 degrees N and all longitudes. \n",
    "3. Subset 2015-2017 skin temperature for latitudes within 10-20 degrees N and longitude 90-130 degrees E. \n",
    "---"
   ]
  },
  {
   "cell_type": "markdown",
   "metadata": {},
   "source": [
    "### Simple xarray plotting\n",
    "\n",
    "xarray also has simple, yet powerful, [plotting capabilities](https://xarray.pydata.org/en/stable/plotting.html) build on top of matplotlib. \n",
    "\n",
    "Now we get to play around with [colormaps](https://matplotlib.org/examples/color/colormaps_reference.html)."
   ]
  },
  {
   "cell_type": "code",
   "execution_count": 19,
   "metadata": {},
   "outputs": [
    {
     "data": {
      "text/plain": [
       "<matplotlib.collections.QuadMesh at 0x117893470>"
      ]
     },
     "execution_count": 19,
     "metadata": {},
     "output_type": "execute_result"
    },
    {
     "data": {
      "image/png": "[encoded data removed]",
      "text/plain": [
       "<matplotlib.figure.Figure at 0x110d25cf8>"
      ]
     },
     "metadata": {},
     "output_type": "display_data"
    }
   ],
   "source": [
    "# Skin temperature map on 2000-06-01\n",
    "skt.sel(time='2000-06-01').plot(cmap='jet')"
   ]
  },
  {
   "cell_type": "markdown",
   "metadata": {},
   "source": [
    "<span style=\"color:red; font-size:20px; font-weight:bold\">In-class exercise</span>\n",
    "\n",
    "Extract skin temperature on August 2010 and make a global map of it."
   ]
  },
  {
   "cell_type": "markdown",
   "metadata": {},
   "source": [
    "### Simple Statistics\n",
    "\n",
    "Like Pandas, we can quickly compute the mean, min, max, standard deviation, etc:"
   ]
  },
  {
   "cell_type": "code",
   "execution_count": 39,
   "metadata": {},
   "outputs": [
    {
     "data": {
      "text/plain": [
       "<xarray.DataArray 'skt' ()>\n",
       "array(270.17999267578125)\n",
       "Coordinates:\n",
       "    lat      float32 46.6658\n",
       "    lon      float32 238.125"
      ]
     },
     "execution_count": 39,
     "metadata": {},
     "output_type": "execute_result"
    }
   ],
   "source": [
    "# Average across all dimensions (empty parentheses)\n",
    "skt.mean()\n",
    "\n",
    "# Average across a specific dimension: .mean(dim=['name of dimension'])\n",
    "skt.mean(dim='time')\n",
    "\n",
    "# Maximums across the lat and lon dimensions\n",
    "skt.max(dim='lat').max(dim='lon')\n",
    "\n",
    "# Minimum across the entire time series for a subsetted location (Seattle)\n",
    "skt.sel(lat=47.6, lon=237.7, method='nearest').min(dim='time')"
   ]
  },
  {
   "cell_type": "markdown",
   "metadata": {},
   "source": [
    "<span style=\"color:red; font-size:20px; font-weight:bold\">In-class exercise</span>\n",
    "\n",
    "Compute the maximum monthly temperature during the entire time series for the grid cell nearest to San Francisco (37.8 N, 237.6 E).\n",
    "\n",
    "Bonus: convert the value from degrees K to degrees Fahrenheit."
   ]
  },
  {
   "cell_type": "markdown",
   "metadata": {},
   "source": [
    "### Resampling to a new temporal frequency\n",
    "\n",
    "Just like Pandas, we can use the `resample` command to quickly translate monthly data to annual data, for example. "
   ]
  },
  {
   "cell_type": "code",
   "execution_count": 42,
   "metadata": {},
   "outputs": [
    {
     "data": {
      "text/plain": [
       "<xarray.DataArray 'skt' (time: 20, lat: 94, lon: 192)>\n",
       "array([[[ 229.554993,  229.385849, ...,  229.896667,  229.72583 ],\n",
       "        [ 231.493347,  231.104172, ...,  232.280823,  231.886673],\n",
       "        ..., \n",
       "        [ 256.226624,  255.869156, ...,  256.215851,  256.2258  ],\n",
       "        [ 255.885864,  255.646667, ...,  255.669998,  255.669174]],\n",
       "\n",
       "       [[ 229.291687,  229.111679, ...,  229.645828,  229.467484],\n",
       "        [ 231.484146,  231.09082 , ...,  232.268356,  231.875839],\n",
       "        ..., \n",
       "        [ 257.089996,  257.004181, ...,  257.009979,  257.053314],\n",
       "        [ 256.615021,  256.749176, ...,  256.729156,  256.415802]],\n",
       "\n",
       "       ..., \n",
       "       [[ 230.455856,  230.307495, ...,  230.748337,  230.601669],\n",
       "        [ 232.018356,  231.640823, ...,  232.786682,  232.397507],\n",
       "        ..., \n",
       "        [ 259.7883  ,  259.863373, ...,  259.60498 ,  259.659119],\n",
       "        [ 259.640839,  259.742493, ...,  259.706665,  259.630005]],\n",
       "\n",
       "       [[ 228.914993,  228.73584 , ...,  229.277512,  229.095825],\n",
       "        [ 230.442505,  230.03334 , ...,  231.24501 ,  230.846634],\n",
       "        ..., \n",
       "        [ 258.961639,  259.007477, ...,  258.819977,  258.833344],\n",
       "        [ 258.894989,  259.02832 , ...,  259.007477,  258.889984]]], dtype=float32)\n",
       "Coordinates:\n",
       "  * time     (time) datetime64[ns] 1998-01-01 1999-01-01 2000-01-01 ...\n",
       "  * lat      (lat) float32 -88.542 -86.6531 -84.7532 -82.8508 -80.9473 ...\n",
       "  * lon      (lon) float32 0.0 1.875 3.75 5.625 7.5 9.375 11.25 13.125 15.0 ..."
      ]
     },
     "execution_count": 42,
     "metadata": {},
     "output_type": "execute_result"
    }
   ],
   "source": [
    "# Resample monthly to annual data and compute annual-means\n",
    "skt.resample(time='AS').mean(dim='time')"
   ]
  },
  {
   "cell_type": "markdown",
   "metadata": {},
   "source": [
    "<span style=\"color:red; font-size:20px; font-weight:bold\">In-class exercise</span>\n",
    "\n",
    "* Resample `skt` from monthly to annual frequency and compute the maximum annual temperatures for each grid cell.\n",
    "* Slice out the maximum annual temperature for 2015 and make a global map of it"
   ]
  },
  {
   "cell_type": "markdown",
   "metadata": {},
   "source": [
    "### Groupby \n",
    "\n",
    "`groupby` is similar to `resample`, but is even more flexible and powerful. It offers us a way to quickly generate monthly and seasonal statistics."
   ]
  },
  {
   "cell_type": "code",
   "execution_count": 28,
   "metadata": {},
   "outputs": [
    {
     "name": "stdout",
     "output_type": "stream",
     "text": [
      "<xarray.DataArray 'skt' (lat: 94, lon: 192)>\n",
      "array([[ 226.888504,  226.706497,  226.522003, ...,  227.440018,  227.256516,\n",
      "         227.070999],\n",
      "       [ 228.761475,  228.279495,  227.807007, ...,  230.201981,  229.726974,\n",
      "         229.244507],\n",
      "       [ 229.949493,  229.25351 ,  228.554474, ...,  231.986496,  231.313995,\n",
      "         230.636475],\n",
      "       ..., \n",
      "       [ 256.445526,  256.648987,  256.735992, ...,  255.913498,  256.139008,\n",
      "         256.364014],\n",
      "       [ 256.548523,  256.567474,  256.601013, ...,  256.153992,  256.19101 ,\n",
      "         256.340515],\n",
      "       [ 256.434479,  256.606995,  256.613983, ...,  256.534973,  256.58551 ,\n",
      "         256.346985]], dtype=float32)\n",
      "Coordinates:\n",
      "  * lat      (lat) float32 -88.542 -86.6531 -84.7532 -82.8508 -80.9473 ...\n",
      "  * lon      (lon) float32 0.0 1.875 3.75 5.625 7.5 9.375 11.25 13.125 15.0 ...\n",
      "    month    int64 10\n"
     ]
    }
   ],
   "source": [
    "# Monthly climatologies\n",
    "monthly_means = skt.groupby('time.month').mean(dim='time')\n",
    "# print(monthly_means)\n",
    "\n",
    "# Extract July and October climatologies \n",
    "# Note: Month integers start at 1 not zero when using groupby\n",
    "skt_july_clim = monthly_means.sel(month=7) \n",
    "skt_oct_clim = monthly_means.sel(month=10)\n",
    "print(skt_oct_clim)"
   ]
  },
  {
   "cell_type": "code",
   "execution_count": 29,
   "metadata": {},
   "outputs": [
    {
     "name": "stdout",
     "output_type": "stream",
     "text": [
      "<xarray.DataArray 'skt' (season: 4, lat: 94, lon: 192)>\n",
      "array([[[ 240.672363,  240.536636, ...,  240.948807,  240.809677],\n",
      "        [ 242.376465,  242.044327, ...,  243.048508,  242.710693],\n",
      "        ..., \n",
      "        [ 246.949799,  247.030823, ...,  246.83316 ,  246.947723],\n",
      "        [ 246.211212,  246.405182, ...,  246.361679,  246.160324]],\n",
      "\n",
      "       [[ 222.361069,  222.170639, ...,  222.737778,  222.5495  ],\n",
      "        [ 224.456146,  224.025146, ...,  225.316833,  224.88649 ],\n",
      "        ..., \n",
      "        [ 271.580139,  271.600494, ...,  271.562012,  271.579834],\n",
      "        [ 271.607971,  271.669312, ...,  271.65799 ,  271.604492]],\n",
      "\n",
      "       [[ 224.402328,  224.190979, ...,  224.822296,  224.613907],\n",
      "        [ 226.701553,  226.214661, ...,  227.667023,  227.187103],\n",
      "        ..., \n",
      "        [ 254.231796,  254.262497, ...,  254.168854,  254.254654],\n",
      "        [ 254.040985,  254.142868, ...,  254.114838,  254.016632]],\n",
      "\n",
      "       [[ 228.644669,  228.473846, ...,  228.987793,  228.815536],\n",
      "        [ 230.367981,  229.931488, ...,  231.239349,  230.80368 ],\n",
      "        ..., \n",
      "        [ 257.095062,  257.135345, ...,  256.813141,  256.932983],\n",
      "        [ 256.710541,  256.933014, ...,  256.915466,  256.640533]]], dtype=float32)\n",
      "Coordinates:\n",
      "  * lat      (lat) float32 -88.542 -86.6531 -84.7532 -82.8508 -80.9473 ...\n",
      "  * lon      (lon) float32 0.0 1.875 3.75 5.625 7.5 9.375 11.25 13.125 15.0 ...\n",
      "  * season   (season) object 'DJF' 'JJA' 'MAM' 'SON'\n"
     ]
    }
   ],
   "source": [
    "# Seasonal means\n",
    "# Note the *new dimension* called season (came from old dimension of time)\n",
    "seasonal_means = skt.groupby('time.season').mean(dim='time')\n",
    "print(seasonal_means)"
   ]
  },
  {
   "cell_type": "code",
   "execution_count": 30,
   "metadata": {},
   "outputs": [
    {
     "name": "stdout",
     "output_type": "stream",
     "text": [
      "<xarray.DataArray 'skt' (lat: 94, lon: 192)>\n",
      "array([[ 240.672363,  240.536636,  240.401367, ...,  241.087173,  240.948807,\n",
      "         240.809677],\n",
      "       [ 242.376465,  242.044327,  241.718811, ...,  243.389633,  243.048508,\n",
      "         242.710693],\n",
      "       [ 243.3871  ,  242.873016,  242.365021, ...,  244.954803,  244.434357,\n",
      "         243.909866],\n",
      "       ..., \n",
      "       [ 247.480667,  247.669815,  247.819351, ...,  247.014496,  247.131302,\n",
      "         247.340393],\n",
      "       [ 246.949799,  247.030823,  247.12944 , ...,  246.711472,  246.83316 ,\n",
      "         246.947723],\n",
      "       [ 246.211212,  246.405182,  246.39035 , ...,  246.304855,  246.361679,\n",
      "         246.160324]], dtype=float32)\n",
      "Coordinates:\n",
      "  * lat      (lat) float32 -88.542 -86.6531 -84.7532 -82.8508 -80.9473 ...\n",
      "  * lon      (lon) float32 0.0 1.875 3.75 5.625 7.5 9.375 11.25 13.125 15.0 ...\n",
      "    season   <U3 'DJF'\n"
     ]
    }
   ],
   "source": [
    "# Extracting a single season\n",
    "skt_djf = seasonal_means.sel(season='DJF')\n",
    "print(skt_djf)"
   ]
  },
  {
   "cell_type": "code",
   "execution_count": 31,
   "metadata": {},
   "outputs": [
    {
     "data": {
      "text/plain": [
       "<xarray.plot.facetgrid.FacetGrid at 0x326764588>"
      ]
     },
     "execution_count": 31,
     "metadata": {},
     "output_type": "execute_result"
    },
    {
     "data": {
      "image/png": "[encoded data removed]",
      "text/plain": [
       "<matplotlib.figure.Figure at 0x326764b00>"
      ]
     },
     "metadata": {},
     "output_type": "display_data"
    }
   ],
   "source": [
    "# Easy to plot the 4 seasons using simple xarray plotting function with wrapped columns\n",
    "seasonal_means.plot(cmap='jet', col='season', col_wrap=2)"
   ]
  },
  {
   "cell_type": "markdown",
   "metadata": {},
   "source": [
    "<span style=\"color:red; font-size:20px; font-weight:bold\">In-class exercise</span>\n",
    "\n",
    "* Slice out 2001-2010 data from the entire timeseries\n",
    "* Compute the seasonal-mean temperature during that 10-year span\n",
    "* Create a 4-panel plot of seasonal-mean temperature"
   ]
  },
  {
   "cell_type": "code",
   "execution_count": null,
   "metadata": {},
   "outputs": [],
   "source": []
  }
 ],
 "metadata": {
  "kernelspec": {
   "display_name": "Python 3",
   "language": "python",
   "name": "python3"
  },
  "language_info": {
   "codemirror_mode": {
    "name": "ipython",
    "version": 3
   },
   "file_extension": ".py",
   "mimetype": "text/x-python",
   "name": "python",
   "nbconvert_exporter": "python",
   "pygments_lexer": "ipython3",
   "version": "3.5.4"
  }
 },
 "nbformat": 4,
 "nbformat_minor": 2
}
