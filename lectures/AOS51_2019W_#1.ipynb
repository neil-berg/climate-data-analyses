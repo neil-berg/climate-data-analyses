{
 "cells": [
  {
   "cell_type": "markdown",
   "metadata": {},
   "source": [
    "# <span style=\"text-decoration: underline\">AOS 51 Lab: Data Analysis for Climate Science</span>\n",
    "# <span>🌎🔥 👩🏿‍💻👩🏾‍💻 👨🏽‍💻👩🏼‍💻 👨🏼‍💻👨🏾‍💻👩🏽‍💻 👨🏿‍💻</span>\n",
    "---\n",
    "\n",
    "## Course Overview\n",
    "\n",
    "**Instructor**: Dr. Neil Berg (Email: nberg@ioes.ucla.edu, Twitter: @Neil_UCLAClim)\n",
    "\n",
    "**Structure**: Four 2-hour computer labs with in-class exercises (ungraded) and a final take-home assignment (graded)\n",
    "\n",
    "**Objectives:**\n",
    "   * Learn the Python programming language for analyzing and visualizing climate data\n",
    "   * Have fun, gain confidence in coding, apply skills to further AOS classes and beyond \n",
    "\n",
    "---\n",
    "   \n",
    "## Tips for Success  <span>🙌 </span>\n",
    "\n",
    "**1. Persistence **\n",
    "* It always takes several iterations to learn new aspects of a computer language. Don't worry if things aren't clicking immediaetly. Stay positive and practice coding as much as you can. \n",
    "\n",
    "** 2. Doing >>> listening/reading/copying **\n",
    "* We'll be *doing* a lot of coding in this class, which is much more helpful than simply looking at my code and hearing me talk about it!\n",
    "\n",
    "** 3. Ask questions **\n",
    "* I gaurantee you aren't the only one with them :)\n",
    "* Also, google anything and everything. Stackoverflow.com is your best friend for coding questions. I use it all the time. \n",
    "\n",
    "---\n",
    "\n",
    "## Why Python? <span>🐍</span>\n",
    "\n",
    "Python, R, Julia, Matlab, and many other languages are popular in climate science. So, why are we using Python in this lab? \n",
    "\n",
    "Like many other languags, Python:\n",
    "\n",
    "* Has robust mathetmatical and statistical packages\n",
    "* Has seamless interface with [netCDF](https://www.unidata.ucar.edu/software/netcdf/) data\n",
    "* Has great plotting packages for professional-quality figures\n",
    "* Has a large and friendly [user-community](http://pyaos.johnny-lin.com/) \n",
    "\n",
    "Unlike many other languages, Python:\n",
    "\n",
    "* Is the [most popular of the core climate-data languages](https://insights.stackoverflow.com/survey/2018/#most-popular-technologies)\n",
    "* Is the [fasting growing major programming language](https://stackoverflow.blog/2017/09/06/incredible-growth-python/)\n",
    "* Forces you to write clean code\n",
    "* Stresses *readability* by humans, not computers\n",
    "* Is named after [Monty Python](https://en.wikipedia.org/wiki/Monty_Python)\n",
    "* Is used for data analytics in major tech companies and government/scientific organizations:\n",
    "    * Google, Instagram, Spotify, Reddit, Etsy, WebMD, YouTube, Dropbox, and so many more\n",
    "    * NOAA, NASA, EPA, USGS, CIA\n",
    "---\n",
    "## What is Jupyter Notebook?\n",
    "\n",
    "Born out of [Project Jupyter](http://jupyter.org/), Jupyter is a web-based tool for writing Python code and Markdown text in the same place. \n",
    "\n",
    "There are two writing modes to toggle between:\n",
    "\n",
    "1. Python code (\"Code\" in the drop down menu)\n",
    "2. [Markdown](https://github.com/adam-p/markdown-here/wiki/Markdown-Cheatsheet#emphasis) text (\"Markdown\" in the drop down menu)\n",
    "\n",
    "Each piece of code or Markdown text is entered in new cells. \n",
    "\n",
    "New cells are created by clicking on the \"+\" icon near the top of this window.\n",
    "\n",
    "Cells are executed by hitting \"return + shift\", or go to the Run tab and select \"Run Selected Cells\".\n",
    "\n",
    "---"
   ]
  },
  {
   "cell_type": "markdown",
   "metadata": {},
   "source": [
    "<span style=\"color:red; font-size:20px; font-weight:bold\">In-class exercise</span>\n",
    " - Create a new cell beneath this one\n",
    " - Select \"Markdown\" from the dropdown menu\n",
    " - Type your full name in the cell\n",
    " - Run the cell with \"return + shift\"\n",
    " \n",
    " Bonus: Place three hashtags (#) and then a space before your name to display as a level-3 header!"
   ]
  },
  {
   "cell_type": "markdown",
   "metadata": {},
   "source": [
    "## Neil Berg"
   ]
  },
  {
   "cell_type": "markdown",
   "metadata": {},
   "source": [
    "## Our first Python code <span>👋🌏</span>"
   ]
  },
  {
   "cell_type": "markdown",
   "metadata": {},
   "source": [
    "Traditionally, the first piece of code to write when learning a new language is \"Hello, World\".\n",
    "\n",
    "We can do that by using the `print()` command to display the string (i.e. words and sentences) \"Hello, World\":"
   ]
  },
  {
   "cell_type": "code",
   "execution_count": 11,
   "metadata": {},
   "outputs": [
    {
     "name": "stdout",
     "output_type": "stream",
     "text": [
      "Hello, World\n"
     ]
    }
   ],
   "source": [
    "# Comments in Python are created with the hashtag\n",
    "# You can write anything in them and they won't be interpreted as code\n",
    "\n",
    "print(\"Hello, World\")"
   ]
  },
  {
   "cell_type": "markdown",
   "metadata": {},
   "source": [
    "---\n",
    "<span style=\"color:red; font-size:20px; font-weight:bold\">In-class exercise </span>\n",
    "\n",
    "Print the string \"Can we start working with data already?!\"\n",
    "\n",
    "Instructions:\n",
    "\n",
    "1. Create a new cell beneath this one and make sure you're in \"code\" mode. \n",
    "2. Use the `print()` command to pring the string. \n",
    "   * Note: you can use single or double quotes. They're equivalent and up to the coder, just be consistent!\n",
    "---"
   ]
  },
  {
   "cell_type": "code",
   "execution_count": 1,
   "metadata": {},
   "outputs": [
    {
     "name": "stdout",
     "output_type": "stream",
     "text": [
      "Can we start working with data already?\n"
     ]
    }
   ],
   "source": [
    "print('Can we start working with data already?')"
   ]
  },
  {
   "cell_type": "markdown",
   "metadata": {},
   "source": [
    "## Data analysis in Python\n",
    "\n",
    "Now that we've finished our first line of Python code, let's jump a few lightyears ahead into data analysis.\n",
    "\n",
    "First, we need to understand what a *list* is and what a NumPy *array* is. \n",
    "\n",
    "[NumPy](http://www.numpy.org/) stands for Numerical Python, which is a fundamental package for scientific programming in Python. "
   ]
  },
  {
   "cell_type": "markdown",
   "metadata": {},
   "source": [
    "## Lists\n",
    "\n",
    "Data in Python can be stored in \"lists\". They're simply a collection of data points separated by a comma and surrounded by square brackets:"
   ]
  },
  {
   "cell_type": "code",
   "execution_count": 2,
   "metadata": {},
   "outputs": [
    {
     "name": "stdout",
     "output_type": "stream",
     "text": [
      "[1, 3, 5, 7, 9]\n"
     ]
    }
   ],
   "source": [
    "# Left hand side of = is the variable name (\"data\")\n",
    "# Right hand side of = is the value of the variable (a list storing 1, 3, 5, 7, 9)\n",
    "data = [1, 3, 5, 7, 9]\n",
    "print(data)"
   ]
  },
  {
   "cell_type": "markdown",
   "metadata": {},
   "source": [
    "<span style=\"color:red; font-size:20px; font-weight:bold\">In-class exercise</span>\n",
    "- Create a new cell beneath this one\n",
    "- Select \"Code\" from the dropdown menu\n",
    "- Create a new list named `temperature` that stores the values 55.8, 75.9, and 81.3"
   ]
  },
  {
   "cell_type": "code",
   "execution_count": 5,
   "metadata": {},
   "outputs": [
    {
     "name": "stdout",
     "output_type": "stream",
     "text": [
      "[55.8, 75.9, 81.3, 55.8, 75.9, 81.3, 55.8, 75.9, 81.3, 55.8, 75.9, 81.3, 55.8, 75.9, 81.3, 55.8, 75.9, 81.3, 55.8, 75.9, 81.3, 55.8, 75.9, 81.3, 55.8, 75.9, 81.3, 55.8, 75.9, 81.3]\n"
     ]
    }
   ],
   "source": [
    "temperature = [55.8, 75.9, 81.3]"
   ]
  },
  {
   "cell_type": "markdown",
   "metadata": {},
   "source": [
    "## Arrays"
   ]
  },
  {
   "cell_type": "markdown",
   "metadata": {},
   "source": [
    "List have a major limitation...you can't do arithmetic on them! "
   ]
  },
  {
   "cell_type": "code",
   "execution_count": 13,
   "metadata": {},
   "outputs": [
    {
     "ename": "TypeError",
     "evalue": "can only concatenate list (not \"int\") to list",
     "output_type": "error",
     "traceback": [
      "\u001b[0;31m---------------------------------------------------------------------------\u001b[0m",
      "\u001b[0;31mTypeError\u001b[0m                                 Traceback (most recent call last)",
      "\u001b[0;32m<ipython-input-13-db584df59822>\u001b[0m in \u001b[0;36m<module>\u001b[0;34m()\u001b[0m\n\u001b[0;32m----> 1\u001b[0;31m \u001b[0mprint\u001b[0m\u001b[0;34m(\u001b[0m\u001b[0mdata\u001b[0m \u001b[0;34m+\u001b[0m \u001b[0;36m5\u001b[0m\u001b[0;34m)\u001b[0m\u001b[0;34m\u001b[0m\u001b[0m\n\u001b[0m",
      "\u001b[0;31mTypeError\u001b[0m: can only concatenate list (not \"int\") to list"
     ]
    }
   ],
   "source": [
    "print(data + 5)"
   ]
  },
  {
   "cell_type": "markdown",
   "metadata": {},
   "source": [
    "So, most often, we'll need to work with \"arrays\" of data, rather than lists of data. For that, we need to enter the wonderful world of Numpy. "
   ]
  },
  {
   "cell_type": "markdown",
   "metadata": {},
   "source": [
    "## Numpy\n",
    "\n",
    "Numpy, like all packages in Python, needs to be imported to access all of its tools.\n",
    "\n",
    "Let's import numpy and rename the package to \"np\", which is done by convention. "
   ]
  },
  {
   "cell_type": "code",
   "execution_count": 6,
   "metadata": {},
   "outputs": [],
   "source": [
    "# We need to import the numpy and scipy packages\n",
    "# By convention, numpy is renamed to \"np\" after it is imported\n",
    "\n",
    "# Packages only need to be imported once\n",
    "\n",
    "import numpy as np"
   ]
  },
  {
   "cell_type": "markdown",
   "metadata": {},
   "source": [
    "The fundamental data structure of numpy is an `array`. \n",
    "\n",
    "Numpy arrays are created by placing a list inside the `np.array()` command. \n",
    "\n",
    "For example:"
   ]
  },
  {
   "cell_type": "code",
   "execution_count": 7,
   "metadata": {},
   "outputs": [
    {
     "name": "stdout",
     "output_type": "stream",
     "text": [
      "[1 3 5 7 9]\n",
      "<class 'numpy.ndarray'>\n"
     ]
    }
   ],
   "source": [
    "# Creating an array of 5 elements and assign it to the variable \"sample_array\"\n",
    "sample_array = np.array([1,3,5,7,9])\n",
    "print(sample_array)\n",
    "print(type(sample_array)) # confirm that we are working with a numpy array"
   ]
  },
  {
   "cell_type": "markdown",
   "metadata": {},
   "source": [
    "### Array arithmetic\n",
    "\n",
    "Arithmetic on numpy arrays is simple! We can add, subtract, multiple, or divide each element using:\n",
    "\n",
    "* `+` for addition\n",
    "* `-` for subtraction\n",
    "* `*` for multiplication\n",
    "* `/` for division"
   ]
  },
  {
   "cell_type": "code",
   "execution_count": 8,
   "metadata": {},
   "outputs": [
    {
     "name": "stdout",
     "output_type": "stream",
     "text": [
      "[11 13 15 17 19]\n"
     ]
    }
   ],
   "source": [
    "print(sample_array + 10)"
   ]
  },
  {
   "cell_type": "code",
   "execution_count": 17,
   "metadata": {},
   "outputs": [
    {
     "name": "stdout",
     "output_type": "stream",
     "text": [
      "[  1.72   5.16   8.6   12.04  15.48]\n"
     ]
    }
   ],
   "source": [
    "print(sample_array * 1.72)"
   ]
  },
  {
   "cell_type": "code",
   "execution_count": 18,
   "metadata": {},
   "outputs": [
    {
     "name": "stdout",
     "output_type": "stream",
     "text": [
      "[-7.6 -6.8 -6.  -5.2 -4.4]\n"
     ]
    }
   ],
   "source": [
    "print((sample_array - 20) / 2.5)"
   ]
  },
  {
   "cell_type": "markdown",
   "metadata": {},
   "source": [
    "Numpy has built-in functions for locating the min, max, mean, and standard deviation of arrays too:"
   ]
  },
  {
   "cell_type": "code",
   "execution_count": 19,
   "metadata": {},
   "outputs": [
    {
     "name": "stdout",
     "output_type": "stream",
     "text": [
      "1 9 5.0 2.82842712475\n"
     ]
    }
   ],
   "source": [
    "print(sample_array.min(), sample_array.max(), sample_array.mean(), sample_array.std())"
   ]
  },
  {
   "cell_type": "markdown",
   "metadata": {},
   "source": [
    "---\n",
    "<span style=\"color:red; font-size:20px; font-weight:bold\">In-class exercise</span>\n",
    "\n",
    "Below is a table of monthly average temperatures for downtown Los Angeles. (Seriously, could we live in a nicer city?!) \n",
    "\n",
    "| Month | Temp (F)|\n",
    "|---|---|\n",
    "|January|58.0|\n",
    "|February|58.9|\n",
    "|March|60.6|\n",
    "|April|63.1|\n",
    "|May|65.8|\n",
    "|June|69.2|\n",
    "|July|73.3|\n",
    "|August|74.3|\n",
    "|September|73.1|\n",
    "|October|68.6|\n",
    "|November|62.4|\n",
    "|December|57.6|\n",
    "\n",
    "Instructions:\n",
    "1. Create a new numpy array called `temp` that stores monthly average temperatures in LA.\n",
    "2. Calculate the average monthly temperature and print the result. \n",
    "3. Create a new array called `temp_C` that contains the monthly values converted from Fahrenheit to Celsius.\n",
    "    * Note: T_C = (T_F - 32) * (5/9)\n",
    "4. Calculate the maximum temperature in units degrees C and print the results. \n",
    "\n",
    "---"
   ]
  },
  {
   "cell_type": "code",
   "execution_count": 11,
   "metadata": {},
   "outputs": [
    {
     "name": "stdout",
     "output_type": "stream",
     "text": [
      "65.4083333333\n",
      "[ 14.44444444  14.94444444  15.88888889  17.27777778  18.77777778\n",
      "  20.66666667  22.94444444  23.5         22.83333333  20.33333333\n",
      "  16.88888889  14.22222222]\n"
     ]
    }
   ],
   "source": [
    "temp = np.array([58.0, 58.9, 60.6, 63.1, 65.8, 69.2, 73.3, 74.3, 73.1, 68.6, 62.4, 57.6])\n",
    "print(temp.mean())\n",
    "temp_C = (temp - 32) * (5/9)\n",
    "print(temp_C)"
   ]
  },
  {
   "cell_type": "markdown",
   "metadata": {},
   "source": [
    "# Matplotlib <span>📊 📈 📉</span>\n",
    "\n",
    "Now that we know how to create arrays of climate data, let's now visualize them.\n",
    "\n",
    "Matplotlib is Python's core plotting package and used to create a [crazy amount of cool plots](https://matplotlib.org/gallery/index.html).\n",
    "\n",
    "Today, we'll learn how to make:\n",
    "* line plots\n",
    "* scatter plots"
   ]
  },
  {
   "cell_type": "markdown",
   "metadata": {},
   "source": [
    "### Importing Matplotlib\n",
    "\n",
    "We need to import Matplotlib to access all of its tools. Actually, we'll just import the `pyplot` module of Matplotlib, and then rename it to `plt`:"
   ]
  },
  {
   "cell_type": "code",
   "execution_count": 12,
   "metadata": {},
   "outputs": [],
   "source": [
    "import matplotlib.pyplot as plt"
   ]
  },
  {
   "cell_type": "markdown",
   "metadata": {},
   "source": [
    "### Line and scatter plots\n",
    "\n",
    "The general syntax is:\n",
    "\n",
    "Line plot: `plt.plot(x, y, [additional arguments])`\n",
    "\n",
    "Scatter plot: `plt.scatter(x, y, [additional arguments])`\n",
    "\n",
    "where `x` = data on the x-axis and `y` = data on the y-axis.\n",
    "\n",
    "Let's demonstrate with examples and exercises:"
   ]
  },
  {
   "cell_type": "code",
   "execution_count": 22,
   "metadata": {},
   "outputs": [
    {
     "data": {
      "image/png": "[encoded data removed]",
      "text/plain": [
       "<matplotlib.figure.Figure at 0x10c73bbe0>"
      ]
     },
     "metadata": {},
     "output_type": "display_data"
    }
   ],
   "source": [
    "# Line plot of monthly average temperatures over LA\n",
    "# x = months, y = temperature (already created above, called \"temp\")\n",
    "\n",
    "months = [1, 2, 3, 4, 5, 6, 7, 8, 9, 10, 11, 12]\n",
    "\n",
    "plt.plot(months, temp, color='dodgerblue')\n",
    "plt.xlabel('Month')\n",
    "plt.ylabel('Temperature (degrees F)')\n",
    "plt.title('Monthly avg temperature over LA')\n",
    "plt.show()"
   ]
  },
  {
   "cell_type": "markdown",
   "metadata": {},
   "source": [
    "---\n",
    "<span style=\"color:red; font-size:20px; font-weight:bold\">In-class exercise</span>\n",
    "\n",
    "Below is a table showing the last 10 years of California precipitation. \n",
    "\n",
    "| Year | Pr (inches)\n",
    "|---|---|---|\n",
    "|2008| 17.85|\n",
    "|2009| 17.05|\n",
    "|2010| 31.18|\n",
    "|2011| 18.79|\n",
    "|2012| 23.45|\n",
    "|2013| 7.93|\n",
    "|2014| 19.90|\n",
    "|2015| 15.05|\n",
    "|2016| 25.73|\n",
    "|2017| 27.65|\n",
    "\n",
    "Instructions:\n",
    "1. Create a new cell beneath this one and make sure you are in \"code\" mode. \n",
    "2. Create a list or array called `pr` storing the precipitation values. \n",
    "3. Create a list or array called `years` storing a range of years 2008-2017.\n",
    "4. Create a line chart plotting years (x-axis) and precipitation (y-axis). \n",
    "5. Add a y-axis label and a plot title.\n",
    "---"
   ]
  },
  {
   "cell_type": "code",
   "execution_count": 14,
   "metadata": {},
   "outputs": [
    {
     "data": {
      "image/png": "[encoded data removed]",
      "text/plain": [
       "<matplotlib.figure.Figure at 0x105110b38>"
      ]
     },
     "metadata": {},
     "output_type": "display_data"
    }
   ],
   "source": [
    "pr = [17.95, 17.05, 31.18, 18.79, 23.45, 7.93, 19.90, 15.05, 25.73, 27.65]\n",
    "years = [2008, 2009, 2010, 2011, 2012, 2013, 2014, 2015, 2016, 2017]\n",
    "\n",
    "plt.plot(years, pr, color='orchid')\n",
    "plt.show()"
   ]
  },
  {
   "cell_type": "markdown",
   "metadata": {},
   "source": [
    "---\n",
    "<span style=\"color:red; font-size:20px; font-weight:bold\">In-class exercise</span>\n",
    "\n",
    "Create a scatter plot of the following 10-years of California average and maximum temperature. \n",
    "\n",
    "| Year | Tavg (F) | Tmax (F)|\n",
    "|---|---|---|\n",
    "|2008| 58.9|71.9|\n",
    "|2009| 58.8|71.7|\n",
    "|2010| 57.7|69.8|\n",
    "|2011| 57.4|70.0|\n",
    "|2012| 59.5|72.5|\n",
    "|2013| 59.3|72.6|\n",
    "|2014| 61.4|74.2|\n",
    "|2015| 60.8|73.4|\n",
    "|2016| 60.1|72.5|\n",
    "|2017| 60.3|72.7|\n",
    "\n",
    "Instructions:\n",
    "\n",
    "1. Create lists or arrays called `tavg` and `tmax` that store the average and maximum temperatures above. \n",
    "2. With `tavg` on the x-axis and `tmax` on the y-axis, create a scatter plot.\n",
    "3. Label the axes and give the plot a title. \n",
    "---"
   ]
  },
  {
   "cell_type": "markdown",
   "metadata": {},
   "source": [
    "# Pandas <span>🐼</span>\n",
    "\n",
    "Wouldn't it be nice to attach index labels (like month, year, etc.) to the arrays that we created with numpy? \n",
    "\n",
    "[Pandas](https://pandas.pydata.org/) is another core data analysis package in Python that allows us to do just that. \n",
    "\n",
    "Let's demonstrate the power of Pandas with a simple example below."
   ]
  },
  {
   "cell_type": "code",
   "execution_count": 18,
   "metadata": {},
   "outputs": [
    {
     "name": "stdout",
     "output_type": "stream",
     "text": [
      "0    58.9\n",
      "1    58.8\n",
      "2    57.7\n",
      "3    57.4\n",
      "4    59.5\n",
      "5    59.3\n",
      "6    61.4\n",
      "7    60.8\n",
      "8    60.1\n",
      "9    60.3\n",
      "dtype: float64\n"
     ]
    }
   ],
   "source": [
    "# We import the \"pandas\" package and rename is as \"pd\"\n",
    "import pandas as pd\n",
    "\n",
    "# List of 2008-2017 CA average temperature\n",
    "tavg_list = [58.9, 58.8, 57.7, 57.4, 59.5, 59.3, 61.4, 60.8, 60.1, 60.3]\n",
    "\n",
    "\n",
    "# Numpy array of 2008-2017 CA average temperature\n",
    "tavg_array = np.array([58.9, 58.8, 57.7, 57.4, 59.5, 59.3, 61.4, 60.8, 60.1, 60.3])\n",
    "\n",
    "# Pandas Series of 2008-2017 CA average temperature\n",
    "tavg_series = pd.Series([58.9, 58.8, 57.7, 57.4, 59.5, 59.3, 61.4, 60.8, 60.1, 60.3])\n",
    "\n",
    "# Print the time series\n",
    "print(tavg_series)"
   ]
  },
  {
   "cell_type": "markdown",
   "metadata": {},
   "source": [
    "What the heck is the 0,1,2...7 doing there? And what's `dtype: float64`?\n",
    "\n",
    "** Indexing values **\n",
    "\n",
    "Pandas Series include both **values** and corresponding **indices** of each value like a 2-column table. \n",
    "\n",
    "<span \"style=color:white;background:purple;padding:5px\">Note!! Python, like most languages, starts counting at 0 not 1.</span>\n",
    "\n",
    "So, 50.5 has an index of 0, 55.3 has an index of 1, and so forth.\n",
    "\n",
    "** Data types **\n",
    "\n",
    "There are [many data types](https://realpython.com/python-data-types/) in Python, but for now all we care about are:\n",
    "\n",
    "* Integers: whole numbers like 5, 10, -100, 5098\n",
    "* Floats: numbers with decimals like 78.0, -109.8, 50.1234\n",
    "* Strings: anything surrounded by quotes (single or double) like '25', 'windspeed', '2018-01-10' \n",
    "\n",
    "Since each of the values in our `temperature` time series have decimals, Pandas tells us that they're all floats (the 64 refers to the 32 vs 64 bit...not important for us now)."
   ]
  },
  {
   "cell_type": "markdown",
   "metadata": {},
   "source": [
    "---\n",
    "<span style=\"color:red; font-size:20px; font-weight:bold\">In-class exercise</span>\n",
    "\n",
    "Here is a table showing the last 6 years of annual-average temperatures over Las Vegas, Nevada. <span \"style=font-size:20px\">🎲</span>\n",
    "\n",
    "| Year | Temp (F)|\n",
    "|---|---|\n",
    "|2012|71.2|\n",
    "|2013|69.8|\n",
    "|2014|72.0|\n",
    "|2015|71.8|\n",
    "|2016|71.6|\n",
    "|2017|72.3|\n",
    "\n",
    "Instructions: \n",
    "\n",
    "1. Create a new cell beneath this one and make sure you're in \"code\" mode in the drop-down menu.\n",
    "2. Create a Pandas Series called `vegas_temps` storing the last 6 annual-average temperatures over Las Vegas, NV.\n",
    "3. Print the Series to confirm that each value is a float."
   ]
  },
  {
   "cell_type": "code",
   "execution_count": 25,
   "metadata": {},
   "outputs": [
    {
     "name": "stdout",
     "output_type": "stream",
     "text": [
      "72.3\n"
     ]
    }
   ],
   "source": [
    "vegas_temps = pd.Series(data=[71.2, 69.8, 72, 71.8, 71.6, 72.3],\n",
    "                       index=[2012, 2013, 2014, 2015, 2016, 2017])\n",
    "print(vegas_temps.max())"
   ]
  },
  {
   "cell_type": "markdown",
   "metadata": {},
   "source": [
    "## Modifying the index\n",
    "\n",
    "Having an index of 0, 1, 2, etc., is not that useful to us. \n",
    "\n",
    "Instead, having an index like the years (e.g. \"2011, 2012, 2013\"..) associated with our data set would be helpful! \n",
    "\n",
    "Pandas makes this easy to do. Let's return to the 2008-2017 CA average temperature dataset and add years to the index of the Series. "
   ]
  },
  {
   "cell_type": "code",
   "execution_count": 20,
   "metadata": {},
   "outputs": [
    {
     "name": "stdout",
     "output_type": "stream",
     "text": [
      "0    58.9\n",
      "1    58.8\n",
      "2    57.7\n",
      "3    57.4\n",
      "4    59.5\n",
      "5    59.3\n",
      "6    61.4\n",
      "7    60.8\n",
      "8    60.1\n",
      "9    60.3\n",
      "dtype: float64\n"
     ]
    }
   ],
   "source": [
    "# Recall what the unmodified Series looks like\n",
    "print(tavg_series)"
   ]
  },
  {
   "cell_type": "code",
   "execution_count": 23,
   "metadata": {},
   "outputs": [
    {
     "name": "stdout",
     "output_type": "stream",
     "text": [
      "2008    58.9\n",
      "2009    58.8\n",
      "2010    57.7\n",
      "2011    57.4\n",
      "2012    59.5\n",
      "2013    59.3\n",
      "2014    61.4\n",
      "2015    60.8\n",
      "2016    60.1\n",
      "2017    60.3\n",
      "dtype: float64\n"
     ]
    }
   ],
   "source": [
    "# Assign corresponding years to the index\n",
    "tavg_series_with_index = pd.Series(data=[58.9, 58.8, 57.7, 57.4, 59.5, 59.3, 61.4, 60.8, 60.1, 60.3], \n",
    "                        index=[2008, 2009, 2010, 2011, 2012, 2013, 2014, 2015, 2016, 2017])\n",
    "print(tavg_series_with_index)"
   ]
  },
  {
   "cell_type": "markdown",
   "metadata": {},
   "source": [
    "To modify the index of a Series, we simply supply the `pd.Series()` command with two arguments: \n",
    "1. A list of values assigned to `data`\n",
    "2. A list of values assigned to `index` "
   ]
  },
  {
   "cell_type": "markdown",
   "metadata": {},
   "source": [
    "---\n",
    "<span style=\"color:red; font-size:20px; font-weight:bold\">In-class exercise</span>\n",
    "\n",
    "Re-create `vegas_temps` in the previous exercise so that the Series has an index ranging from 2012-2017. \n",
    "\n",
    "Instructions:\n",
    "\n",
    "1. Create a new cell beneath this one and make sure you are in \"code\" mode.\n",
    "2. Create a Pandas Series again called `vegas_temps` that contains the Las Vegas temperatures with their corresponding years as the index.\n",
    "---"
   ]
  },
  {
   "cell_type": "markdown",
   "metadata": {},
   "source": [
    "## Simple time series statistics\n",
    "\n",
    "Similar to Numpy statistics on Numpy arrays, Pandas has built-in statistical commands for Pandas Series. "
   ]
  },
  {
   "cell_type": "code",
   "execution_count": 32,
   "metadata": {},
   "outputs": [
    {
     "name": "stdout",
     "output_type": "stream",
     "text": [
      "Min temp =  57.4 degress F\n",
      "Max temp =  61.4 degrees F\n",
      "Mean temp =  59.419999999999995 degrees F\n"
     ]
    }
   ],
   "source": [
    "# Compute the min, max, and mean values in the 2009-2017 CA average temoerature Series\n",
    "# For now, we'll leave the content inside the parenthesis blank\n",
    "min_temp = tavg_series.min()\n",
    "max_temp = tavg_series.max()\n",
    "mean_temp = tavg_series.mean()\n",
    "\n",
    "print(\"Min temp = \", min_temp, \"degress F\")\n",
    "print(\"Max temp = \", max_temp, \"degrees F\")\n",
    "print(\"Mean temp = \", mean_temp, \"degrees F\")\n",
    "\n",
    "# Pro-tip: you can round and format these valus\n",
    "# print('--- Mean temperature rounded to two decimal places ---')\n",
    "# print(\"Mean temp = {:.2f} degrees F\".format(mean_temp))"
   ]
  },
  {
   "cell_type": "markdown",
   "metadata": {},
   "source": [
    "---\n",
    "<span style=\"color:red; font-size:20px; font-weight:bold\">In-class exercise</span>\n",
    "\n",
    "Compute the minimum, maximum, and mean, and standard deviation of temperatures for the 2012-2017 Las Vegas Series. \n",
    "\n",
    "Instructions:\n",
    "\n",
    "1. Create a new cell beneath this one and make sure you're in \"code\" mode. \n",
    "2. Write four lines of code to calculate the min, max, mean, and standard deviation of temperatures during 2012-2017.\n",
    "    * Note: the standard deviation command is `.std()`\n",
    "3. Print the results either on four lines or try to print on one line. \n",
    "    * Bonus: try to use the fancy print formatting shown in the previous cell to round decimals in-line.\n",
    "\n",
    "---"
   ]
  },
  {
   "cell_type": "markdown",
   "metadata": {},
   "source": [
    "## Plotting with Pandas\n",
    "\n",
    "You can use matplotlib to plot Pandas Series, but for even quicker plots, you can use the built-in `plot()` command in Pandas. \n",
    "\n",
    "Let's demonstate with an example:"
   ]
  },
  {
   "cell_type": "code",
   "execution_count": 22,
   "metadata": {},
   "outputs": [
    {
     "data": {
      "text/plain": [
       "<matplotlib.axes._subplots.AxesSubplot at 0x113ee2ac8>"
      ]
     },
     "execution_count": 22,
     "metadata": {},
     "output_type": "execute_result"
    },
    {
     "data": {
      "image/png": "[encoded data removed]",
      "text/plain": [
       "<matplotlib.figure.Figure at 0x10f5d6748>"
      ]
     },
     "metadata": {},
     "output_type": "display_data"
    }
   ],
   "source": [
    "# Create a line plot of our 2011-2018 CA average Series\n",
    "tavg_series.plot(kind='line', \n",
    "                 color='violet', \n",
    "                 title='2011-2018 CA Avg Temperatures')"
   ]
  },
  {
   "cell_type": "markdown",
   "metadata": {},
   "source": [
    "`plot()` takes in at-least three arguments:\n",
    "\n",
    "1. `kind` is type of plot to create. It can be `line`, `bar`, `box`, `scatter`, and many more.\n",
    "2. `color` is the color of the displayed data points. There are 156 [named colors to choose from](https://matplotlib.org/examples/color/named_colors.html).\n",
    "3. `title` is of course the title of the plot. It's a good practice to always include a meaningful one. "
   ]
  },
  {
   "cell_type": "markdown",
   "metadata": {},
   "source": [
    "---\n",
    "<span style=\"color:red; font-size:20px; font-weight:bold\">In-class exercise</span>\n",
    "\n",
    "Make a line plot of the 2012-2017 Las Vegas temperature Series.\n",
    "\n",
    "Instructions: \n",
    "\n",
    "1. [Last time I'll say this!] Create a new cell beneath this one and make sure you're in \"code\" mode. \n",
    "2. Use the `plot()` command to create a line plot of the data stored in `vegas_temps`.\n",
    "3. Choose a color you like and that looks good on a white background. Give your figure a meaninful title. \n",
    "\n",
    "---"
   ]
  },
  {
   "cell_type": "markdown",
   "metadata": {},
   "source": [
    "# Matplotlib plots vs. Pandas plots <span>🤔</span>\n",
    "\n",
    "We've demonstrated that plotting in Python can be accomplished with Matplotlib or Pandas. \n",
    "\n",
    "Which one should we use? Here's my suggestion:\n",
    "\n",
    "* Pandas plotting for quick and unpolished views of a Series\n",
    "* Matplotlib for polished and final visualizations of an array/Series"
   ]
  },
  {
   "cell_type": "markdown",
   "metadata": {},
   "source": [
    "# Slicing data <span>🔪 </span>\n",
    "\n",
    "Slicing means extracting a subset of values in a data set. We can take advantage of the named indices in our Series to slice out various chunks of our dataset. \n",
    "\n",
    "Let's demonstrate slicing on the 2008-2017 CA average temperature Series."
   ]
  },
  {
   "cell_type": "code",
   "execution_count": 26,
   "metadata": {},
   "outputs": [
    {
     "name": "stdout",
     "output_type": "stream",
     "text": [
      "2008    58.9\n",
      "2009    58.8\n",
      "2010    57.7\n",
      "2011    57.4\n",
      "2012    59.5\n",
      "2013    59.3\n",
      "2014    61.4\n",
      "2015    60.8\n",
      "2016    60.1\n",
      "2017    60.3\n",
      "dtype: float64\n"
     ]
    }
   ],
   "source": [
    "# Recall what this Series looks like\n",
    "print(tavg_series_with_index)"
   ]
  },
  {
   "cell_type": "code",
   "execution_count": 27,
   "metadata": {},
   "outputs": [
    {
     "name": "stdout",
     "output_type": "stream",
     "text": [
      "2008    58.9\n",
      "2009    58.8\n",
      "2010    57.7\n",
      "2011    57.4\n",
      "2012    59.5\n",
      "2013    59.3\n",
      "2014    61.4\n",
      "2015    60.8\n",
      "2016    60.1\n",
      "2017    60.3\n",
      "dtype: float64\n"
     ]
    }
   ],
   "source": [
    "# To save us some keystrokes, let's shorten and rename this Series as \"t\"\n",
    "t = tavg_series_with_index\n",
    "\n",
    "print(t)"
   ]
  },
  {
   "cell_type": "markdown",
   "metadata": {},
   "source": [
    "### Slicing out a single value as a single index\n",
    "\n",
    "Syntax: `Series.loc[single index label]` (loc = \"location\")"
   ]
  },
  {
   "cell_type": "code",
   "execution_count": 26,
   "metadata": {},
   "outputs": [
    {
     "name": "stdout",
     "output_type": "stream",
     "text": [
      "58.9\n"
     ]
    }
   ],
   "source": [
    "# Slice one value at a single index location (year 2008)\n",
    "value_2008 = t.loc[2008]\n",
    "print(value_2008)"
   ]
  },
  {
   "cell_type": "markdown",
   "metadata": {},
   "source": [
    "### Slicing out multiple values at multiple indices\n",
    "\n",
    "Syntax: `Series.loc[[list of index labels]]`"
   ]
  },
  {
   "cell_type": "code",
   "execution_count": 27,
   "metadata": {},
   "outputs": [
    {
     "name": "stdout",
     "output_type": "stream",
     "text": [
      "2010    57.7\n",
      "2014    61.4\n",
      "dtype: float64\n"
     ]
    }
   ],
   "source": [
    "# Slice a list of values at multiple index locations\n",
    "values_2010_and_2014 = t.loc[[2010, 2014]]\n",
    "print(values_2010_and_2014)"
   ]
  },
  {
   "cell_type": "markdown",
   "metadata": {},
   "source": [
    "### Slicing out a continuous range of values\n",
    "\n",
    "Syntax: `Series.loc[start index: end index]`"
   ]
  },
  {
   "cell_type": "code",
   "execution_count": 28,
   "metadata": {},
   "outputs": [
    {
     "name": "stdout",
     "output_type": "stream",
     "text": [
      "2011    57.4\n",
      "2012    59.5\n",
      "2013    59.3\n",
      "2014    61.4\n",
      "dtype: float64\n"
     ]
    }
   ],
   "source": [
    "# Slicing a continuous range of index locations \n",
    "values_2010_through_2014 = t.loc[2011:2014]\n",
    "print(values_2010_through_2014)"
   ]
  },
  {
   "cell_type": "markdown",
   "metadata": {},
   "source": [
    "<span style=\"color:red; font-size:20px; font-weight:bold\">In-class exercise</span>\n",
    "\n",
    "Let's practice slicing on a new Series provided below."
   ]
  },
  {
   "cell_type": "code",
   "execution_count": 31,
   "metadata": {},
   "outputs": [
    {
     "data": {
      "text/plain": [
       "<matplotlib.axes._subplots.AxesSubplot at 0x103069630>"
      ]
     },
     "execution_count": 31,
     "metadata": {},
     "output_type": "execute_result"
    },
    {
     "data": {
      "image/png": "[encoded data removed]",
      "text/plain": [
       "<matplotlib.figure.Figure at 0x10f3da9e8>"
      ]
     },
     "metadata": {},
     "output_type": "display_data"
    }
   ],
   "source": [
    "# 1960 - 2015 (every 5 years) CO2 concentrations (parts per million or ppm) at Manua Loa Observatory in Hawaii\n",
    "co2 = pd.Series(data=[316, 319, 325, 331, 338, 345, 355, 361, 369, 378, 389, 400],\n",
    "                index=[1960, 1965, 1970, 1975, 1980, 1985, 1990, 1995, 2000, 2005, 2010, 2015])\n",
    "#print(co2)\n",
    "\n",
    "co2_1985 = co2.loc[1985]\n",
    "co2_75859505 = co2.loc[[1975, 1985, 1995, 2005]]\n",
    "\n",
    "\n",
    "co2_1960_1980 = co2.loc[1960:1980]\n",
    "co2_1990_2010 = co2.loc[1990:2010]\n",
    "\n",
    "change = co2_1990_2010.mean() - co2_1960_1980.mean() \n",
    "\n",
    "\n",
    "co2.plot()"
   ]
  },
  {
   "cell_type": "markdown",
   "metadata": {},
   "source": [
    "Instructions:\n",
    "1. Slice the CO2 concentration during 1985.\n",
    "2. Slice the CO2 concentrations during 1975, 1985, 1995, and 2005.\n",
    "3. Slice the CO2 concentrations during 1960-1980 and 1990-2010.\n",
    "4. Compute the average CO2 concentrations during 1960-1980 and 1990-2010. How much has CO2 increased between these two 20-year time periods?\n",
    "5. Make a line plot of the 1960-2015 CO2 concentrations (using either Pandas or Matplotlib)."
   ]
  },
  {
   "cell_type": "markdown",
   "metadata": {},
   "source": [
    "## Creating date ranges and a DatetimeIndex \n",
    "\n",
    "Manually entering dates into our Series Index is tediuous. \n",
    "\n",
    "Usefully, we can create a [pd.date_range](https://pandas.pydata.org/pandas-docs/stable/generated/pandas.date_range.html) to set some dates as our index. When we do this, Pandas calls the index a \"DatetimeIndex\".\n",
    "\n",
    "`pd.date_range` can create date ranges with [frequency intervals](http://pandas.pydata.org/pandas-docs/stable/timeseries.html#offset-aliases) ranging from nanoseconds to years.\n",
    "\n",
    "Most common to climate data would be date ranges in intervals of hours, days, months, and years:"
   ]
  },
  {
   "cell_type": "code",
   "execution_count": 31,
   "metadata": {},
   "outputs": [
    {
     "data": {
      "text/plain": [
       "DatetimeIndex(['2019-01-13 00:00:00', '2019-01-13 01:00:00',\n",
       "               '2019-01-13 02:00:00', '2019-01-13 03:00:00',\n",
       "               '2019-01-13 04:00:00', '2019-01-13 05:00:00',\n",
       "               '2019-01-13 06:00:00', '2019-01-13 07:00:00',\n",
       "               '2019-01-13 08:00:00', '2019-01-13 09:00:00',\n",
       "               '2019-01-13 10:00:00', '2019-01-13 11:00:00',\n",
       "               '2019-01-13 12:00:00', '2019-01-13 13:00:00',\n",
       "               '2019-01-13 14:00:00', '2019-01-13 15:00:00',\n",
       "               '2019-01-13 16:00:00', '2019-01-13 17:00:00',\n",
       "               '2019-01-13 18:00:00', '2019-01-13 19:00:00',\n",
       "               '2019-01-13 20:00:00', '2019-01-13 21:00:00',\n",
       "               '2019-01-13 22:00:00', '2019-01-13 23:00:00',\n",
       "               '2019-01-14 00:00:00'],\n",
       "              dtype='datetime64[ns]', freq='H')"
      ]
     },
     "execution_count": 31,
     "metadata": {},
     "output_type": "execute_result"
    }
   ],
   "source": [
    "# Range of dates incremented by hours ['H'], starting on midnight 1/13 and ending on midnight 1/14\n",
    "pd.date_range(start='2019-01-13', end='2019-01-14', freq='H')"
   ]
  },
  {
   "cell_type": "code",
   "execution_count": 32,
   "metadata": {},
   "outputs": [
    {
     "data": {
      "text/plain": [
       "DatetimeIndex(['2019-01-13', '2019-01-14', '2019-01-15', '2019-01-16',\n",
       "               '2019-01-17', '2019-01-18', '2019-01-19'],\n",
       "              dtype='datetime64[ns]', freq='D')"
      ]
     },
     "execution_count": 32,
     "metadata": {},
     "output_type": "execute_result"
    }
   ],
   "source": [
    "# Range of dates incremented by days ['D'], starting on 1/13 and ending on 1/19\n",
    "pd.date_range(start='2019-01-13', end='2019-01-19', freq='D')"
   ]
  },
  {
   "cell_type": "code",
   "execution_count": 33,
   "metadata": {},
   "outputs": [
    {
     "data": {
      "text/plain": [
       "DatetimeIndex(['2018-01-31', '2018-02-28', '2018-03-31', '2018-04-30',\n",
       "               '2018-05-31', '2018-06-30', '2018-07-31', '2018-08-31',\n",
       "               '2018-09-30', '2018-10-31', '2018-11-30'],\n",
       "              dtype='datetime64[ns]', freq='M')"
      ]
     },
     "execution_count": 33,
     "metadata": {},
     "output_type": "execute_result"
    }
   ],
   "source": [
    "# Range of dates incremented by the end of the month ['M'] for all of 2018\n",
    "# NOTE: the final month is *not* included here\n",
    "pd.date_range(start='2018-01', end='2018-12', freq='M')"
   ]
  },
  {
   "cell_type": "code",
   "execution_count": 34,
   "metadata": {},
   "outputs": [
    {
     "data": {
      "text/plain": [
       "DatetimeIndex(['2018-01-01', '2018-02-01', '2018-03-01', '2018-04-01',\n",
       "               '2018-05-01', '2018-06-01', '2018-07-01', '2018-08-01',\n",
       "               '2018-09-01', '2018-10-01', '2018-11-01', '2018-12-01'],\n",
       "              dtype='datetime64[ns]', freq='MS')"
      ]
     },
     "execution_count": 34,
     "metadata": {},
     "output_type": "execute_result"
    }
   ],
   "source": [
    "# Range of dates incremented by the start of each month ['MS'] for all of 2018\n",
    "# NOTE: the final month is included here\n",
    "pd.date_range(start='2018-01', end='2018-12', freq='MS')"
   ]
  },
  {
   "cell_type": "code",
   "execution_count": 35,
   "metadata": {},
   "outputs": [
    {
     "data": {
      "text/plain": [
       "DatetimeIndex(['2010-12-31', '2011-12-31', '2012-12-31', '2013-12-31',\n",
       "               '2014-12-31', '2015-12-31', '2016-12-31', '2017-12-31'],\n",
       "              dtype='datetime64[ns]', freq='A-DEC')"
      ]
     },
     "execution_count": 35,
     "metadata": {},
     "output_type": "execute_result"
    }
   ],
   "source": [
    "# Range of dates incremented by the end of each year ['A'] (annual) from 2010-2018\n",
    "# NOTE: the final year is *not* included here\n",
    "pd.date_range(start='2010', end='2018', freq='A')"
   ]
  },
  {
   "cell_type": "code",
   "execution_count": 36,
   "metadata": {},
   "outputs": [
    {
     "data": {
      "text/plain": [
       "DatetimeIndex(['2010-01-01', '2011-01-01', '2012-01-01', '2013-01-01',\n",
       "               '2014-01-01', '2015-01-01', '2016-01-01', '2017-01-01',\n",
       "               '2018-01-01'],\n",
       "              dtype='datetime64[ns]', freq='AS-JAN')"
      ]
     },
     "execution_count": 36,
     "metadata": {},
     "output_type": "execute_result"
    }
   ],
   "source": [
    "# Range of dates incremented by the start of each year ['AS'] (annual start)' from 2010-2018\n",
    "# Note: the final year is included here\n",
    "pd.date_range(start='2010', end='2018', freq='AS')"
   ]
  },
  {
   "cell_type": "markdown",
   "metadata": {},
   "source": [
    "<span style=\"color:red; font-size:20px; font-weight:bold\">In-class exercise</span>\n",
    "\n",
    "Let's re-create the 2008-2017 CA average Series once more, this time using the `pd.date_range()` function to improve our code when we create the index.\n",
    "\n",
    "As a reminder, this is what the Series currently looks like:"
   ]
  },
  {
   "cell_type": "code",
   "execution_count": 37,
   "metadata": {},
   "outputs": [
    {
     "name": "stdout",
     "output_type": "stream",
     "text": [
      "2008    58.9\n",
      "2009    58.8\n",
      "2010    57.7\n",
      "2011    57.4\n",
      "2012    59.5\n",
      "2013    59.3\n",
      "2014    61.4\n",
      "2015    60.8\n",
      "2016    60.1\n",
      "2017    60.3\n",
      "dtype: float64\n"
     ]
    }
   ],
   "source": [
    "print(tavg_series_with_index)"
   ]
  },
  {
   "cell_type": "markdown",
   "metadata": {},
   "source": [
    "Instructions:\n",
    "1. Create a new variable called `year_range` that is a Pandas date range spaning the start of each year from 2008 through 2017.\n",
    "2. Create a new series called `tavg_final` with `year_range` as the new DatetimeIndex and the temperature values from before. "
   ]
  },
  {
   "cell_type": "code",
   "execution_count": 37,
   "metadata": {},
   "outputs": [
    {
     "data": {
      "text/plain": [
       "2008-01-01    58.9\n",
       "2009-01-01    58.8\n",
       "2010-01-01    57.7\n",
       "2011-01-01    57.4\n",
       "2012-01-01    59.5\n",
       "2013-01-01    59.3\n",
       "2014-01-01    61.4\n",
       "2015-01-01    60.8\n",
       "2016-01-01    60.1\n",
       "2017-01-01    60.3\n",
       "Freq: AS-JAN, dtype: float64"
      ]
     },
     "execution_count": 37,
     "metadata": {},
     "output_type": "execute_result"
    }
   ],
   "source": [
    "year_range = pd.date_range(start='2008', end='2017', freq='AS')\n",
    "tavg_final = pd.Series(data=[58.9, 58.8, 57.7, 57.4, 59.5, 59.3, 61.4, 60.8, 60.1, 60.3],\n",
    "                      index=year_range)\n",
    "tavg_final"
   ]
  },
  {
   "cell_type": "markdown",
   "metadata": {},
   "source": [
    "## Resampling date ranges \n",
    "\n",
    "Using `pd.date_range()` not only helps us set the index for climate data sets, but it also allows us to efficiently \"resample\" the data.\n",
    "\n",
    "Resample simply means going from one time frequency to another, like converting daily to monthly or monthly to annual.\n",
    "\n",
    "To do this, we'll use the `pd.resample()` function in Pandas.\n",
    "\n",
    "The general syntax for resampling and computing statistics over the new frequency is:\n",
    "\n",
    "`[name_of_Series].resample([new frequency]).[statistic]`\n",
    "\n",
    "where:\n",
    "   * name of Series = the name of the Series you want to resample\n",
    "   * new frequency = new and lower frequency type (same as we used before, e.g. 'MS', 'AS') \n",
    "   * statistic = mean(), min(), max(), sum(), etc...however we want to compress the data\n",
    "   \n",
    "Let's demonstrate:"
   ]
  },
  {
   "cell_type": "code",
   "execution_count": 59,
   "metadata": {},
   "outputs": [
    {
     "name": "stdout",
     "output_type": "stream",
     "text": [
      "2016-01-01    54\n",
      "2016-02-01    52\n",
      "2016-03-01    61\n",
      "2016-04-01    64\n",
      "2016-05-01    67\n",
      "2016-06-01    71\n",
      "2016-07-01    76\n",
      "2016-08-01    78\n",
      "2016-09-01    81\n",
      "2016-10-01    76\n",
      "2016-11-01    69\n",
      "2016-12-01    61\n",
      "2017-01-01    49\n",
      "2017-02-01    51\n",
      "2017-03-01    55\n",
      "2017-04-01    62\n",
      "2017-05-01    63\n",
      "2017-06-01    70\n",
      "2017-07-01    71\n",
      "2017-08-01    71\n",
      "2017-09-01    74\n",
      "2017-10-01    71\n",
      "2017-11-01    64\n",
      "2017-12-01    53\n",
      "2018-01-01    50\n",
      "2018-02-01    51\n",
      "2018-03-01    60\n",
      "2018-04-01    60\n",
      "2018-05-01    61\n",
      "2018-06-01    67\n",
      "2018-07-01    72\n",
      "2018-08-01    70\n",
      "2018-09-01    69\n",
      "2018-10-01    65\n",
      "2018-11-01    62\n",
      "2018-12-01    52\n",
      "Freq: MS, dtype: int64\n"
     ]
    }
   ],
   "source": [
    "# 2016, 2017, and 2018 monthly average temperatures (dummy data)\n",
    "temp2016 = np.array([54, 52, 61, 64, 67, 71, 76, 78, 81, 76, 69, 61])\n",
    "temp2017 = np.array([49, 51, 55, 62, 63, 70, 71, 71, 74, 71, 64, 53])\n",
    "temp2018 = np.array([50, 51, 60, 60, 61, 67, 72, 70, 69, 65, 62, 52])\n",
    "\n",
    "# Stack three years of data together to form a single 36 month-long array\n",
    "allyears_array = np.hstack((temp2016, temp2017, temp2018))\n",
    "\n",
    "# Convert the numpy array to a Pandas Series and assign a DatetimeIndex\n",
    "allyears_series = pd.Series(data=allyears_array,\n",
    "                           index=pd.date_range(start='2016-01-01', end='2018-12-01', freq='MS'))\n",
    "print(allyears_series)"
   ]
  },
  {
   "cell_type": "markdown",
   "metadata": {},
   "source": [
    "So, we have a 3-year (36 months) time series of monthly temperature.\n",
    "\n",
    "How can we compute which of these 3 years was the warmest? \n",
    "\n",
    "Let's resample the data to form annual averages!"
   ]
  },
  {
   "cell_type": "code",
   "execution_count": 63,
   "metadata": {},
   "outputs": [
    {
     "name": "stdout",
     "output_type": "stream",
     "text": [
      "2016-01-01    67.500000\n",
      "2017-01-01    62.833333\n",
      "2018-01-01    61.583333\n",
      "Freq: AS-JAN, dtype: float64\n"
     ]
    }
   ],
   "source": [
    "# Resampling from monthly to annual frequency, taking the mean when forming annual data\n",
    "# Recall that 'A' = 'Annual' (could also use AS or annual start)\n",
    "allyears_annual_series = allyears_series.resample('AS').mean()\n",
    "print(allyears_annual_series)"
   ]
  },
  {
   "cell_type": "markdown",
   "metadata": {},
   "source": [
    "Voila! Resampling quickly shows us that 2016 was the warmest of these three years. "
   ]
  },
  {
   "cell_type": "markdown",
   "metadata": {},
   "source": [
    "---\n",
    "<span style=\"color:red; font-size:20px; font-weight:bold\">In-class exercise</span>\n",
    "\n",
    "Let's practice resampling, this time going from hourly intervals to daily intervals. \n",
    "\n",
    "Below is a list of 2018-09-01 (midnight) through 2018-09-05 (midnight) hourly windspeed <span style=\"font-size:24px\">💨</span>values (unit miles per hour):"
   ]
  },
  {
   "cell_type": "code",
   "execution_count": 43,
   "metadata": {},
   "outputs": [
    {
     "name": "stdout",
     "output_type": "stream",
     "text": [
      "2018-09-01    24\n",
      "2018-09-02    24\n",
      "2018-09-03    23\n",
      "2018-09-04    25\n",
      "2018-09-05    12\n",
      "Freq: D, dtype: int64\n"
     ]
    }
   ],
   "source": [
    "# Each row is a day's worth (24 hours) of windspeeds (miles per hour) from midnight 9/1 to midnight 9/5\n",
    "windspeed = [15, 10, 13, 23, 9, 9, 13, 3, 4, 23, 11, 24, 6, 18, 10, 19, 18, 9, 9, 2, 4, 19, 0, 1, \n",
    "             22, 18, 21, 21, 18, 18, 9, 20, 18, 4, 18, 5, 2, 2, 19, 21, 9, 8, 17, 12, 16, 15, 4, 24, \n",
    "             20, 18, 21, 7, 20, 12, 5, 20, 23, 21, 0, 12, 8, 1, 15, 2, 21, 7, 20, 3, 13, 10, 23, 21, \n",
    "             5, 3, 15, 6, 4, 8, 17, 14, 6, 11, 24, 2, 14, 8, 10, 5, 9, 25, 1, 13, 20, 3, 3, 11, \n",
    "             12]\n",
    "\n",
    "\n",
    "hours = pd.date_range(start='2018-09-01', end='2018-09-05', freq='H')\n",
    "ws = pd.Series(data=windspeed,\n",
    "              index=hours)\n",
    "\n",
    "\n",
    "print(ws.resample('D').max())"
   ]
  },
  {
   "cell_type": "markdown",
   "metadata": {},
   "source": [
    "Instructions:\n",
    "\n",
    "1. Create a variable called `hours` and assign it a date range of hours from 2018-09-01 (midnight) trough 2018-09-05 (midnight) \n",
    "2. Create a new Pandas Series called `ws` with the `windspeed` values above and `hours` as the index.\n",
    "3. Make a time series plot of the hourly windspeeds using Matplotlib. \n",
    " - Tip #1: For the x-variable (time), you can use the `hours` variable create in (1), but it will give you some strange looking tickmarks. Try the [range](https://docs.python.org/3/library/functions.html#func-range) command in Python to generate a range of values equal to the number of hours in the time series.\n",
    " - Tip #2: Looking to find the length of a list, array, or Series? Try the [len](https://docs.python.org/3/library/functions.html#len) command. \n",
    "4. Compute the daily *maximum* windspeed using the resample function and assign the results to a new variable called `ws_max`.  \n",
    "5. Compute the daily *minimum* windspeed using the resample function and assign the results to a new variable called `ws_min`.  \n",
    "6. Print the daily max and min windspeeds for all days. \n",
    "\n",
    "---"
   ]
  },
  {
   "cell_type": "code",
   "execution_count": null,
   "metadata": {},
   "outputs": [],
   "source": []
  }
 ],
 "metadata": {
  "kernelspec": {
   "display_name": "Python 3",
   "language": "python",
   "name": "python3"
  },
  "language_info": {
   "codemirror_mode": {
    "name": "ipython",
    "version": 3
   },
   "file_extension": ".py",
   "mimetype": "text/x-python",
   "name": "python",
   "nbconvert_exporter": "python",
   "pygments_lexer": "ipython3",
   "version": "3.5.4"
  }
 },
 "nbformat": 4,
 "nbformat_minor": 2
}
